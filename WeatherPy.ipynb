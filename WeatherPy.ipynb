{
 "cells": [
  {
   "cell_type": "markdown",
   "metadata": {},
   "source": [
    "# WeatherPy\n",
    "----\n",
    "\n",
    "#### Note\n",
    "* Instructions have been included for each segment. You do not have to follow them exactly, but they are included to help you think through the steps."
   ]
  },
  {
   "cell_type": "code",
   "execution_count": 1,
   "metadata": {
    "scrolled": true
   },
   "outputs": [],
   "source": [
    "#Obervation 1: With Lat vs Temperature, we can see that as the latitude increases beyond 20 or decreases belowe -20 then the temperature will also decrease. It also makes sense to note that the highest temperature lies around the equator\r\n",
    "#Observation 2: Although cloudiness is very random/scattered, we can see that in the northern hemisphere there is a higher percentage of clouds ranging 50% and above noting that there are more instances of cloudiness at 100%\r\n",
    "#Observation 3: From the linear regression data for windspeed, the windspeed gradually increases the further north we go within the northern hemisphere whereas for the southern hemisphere the further north or closer to the equator we go, the wind decreases. \r\n",
    "                # But the wind speed increase/decrease is minimal. \r\n",
    "\r\n",
    "# Dependencies and Setup\r\n",
    "import matplotlib.pyplot as plt\r\n",
    "import pandas as pd\r\n",
    "import numpy as np\r\n",
    "import requests\r\n",
    "import time\r\n",
    "from scipy.stats import linregress\r\n",
    "\r\n",
    "# Import API key\r\n",
    "from api_keys import weather_api_key\r\n",
    "\r\n",
    "# Incorporated citipy to determine city based on latitude and longitude\r\n",
    "from citipy import citipy\r\n",
    "\r\n",
    "# Output File (CSV)\r\n",
    "output_data_file = \"output_data/cities.csv\"\r\n",
    "\r\n",
    "# Range of latitudes and longitudes\r\n",
    "lat_range = (-90, 90)\r\n",
    "lng_range = (-180, 180)"
   ]
  },
  {
   "cell_type": "markdown",
   "metadata": {},
   "source": [
    "## Generate Cities List"
   ]
  },
  {
   "cell_type": "code",
   "execution_count": 2,
   "metadata": {},
   "outputs": [
    {
     "data": {
      "text/plain": [
       "624"
      ]
     },
     "execution_count": 2,
     "metadata": {},
     "output_type": "execute_result"
    }
   ],
   "source": [
    "# List for holding lat_lngs and cities\n",
    "lat_lngs = []\n",
    "cities = []\n",
    "\n",
    "# Create a set of random lat and lng combinations\n",
    "lats = np.random.uniform(lat_range[0], lat_range[1], size=1500)\n",
    "lngs = np.random.uniform(lng_range[0], lng_range[1], size=1500)\n",
    "lat_lngs = zip(lats, lngs)\n",
    "\n",
    "# Identify nearest city for each lat, lng combination\n",
    "for lat_lng in lat_lngs:\n",
    "    city = citipy.nearest_city(lat_lng[0], lat_lng[1]).city_name\n",
    "    \n",
    "    # If the city is unique, then add it to a our cities list\n",
    "    if city not in cities:\n",
    "        cities.append(city)\n",
    "\n",
    "# Print the city count to confirm sufficient count\n",
    "len(cities)"
   ]
  },
  {
   "cell_type": "code",
   "execution_count": 3,
   "metadata": {},
   "outputs": [
    {
     "data": {
      "text/plain": [
       "<zip at 0x183a0922ac8>"
      ]
     },
     "execution_count": 3,
     "metadata": {},
     "output_type": "execute_result"
    }
   ],
   "source": [
    "lat_lngs"
   ]
  },
  {
   "cell_type": "markdown",
   "metadata": {},
   "source": [
    "### Perform API Calls\n",
    "* Perform a weather check on each city using a series of successive API calls.\n",
    "* Include a print log of each city as it'sbeing processed (with the city number and city name).\n"
   ]
  },
  {
   "cell_type": "code",
   "execution_count": 4,
   "metadata": {
    "scrolled": true
   },
   "outputs": [],
   "source": [
    "url =  \"http://api.openweathermap.org/data/2.5/weather?units=Imperial&APPID=\" + weather_api_key"
   ]
  },
  {
   "cell_type": "code",
   "execution_count": null,
   "metadata": {},
   "outputs": [],
   "source": []
  },
  {
   "cell_type": "code",
   "execution_count": 5,
   "metadata": {},
   "outputs": [
    {
     "name": "stdout",
     "output_type": "stream",
     "text": [
      "Beginning Data Retrieval\n",
      "-----------------------------\n",
      "Processing record set 1 of 624 with the city named vaini\n",
      "Processing record set 2 of 624 with the city named hay river\n",
      "Processing record set 3 of 624 with the city named belushya guba\n",
      "Error, city not found\n",
      "Processing record set 4 of 624 with the city named ushuaia\n",
      "Processing record set 5 of 624 with the city named zolotukhino\n",
      "Processing record set 6 of 624 with the city named yar-sale\n",
      "Processing record set 7 of 624 with the city named mataura\n",
      "Processing record set 8 of 624 with the city named argalasti\n",
      "Processing record set 9 of 624 with the city named ribeira grande\n",
      "Processing record set 10 of 624 with the city named boralday\n",
      "Processing record set 11 of 624 with the city named punta arenas\n",
      "Processing record set 12 of 624 with the city named grand river south east\n",
      "Error, city not found\n",
      "Processing record set 13 of 624 with the city named kurilsk\n",
      "Processing record set 14 of 624 with the city named salalah\n",
      "Processing record set 15 of 624 with the city named rikitea\n",
      "Processing record set 16 of 624 with the city named hilo\n",
      "Processing record set 17 of 624 with the city named kaitangata\n",
      "Processing record set 18 of 624 with the city named nipawin\n",
      "Processing record set 19 of 624 with the city named baykit\n",
      "Processing record set 20 of 624 with the city named hermanus\n",
      "Processing record set 21 of 624 with the city named cap-aux-meules\n",
      "Processing record set 22 of 624 with the city named coihaique\n",
      "Processing record set 23 of 624 with the city named saint-georges\n",
      "Processing record set 24 of 624 with the city named albany\n",
      "Processing record set 25 of 624 with the city named busselton\n",
      "Processing record set 26 of 624 with the city named rizhao\n",
      "Processing record set 27 of 624 with the city named tasiilaq\n",
      "Processing record set 28 of 624 with the city named samusu\n",
      "Error, city not found\n",
      "Processing record set 29 of 624 with the city named dikson\n",
      "Processing record set 30 of 624 with the city named dingle\n",
      "Processing record set 31 of 624 with the city named san juan de abajo\n",
      "Processing record set 32 of 624 with the city named saint-philippe\n",
      "Processing record set 33 of 624 with the city named sorab\n",
      "Processing record set 34 of 624 with the city named avarua\n",
      "Processing record set 35 of 624 with the city named upernavik\n",
      "Processing record set 36 of 624 with the city named san angelo\n",
      "Processing record set 37 of 624 with the city named yellowknife\n",
      "Processing record set 38 of 624 with the city named flinders\n",
      "Processing record set 39 of 624 with the city named chokurdakh\n",
      "Processing record set 40 of 624 with the city named atyrau\n",
      "Processing record set 41 of 624 with the city named margate\n",
      "Processing record set 42 of 624 with the city named hobyo\n",
      "Processing record set 43 of 624 with the city named barrow\n",
      "Processing record set 44 of 624 with the city named serchhip\n",
      "Processing record set 45 of 624 with the city named castro\n",
      "Processing record set 46 of 624 with the city named airai\n",
      "Processing record set 47 of 624 with the city named longyearbyen\n",
      "Processing record set 48 of 624 with the city named sola\n",
      "Processing record set 49 of 624 with the city named amderma\n",
      "Error, city not found\n",
      "Processing record set 50 of 624 with the city named port alfred\n",
      "Processing record set 51 of 624 with the city named butaritari\n",
      "Processing record set 52 of 624 with the city named oktyabrskoye\n",
      "Processing record set 53 of 624 with the city named bluff\n",
      "Processing record set 54 of 624 with the city named arraial do cabo\n",
      "Processing record set 55 of 624 with the city named edwardsville\n",
      "Processing record set 56 of 624 with the city named saint george\n",
      "Processing record set 57 of 624 with the city named mar del plata\n",
      "Processing record set 58 of 624 with the city named bodden town\n",
      "Processing record set 59 of 624 with the city named kapaa\n",
      "Processing record set 60 of 624 with the city named muyezerskiy\n",
      "Processing record set 61 of 624 with the city named wanning\n",
      "Processing record set 62 of 624 with the city named kavaratti\n",
      "Processing record set 63 of 624 with the city named kenai\n",
      "Processing record set 64 of 624 with the city named thompson\n",
      "Processing record set 65 of 624 with the city named kodiak\n",
      "Processing record set 66 of 624 with the city named tiksi\n",
      "Processing record set 67 of 624 with the city named jamestown\n",
      "Processing record set 68 of 624 with the city named carnarvon\n",
      "Processing record set 69 of 624 with the city named hasaki\n",
      "Processing record set 70 of 624 with the city named hobart\n",
      "Processing record set 71 of 624 with the city named aguie\n",
      "Processing record set 72 of 624 with the city named leningradskiy\n",
      "Processing record set 73 of 624 with the city named bolshaya sosnova\n",
      "Processing record set 74 of 624 with the city named acapulco\n",
      "Processing record set 75 of 624 with the city named bengkulu\n",
      "Processing record set 76 of 624 with the city named iseyin\n",
      "Processing record set 77 of 624 with the city named saldanha\n",
      "Processing record set 78 of 624 with the city named grande prairie\n",
      "Processing record set 79 of 624 with the city named sume\n",
      "Processing record set 80 of 624 with the city named huarmey\n",
      "Processing record set 81 of 624 with the city named sobolevo\n",
      "Processing record set 82 of 624 with the city named zhuanghe\n",
      "Processing record set 83 of 624 with the city named shirokiy\n",
      "Processing record set 84 of 624 with the city named nam tha\n",
      "Error, city not found\n",
      "Processing record set 85 of 624 with the city named alexandria\n",
      "Processing record set 86 of 624 with the city named nikolskoye\n",
      "Processing record set 87 of 624 with the city named marawi\n",
      "Processing record set 88 of 624 with the city named cape town\n",
      "Processing record set 89 of 624 with the city named cervo\n",
      "Processing record set 90 of 624 with the city named corinto\n",
      "Processing record set 91 of 624 with the city named bathsheba\n",
      "Processing record set 92 of 624 with the city named kondinskoye\n",
      "Processing record set 93 of 624 with the city named jizan\n",
      "Processing record set 94 of 624 with the city named east london\n",
      "Processing record set 95 of 624 with the city named nefteyugansk\n",
      "Processing record set 96 of 624 with the city named blantyre\n",
      "Processing record set 97 of 624 with the city named dalaba\n",
      "Processing record set 98 of 624 with the city named san patricio\n",
      "Processing record set 99 of 624 with the city named tessalit\n",
      "Processing record set 100 of 624 with the city named meulaboh\n",
      "Processing record set 101 of 624 with the city named asau\n",
      "Processing record set 102 of 624 with the city named constitucion\n",
      "Processing record set 103 of 624 with the city named vegreville\n",
      "Processing record set 104 of 624 with the city named vaitupu\n",
      "Error, city not found\n",
      "Processing record set 105 of 624 with the city named chapais\n",
      "Processing record set 106 of 624 with the city named lisburn\n",
      "Processing record set 107 of 624 with the city named rabak\n",
      "Processing record set 108 of 624 with the city named lebanon\n",
      "Processing record set 109 of 624 with the city named bredasdorp\n",
      "Processing record set 110 of 624 with the city named alofi\n",
      "Processing record set 111 of 624 with the city named qaanaaq\n",
      "Processing record set 112 of 624 with the city named fairbanks\n",
      "Processing record set 113 of 624 with the city named new norfolk\n",
      "Processing record set 114 of 624 with the city named provideniya\n",
      "Processing record set 115 of 624 with the city named ipira\n",
      "Processing record set 116 of 624 with the city named victoria\n",
      "Processing record set 117 of 624 with the city named abu dhabi\n",
      "Processing record set 118 of 624 with the city named kankon\n",
      "Processing record set 119 of 624 with the city named avanigadda\n",
      "Processing record set 120 of 624 with the city named arman\n",
      "Processing record set 121 of 624 with the city named okha\n",
      "Processing record set 122 of 624 with the city named barcelos\n",
      "Processing record set 123 of 624 with the city named rocha\n",
      "Processing record set 124 of 624 with the city named kachug\n",
      "Processing record set 125 of 624 with the city named attawapiskat\n",
      "Error, city not found\n",
      "Processing record set 126 of 624 with the city named taolanaro\n",
      "Error, city not found\n",
      "Processing record set 127 of 624 with the city named saskylakh\n",
      "Processing record set 128 of 624 with the city named rio grande\n",
      "Processing record set 129 of 624 with the city named atuona\n",
      "Processing record set 130 of 624 with the city named puerto ayora\n",
      "Processing record set 131 of 624 with the city named alice springs\n",
      "Processing record set 132 of 624 with the city named ancud\n",
      "Processing record set 133 of 624 with the city named iskateley\n",
      "Processing record set 134 of 624 with the city named nizhneyansk\n",
      "Error, city not found\n",
      "Processing record set 135 of 624 with the city named mahebourg\n",
      "Processing record set 136 of 624 with the city named mys shmidta\n",
      "Error, city not found\n",
      "Processing record set 137 of 624 with the city named hithadhoo\n",
      "Processing record set 138 of 624 with the city named linhai\n",
      "Processing record set 139 of 624 with the city named toliary\n",
      "Error, city not found\n",
      "Processing record set 140 of 624 with the city named vidim\n",
      "Processing record set 141 of 624 with the city named coquimbo\n",
      "Processing record set 142 of 624 with the city named antofagasta\n",
      "Processing record set 143 of 624 with the city named kodinsk\n",
      "Processing record set 144 of 624 with the city named shujalpur\n",
      "Processing record set 145 of 624 with the city named tuatapere\n",
      "Processing record set 146 of 624 with the city named talcahuano\n",
      "Processing record set 147 of 624 with the city named port elizabeth\n",
      "Processing record set 148 of 624 with the city named georgetown\n",
      "Processing record set 149 of 624 with the city named adrar\n",
      "Processing record set 150 of 624 with the city named na klang\n",
      "Processing record set 151 of 624 with the city named tongzi\n",
      "Processing record set 152 of 624 with the city named araouane\n",
      "Processing record set 153 of 624 with the city named tuktoyaktuk\n",
      "Processing record set 154 of 624 with the city named severo-kurilsk\n",
      "Processing record set 155 of 624 with the city named geraldton\n",
      "Processing record set 156 of 624 with the city named portland\n",
      "Processing record set 157 of 624 with the city named jinka\n",
      "Processing record set 158 of 624 with the city named itarema\n",
      "Processing record set 159 of 624 with the city named zhangye\n",
      "Processing record set 160 of 624 with the city named westport\n",
      "Processing record set 161 of 624 with the city named susanville\n",
      "Processing record set 162 of 624 with the city named satitoa\n",
      "Error, city not found\n",
      "Processing record set 163 of 624 with the city named lata\n",
      "Processing record set 164 of 624 with the city named kruisfontein\n",
      "Processing record set 165 of 624 with the city named ostrovnoy\n",
      "Processing record set 166 of 624 with the city named faanui\n",
      "Processing record set 167 of 624 with the city named diego de almagro\n",
      "Processing record set 168 of 624 with the city named viedma\n",
      "Processing record set 169 of 624 with the city named karkaralinsk\n",
      "Error, city not found\n",
      "Processing record set 170 of 624 with the city named mala vyska\n",
      "Processing record set 171 of 624 with the city named bethel\n",
      "Processing record set 172 of 624 with the city named cidreira\n",
      "Processing record set 173 of 624 with the city named yenotayevka\n",
      "Processing record set 174 of 624 with the city named cabatuan\n",
      "Processing record set 175 of 624 with the city named souillac\n",
      "Processing record set 176 of 624 with the city named bud\n",
      "Processing record set 177 of 624 with the city named komsomolskiy\n",
      "Processing record set 178 of 624 with the city named rincon\n",
      "Processing record set 179 of 624 with the city named nabire\n",
      "Processing record set 180 of 624 with the city named vestmannaeyjar\n",
      "Processing record set 181 of 624 with the city named tezu\n",
      "Processing record set 182 of 624 with the city named bow island\n",
      "Processing record set 183 of 624 with the city named lagoa\n",
      "Processing record set 184 of 624 with the city named esperance\n",
      "Processing record set 185 of 624 with the city named bhandara\n",
      "Processing record set 186 of 624 with the city named ponta do sol\n",
      "Processing record set 187 of 624 with the city named nepa nagar\n",
      "Processing record set 188 of 624 with the city named emerald\n",
      "Processing record set 189 of 624 with the city named cottonwood heights\n",
      "Processing record set 190 of 624 with the city named choix\n",
      "Processing record set 191 of 624 with the city named talaya\n",
      "Processing record set 192 of 624 with the city named riyadh\n",
      "Processing record set 193 of 624 with the city named killybegs\n",
      "Processing record set 194 of 624 with the city named york\n",
      "Processing record set 195 of 624 with the city named saint-augustin\n",
      "Processing record set 196 of 624 with the city named los llanos de aridane\n",
      "Processing record set 197 of 624 with the city named amahai\n",
      "Processing record set 198 of 624 with the city named haines junction\n",
      "Processing record set 199 of 624 with the city named moose factory\n",
      "Processing record set 200 of 624 with the city named abu samrah\n",
      "Processing record set 201 of 624 with the city named babynino\n",
      "Processing record set 202 of 624 with the city named cabo san lucas\n",
      "Processing record set 203 of 624 with the city named illoqqortoormiut\n",
      "Error, city not found\n",
      "Processing record set 204 of 624 with the city named hokitika\n",
      "Processing record set 205 of 624 with the city named nemuro\n",
      "Processing record set 206 of 624 with the city named tucuman\n",
      "Processing record set 207 of 624 with the city named pangnirtung\n",
      "Processing record set 208 of 624 with the city named carutapera\n",
      "Processing record set 209 of 624 with the city named panjakent\n",
      "Processing record set 210 of 624 with the city named west calder\n",
      "Processing record set 211 of 624 with the city named sao joao da barra\n",
      "Processing record set 212 of 624 with the city named sao filipe\n",
      "Processing record set 213 of 624 with the city named dinsor\n",
      "Error, city not found\n",
      "Processing record set 214 of 624 with the city named kununurra\n",
      "Processing record set 215 of 624 with the city named sentyabrskiy\n",
      "Error, city not found\n",
      "Processing record set 216 of 624 with the city named wuwei\n",
      "Processing record set 217 of 624 with the city named port hardy\n",
      "Processing record set 218 of 624 with the city named cockburn harbour\n",
      "Error, city not found\n",
      "Processing record set 219 of 624 with the city named pisco\n",
      "Processing record set 220 of 624 with the city named raga\n",
      "Processing record set 221 of 624 with the city named gushi\n",
      "Processing record set 222 of 624 with the city named australind\n",
      "Processing record set 223 of 624 with the city named cap malheureux\n",
      "Processing record set 224 of 624 with the city named port hedland\n",
      "Processing record set 225 of 624 with the city named lagos\n",
      "Processing record set 226 of 624 with the city named vila franca do campo\n",
      "Processing record set 227 of 624 with the city named yegros\n",
      "Processing record set 228 of 624 with the city named kidal\n",
      "Processing record set 229 of 624 with the city named pevek\n",
      "Processing record set 230 of 624 with the city named dogondoutchi\n",
      "Processing record set 231 of 624 with the city named taoudenni\n",
      "Processing record set 232 of 624 with the city named fare\n",
      "Processing record set 233 of 624 with the city named viligili\n",
      "Error, city not found\n",
      "Processing record set 234 of 624 with the city named nizwa\n",
      "Processing record set 235 of 624 with the city named jilib\n",
      "Processing record set 236 of 624 with the city named nanortalik\n",
      "Processing record set 237 of 624 with the city named andenes\n",
      "Processing record set 238 of 624 with the city named saint-pierre\n",
      "Processing record set 239 of 624 with the city named lahad datu\n",
      "Processing record set 240 of 624 with the city named cherskiy\n",
      "Processing record set 241 of 624 with the city named eureka\n",
      "Processing record set 242 of 624 with the city named ulkan\n",
      "Processing record set 243 of 624 with the city named barentsburg\n",
      "Error, city not found\n",
      "Processing record set 244 of 624 with the city named kinsale\n",
      "Processing record set 245 of 624 with the city named sibut\n",
      "Processing record set 246 of 624 with the city named kungurtug\n",
      "Processing record set 247 of 624 with the city named cedral\n",
      "Processing record set 248 of 624 with the city named matsusaka\n",
      "Processing record set 249 of 624 with the city named naze\n",
      "Processing record set 250 of 624 with the city named krasnoselkup\n",
      "Processing record set 251 of 624 with the city named charlottetown\n",
      "Processing record set 252 of 624 with the city named mount isa\n",
      "Processing record set 253 of 624 with the city named gallup\n",
      "Processing record set 254 of 624 with the city named katsuura\n",
      "Processing record set 255 of 624 with the city named godfrey\n",
      "Processing record set 256 of 624 with the city named norman wells\n",
      "Processing record set 257 of 624 with the city named kommunisticheskiy\n",
      "Processing record set 258 of 624 with the city named trairi\n",
      "Processing record set 259 of 624 with the city named pochutla\n",
      "Processing record set 260 of 624 with the city named rudbar\n",
      "Processing record set 261 of 624 with the city named tsiroanomandidy\n",
      "Processing record set 262 of 624 with the city named asaba\n",
      "Processing record set 263 of 624 with the city named lebyazhye\n",
      "Processing record set 264 of 624 with the city named gurlan\n",
      "Processing record set 265 of 624 with the city named mackay\n",
      "Processing record set 266 of 624 with the city named vila velha\n",
      "Processing record set 267 of 624 with the city named pomorie\n",
      "Processing record set 268 of 624 with the city named hofn\n",
      "Processing record set 269 of 624 with the city named waw\n",
      "Processing record set 270 of 624 with the city named laguna\n",
      "Processing record set 271 of 624 with the city named sur\n",
      "Processing record set 272 of 624 with the city named mahibadhoo\n",
      "Processing record set 273 of 624 with the city named nome\n",
      "Processing record set 274 of 624 with the city named lasa\n",
      "Processing record set 275 of 624 with the city named solnechnyy\n",
      "Processing record set 276 of 624 with the city named say\n",
      "Processing record set 277 of 624 with the city named veraval\n",
      "Processing record set 278 of 624 with the city named jiuquan\n",
      "Processing record set 279 of 624 with the city named huron\n",
      "Processing record set 280 of 624 with the city named banff\n",
      "Processing record set 281 of 624 with the city named kirovo-chepetsk\n",
      "Processing record set 282 of 624 with the city named kamenka\n",
      "Processing record set 283 of 624 with the city named port blair\n",
      "Processing record set 284 of 624 with the city named chiplun\n",
      "Processing record set 285 of 624 with the city named bambous virieux\n",
      "Processing record set 286 of 624 with the city named menongue\n",
      "Processing record set 287 of 624 with the city named valjala\n",
      "Error, city not found\n",
      "Processing record set 288 of 624 with the city named ellisras\n",
      "Processing record set 289 of 624 with the city named nieuw amsterdam\n",
      "Processing record set 290 of 624 with the city named axim\n",
      "Processing record set 291 of 624 with the city named caravelas\n",
      "Processing record set 292 of 624 with the city named entre rios\n",
      "Processing record set 293 of 624 with the city named husavik\n",
      "Processing record set 294 of 624 with the city named afua\n",
      "Processing record set 295 of 624 with the city named san quintin\n",
      "Processing record set 296 of 624 with the city named haibowan\n",
      "Error, city not found\n",
      "Processing record set 297 of 624 with the city named dunedin\n",
      "Processing record set 298 of 624 with the city named salinopolis\n",
      "Processing record set 299 of 624 with the city named nyurba\n",
      "Processing record set 300 of 624 with the city named beyneu\n",
      "Processing record set 301 of 624 with the city named angoram\n",
      "Processing record set 302 of 624 with the city named porkhov\n",
      "Processing record set 303 of 624 with the city named cockburn town\n",
      "Processing record set 304 of 624 with the city named poum\n",
      "Processing record set 305 of 624 with the city named ishikari\n",
      "Processing record set 306 of 624 with the city named arlit\n",
      "Processing record set 307 of 624 with the city named zhezkazgan\n",
      "Processing record set 308 of 624 with the city named tura\n",
      "Processing record set 309 of 624 with the city named camocim\n",
      "Processing record set 310 of 624 with the city named charters towers\n",
      "Processing record set 311 of 624 with the city named masoko\n",
      "Processing record set 312 of 624 with the city named bizhbulyak\n",
      "Processing record set 313 of 624 with the city named tsihombe\n",
      "Error, city not found\n",
      "Processing record set 314 of 624 with the city named torbay\n",
      "Processing record set 315 of 624 with the city named jacareacanga\n",
      "Processing record set 316 of 624 with the city named maragogi\n",
      "Processing record set 317 of 624 with the city named bur gabo\n",
      "Error, city not found\n",
      "Processing record set 318 of 624 with the city named gigmoto\n",
      "Processing record set 319 of 624 with the city named tateyama\n",
      "Processing record set 320 of 624 with the city named buraydah\n",
      "Processing record set 321 of 624 with the city named puerto del rosario\n",
      "Processing record set 322 of 624 with the city named bowen\n",
      "Processing record set 323 of 624 with the city named florestopolis\n",
      "Processing record set 324 of 624 with the city named ahmadnagar\n",
      "Processing record set 325 of 624 with the city named lagunas\n",
      "Processing record set 326 of 624 with the city named anito\n",
      "Processing record set 327 of 624 with the city named hami\n",
      "Processing record set 328 of 624 with the city named alappuzha\n",
      "Processing record set 329 of 624 with the city named vanimo\n",
      "Processing record set 330 of 624 with the city named cedar city\n",
      "Processing record set 331 of 624 with the city named henties bay\n",
      "Processing record set 332 of 624 with the city named lardos\n",
      "Processing record set 333 of 624 with the city named tomatlan\n",
      "Processing record set 334 of 624 with the city named barbar\n",
      "Error, city not found\n",
      "Processing record set 335 of 624 with the city named pousat\n",
      "Error, city not found\n",
      "Processing record set 336 of 624 with the city named derzhavinsk\n",
      "Processing record set 337 of 624 with the city named mosquera\n",
      "Processing record set 338 of 624 with the city named calama\n",
      "Processing record set 339 of 624 with the city named ambon\n",
      "Processing record set 340 of 624 with the city named freeport\n",
      "Processing record set 341 of 624 with the city named coronado\n",
      "Processing record set 342 of 624 with the city named marivan\n",
      "Processing record set 343 of 624 with the city named cuamba\n",
      "Processing record set 344 of 624 with the city named bubaque\n",
      "Processing record set 345 of 624 with the city named shimoda\n",
      "Processing record set 346 of 624 with the city named montevideo\n",
      "Processing record set 347 of 624 with the city named verin\n",
      "Processing record set 348 of 624 with the city named boyabat\n",
      "Processing record set 349 of 624 with the city named khatanga\n",
      "Processing record set 350 of 624 with the city named luanda\n",
      "Processing record set 351 of 624 with the city named leiyang\n",
      "Processing record set 352 of 624 with the city named atasu\n",
      "Processing record set 353 of 624 with the city named toulepleu\n",
      "Error, city not found\n",
      "Processing record set 354 of 624 with the city named puerto escondido\n",
      "Processing record set 355 of 624 with the city named kholodnyy\n",
      "Processing record set 356 of 624 with the city named aksu\n",
      "Processing record set 357 of 624 with the city named aksarayskiy\n",
      "Processing record set 358 of 624 with the city named natal\n",
      "Processing record set 359 of 624 with the city named kolno\n",
      "Processing record set 360 of 624 with the city named groditz\n",
      "Error, city not found\n",
      "Processing record set 361 of 624 with the city named gilching\n",
      "Processing record set 362 of 624 with the city named warora\n",
      "Processing record set 363 of 624 with the city named boguchany\n",
      "Processing record set 364 of 624 with the city named chuncheng\n",
      "Processing record set 365 of 624 with the city named north bend\n",
      "Processing record set 366 of 624 with the city named naryan-mar\n",
      "Processing record set 367 of 624 with the city named bonavista\n",
      "Processing record set 368 of 624 with the city named palabuhanratu\n",
      "Error, city not found\n",
      "Processing record set 369 of 624 with the city named sinegorye\n",
      "Processing record set 370 of 624 with the city named batagay-alyta\n",
      "Processing record set 371 of 624 with the city named banda aceh\n",
      "Processing record set 372 of 624 with the city named praia da vitoria\n",
      "Processing record set 373 of 624 with the city named chuy\n",
      "Processing record set 374 of 624 with the city named roald\n",
      "Processing record set 375 of 624 with the city named tabiauea\n",
      "Error, city not found\n",
      "Processing record set 376 of 624 with the city named paraiso\n",
      "Processing record set 377 of 624 with the city named fukue\n",
      "Processing record set 378 of 624 with the city named carevo\n",
      "Error, city not found\n",
      "Processing record set 379 of 624 with the city named erdaojiang\n",
      "Processing record set 380 of 624 with the city named palmer\n",
      "Processing record set 381 of 624 with the city named ambovombe\n",
      "Processing record set 382 of 624 with the city named pictou\n",
      "Processing record set 383 of 624 with the city named mumford\n",
      "Processing record set 384 of 624 with the city named kango\n",
      "Processing record set 385 of 624 with the city named myitkyina\n",
      "Processing record set 386 of 624 with the city named broome\n",
      "Processing record set 387 of 624 with the city named bagdarin\n",
      "Processing record set 388 of 624 with the city named chakwal\n",
      "Processing record set 389 of 624 with the city named faya\n",
      "Processing record set 390 of 624 with the city named tres arroyos\n",
      "Processing record set 391 of 624 with the city named egvekinot\n",
      "Processing record set 392 of 624 with the city named jiblah\n",
      "Processing record set 393 of 624 with the city named karratha\n",
      "Processing record set 394 of 624 with the city named grootfontein\n",
      "Processing record set 395 of 624 with the city named vilhena\n",
      "Processing record set 396 of 624 with the city named puerto ayacucho\n",
      "Processing record set 397 of 624 with the city named mlonggo\n",
      "Processing record set 398 of 624 with the city named lebu\n",
      "Processing record set 399 of 624 with the city named olafsvik\n",
      "Processing record set 400 of 624 with the city named vostok\n",
      "Processing record set 401 of 624 with the city named pacific grove\n",
      "Processing record set 402 of 624 with the city named grindavik\n",
      "Processing record set 403 of 624 with the city named gorom-gorom\n",
      "Processing record set 404 of 624 with the city named kahului\n",
      "Processing record set 405 of 624 with the city named linqiong\n",
      "Processing record set 406 of 624 with the city named tual\n",
      "Processing record set 407 of 624 with the city named conde\n",
      "Processing record set 408 of 624 with the city named jaen\n",
      "Processing record set 409 of 624 with the city named talca\n",
      "Processing record set 410 of 624 with the city named khuzhir\n",
      "Processing record set 411 of 624 with the city named saint anthony\n",
      "Processing record set 412 of 624 with the city named san carlos de bariloche\n",
      "Processing record set 413 of 624 with the city named clinton\n",
      "Processing record set 414 of 624 with the city named lilongwe\n",
      "Processing record set 415 of 624 with the city named cody\n",
      "Processing record set 416 of 624 with the city named bourail\n",
      "Processing record set 417 of 624 with the city named hambantota\n",
      "Processing record set 418 of 624 with the city named martapura\n",
      "Processing record set 419 of 624 with the city named muli\n",
      "Processing record set 420 of 624 with the city named weyburn\n",
      "Processing record set 421 of 624 with the city named chirongui\n",
      "Processing record set 422 of 624 with the city named port keats\n",
      "Processing record set 423 of 624 with the city named ushumun\n",
      "Processing record set 424 of 624 with the city named namatanai\n",
      "Processing record set 425 of 624 with the city named waiuku\n",
      "Processing record set 426 of 624 with the city named dhariwal\n",
      "Processing record set 427 of 624 with the city named codrington\n",
      "Processing record set 428 of 624 with the city named udachnyy\n",
      "Processing record set 429 of 624 with the city named warqla\n",
      "Error, city not found\n",
      "Processing record set 430 of 624 with the city named karaul\n",
      "Error, city not found\n",
      "Processing record set 431 of 624 with the city named novosheshminsk\n",
      "Processing record set 432 of 624 with the city named port-cartier\n",
      "Processing record set 433 of 624 with the city named srednekolymsk\n",
      "Processing record set 434 of 624 with the city named kyshtovka\n",
      "Processing record set 435 of 624 with the city named aksarka\n",
      "Processing record set 436 of 624 with the city named port hawkesbury\n",
      "Processing record set 437 of 624 with the city named berlevag\n",
      "Processing record set 438 of 624 with the city named nam som\n",
      "Processing record set 439 of 624 with the city named arrifes\n",
      "Processing record set 440 of 624 with the city named luderitz\n",
      "Processing record set 441 of 624 with the city named mount pleasant\n",
      "Processing record set 442 of 624 with the city named san ignacio\n",
      "Processing record set 443 of 624 with the city named namibe\n",
      "Processing record set 444 of 624 with the city named vila nova de milfontes\n",
      "Processing record set 445 of 624 with the city named moussoro\n",
      "Processing record set 446 of 624 with the city named bozdar\n",
      "Processing record set 447 of 624 with the city named lorengau\n",
      "Processing record set 448 of 624 with the city named puerto narino\n",
      "Processing record set 449 of 624 with the city named bargal\n",
      "Error, city not found\n",
      "Processing record set 450 of 624 with the city named esna\n",
      "Processing record set 451 of 624 with the city named mehamn\n",
      "Processing record set 452 of 624 with the city named huilong\n",
      "Processing record set 453 of 624 with the city named san cristobal\n",
      "Processing record set 454 of 624 with the city named espumoso\n",
      "Processing record set 455 of 624 with the city named colares\n",
      "Processing record set 456 of 624 with the city named muisne\n",
      "Processing record set 457 of 624 with the city named horsham\n",
      "Processing record set 458 of 624 with the city named elat\n",
      "Processing record set 459 of 624 with the city named alugan\n",
      "Processing record set 460 of 624 with the city named ponta delgada\n",
      "Processing record set 461 of 624 with the city named celestun\n",
      "Processing record set 462 of 624 with the city named vardo\n",
      "Processing record set 463 of 624 with the city named kuhestan\n",
      "Error, city not found\n",
      "Processing record set 464 of 624 with the city named canico\n",
      "Processing record set 465 of 624 with the city named kegayli\n",
      "Error, city not found\n",
      "Processing record set 466 of 624 with the city named washougal\n",
      "Processing record set 467 of 624 with the city named port lincoln\n",
      "Processing record set 468 of 624 with the city named roma\n",
      "Processing record set 469 of 624 with the city named delta del tigre\n",
      "Processing record set 470 of 624 with the city named vysha\n",
      "Processing record set 471 of 624 with the city named mount gambier\n",
      "Processing record set 472 of 624 with the city named eydhafushi\n",
      "Processing record set 473 of 624 with the city named kachiry\n",
      "Processing record set 474 of 624 with the city named sumter\n",
      "Processing record set 475 of 624 with the city named saleaula\n",
      "Error, city not found\n",
      "Processing record set 476 of 624 with the city named mufulira\n",
      "Processing record set 477 of 624 with the city named la ronge\n",
      "Processing record set 478 of 624 with the city named sao felix do xingu\n",
      "Processing record set 479 of 624 with the city named orange cove\n",
      "Processing record set 480 of 624 with the city named labuhan\n",
      "Processing record set 481 of 624 with the city named fort nelson\n",
      "Processing record set 482 of 624 with the city named urusha\n",
      "Processing record set 483 of 624 with the city named houma\n",
      "Processing record set 484 of 624 with the city named phan thiet\n",
      "Processing record set 485 of 624 with the city named mangrol\n",
      "Processing record set 486 of 624 with the city named port-gentil\n",
      "Processing record set 487 of 624 with the city named bilma\n",
      "Processing record set 488 of 624 with the city named skalistyy\n",
      "Error, city not found\n",
      "Processing record set 489 of 624 with the city named cheney\n",
      "Processing record set 490 of 624 with the city named shingu\n",
      "Processing record set 491 of 624 with the city named ilulissat\n",
      "Processing record set 492 of 624 with the city named adre\n",
      "Processing record set 493 of 624 with the city named samalaeulu\n",
      "Error, city not found\n",
      "Processing record set 494 of 624 with the city named eyl\n",
      "Processing record set 495 of 624 with the city named san vicente\n",
      "Processing record set 496 of 624 with the city named sete lagoas\n",
      "Processing record set 497 of 624 with the city named flin flon\n",
      "Processing record set 498 of 624 with the city named barcelona\n",
      "Processing record set 499 of 624 with the city named moyale\n",
      "Processing record set 500 of 624 with the city named bukachacha\n",
      "Processing record set 501 of 624 with the city named zhuhai\n",
      "Processing record set 502 of 624 with the city named ayna\n",
      "Processing record set 503 of 624 with the city named guerrero negro\n",
      "Processing record set 504 of 624 with the city named kyra\n",
      "Processing record set 505 of 624 with the city named anadyr\n",
      "Processing record set 506 of 624 with the city named virginia beach\n",
      "Processing record set 507 of 624 with the city named warangal\n",
      "Processing record set 508 of 624 with the city named bataipora\n",
      "Processing record set 509 of 624 with the city named aqtobe\n",
      "Processing record set 510 of 624 with the city named belmonte\n",
      "Processing record set 511 of 624 with the city named nara\n",
      "Processing record set 512 of 624 with the city named weatherford\n",
      "Processing record set 513 of 624 with the city named sulzbach-rosenberg\n",
      "Processing record set 514 of 624 with the city named moba\n",
      "Processing record set 515 of 624 with the city named jyvaskyla\n",
      "Processing record set 516 of 624 with the city named teguise\n",
      "Processing record set 517 of 624 with the city named binghamton\n",
      "Processing record set 518 of 624 with the city named calabar\n",
      "Processing record set 519 of 624 with the city named mudyuga\n",
      "Error, city not found\n",
      "Processing record set 520 of 624 with the city named matagami\n",
      "Processing record set 521 of 624 with the city named sinjar\n",
      "Processing record set 522 of 624 with the city named falam\n",
      "Processing record set 523 of 624 with the city named jian\n",
      "Processing record set 524 of 624 with the city named lavrentiya\n",
      "Processing record set 525 of 624 with the city named general pico\n",
      "Processing record set 526 of 624 with the city named akureyri\n",
      "Processing record set 527 of 624 with the city named leshukonskoye\n",
      "Processing record set 528 of 624 with the city named abeche\n",
      "Processing record set 529 of 624 with the city named bocaranga\n",
      "Error, city not found\n",
      "Processing record set 530 of 624 with the city named a\n",
      "Error, city not found\n",
      "Processing record set 531 of 624 with the city named biak\n",
      "Processing record set 532 of 624 with the city named bansang\n",
      "Processing record set 533 of 624 with the city named louisbourg\n",
      "Error, city not found\n",
      "Processing record set 534 of 624 with the city named talnakh\n",
      "Processing record set 535 of 624 with the city named iqaluit\n",
      "Processing record set 536 of 624 with the city named arcachon\n",
      "Processing record set 537 of 624 with the city named ayan\n",
      "Processing record set 538 of 624 with the city named kavieng\n",
      "Processing record set 539 of 624 with the city named praya\n",
      "Processing record set 540 of 624 with the city named roseburg\n",
      "Processing record set 541 of 624 with the city named kutum\n",
      "Processing record set 542 of 624 with the city named san rafael\n",
      "Processing record set 543 of 624 with the city named kaoma\n",
      "Processing record set 544 of 624 with the city named mariakani\n",
      "Processing record set 545 of 624 with the city named kropotkin\n",
      "Processing record set 546 of 624 with the city named miranda de ebro\n",
      "Processing record set 547 of 624 with the city named sungairaya\n",
      "Processing record set 548 of 624 with the city named north platte\n",
      "Processing record set 549 of 624 with the city named hanmer springs\n",
      "Processing record set 550 of 624 with the city named kabinda\n",
      "Processing record set 551 of 624 with the city named den helder\n",
      "Processing record set 552 of 624 with the city named mogocha\n",
      "Processing record set 553 of 624 with the city named birobidzhan\n",
      "Processing record set 554 of 624 with the city named shar\n",
      "Processing record set 555 of 624 with the city named chupa\n",
      "Processing record set 556 of 624 with the city named mareeba\n",
      "Processing record set 557 of 624 with the city named stromness\n",
      "Processing record set 558 of 624 with the city named igbaras\n",
      "Processing record set 559 of 624 with the city named hualmay\n",
      "Processing record set 560 of 624 with the city named kuttanallur\n",
      "Error, city not found\n",
      "Processing record set 561 of 624 with the city named jimeta\n",
      "Processing record set 562 of 624 with the city named aripuana\n",
      "Processing record set 563 of 624 with the city named ballina\n",
      "Processing record set 564 of 624 with the city named togur\n",
      "Processing record set 565 of 624 with the city named vanino\n",
      "Processing record set 566 of 624 with the city named avera\n",
      "Processing record set 567 of 624 with the city named tahe\n",
      "Processing record set 568 of 624 with the city named richards bay\n",
      "Processing record set 569 of 624 with the city named rio muerto\n",
      "Processing record set 570 of 624 with the city named kaffrine\n",
      "Processing record set 571 of 624 with the city named salinas\n",
      "Processing record set 572 of 624 with the city named manuk mangkaw\n",
      "Processing record set 573 of 624 with the city named benguela\n",
      "Processing record set 574 of 624 with the city named ulagan\n",
      "Processing record set 575 of 624 with the city named puerto madero\n",
      "Processing record set 576 of 624 with the city named ahipara\n",
      "Processing record set 577 of 624 with the city named guicheng\n",
      "Error, city not found\n",
      "Processing record set 578 of 624 with the city named yamada\n",
      "Processing record set 579 of 624 with the city named montepuez\n",
      "Processing record set 580 of 624 with the city named sigli\n",
      "Processing record set 581 of 624 with the city named bull savanna\n",
      "Processing record set 582 of 624 with the city named lethem\n",
      "Processing record set 583 of 624 with the city named mogadishu\n",
      "Processing record set 584 of 624 with the city named daru\n",
      "Processing record set 585 of 624 with the city named warmbad\n",
      "Processing record set 586 of 624 with the city named necochea\n",
      "Processing record set 587 of 624 with the city named vallenar\n",
      "Processing record set 588 of 624 with the city named mbandaka\n",
      "Processing record set 589 of 624 with the city named kapit\n",
      "Processing record set 590 of 624 with the city named lompoc\n",
      "Processing record set 591 of 624 with the city named jyderup\n",
      "Processing record set 592 of 624 with the city named hun\n",
      "Processing record set 593 of 624 with the city named papetoai\n",
      "Processing record set 594 of 624 with the city named chokwe\n",
      "Processing record set 595 of 624 with the city named esso\n",
      "Processing record set 596 of 624 with the city named motygino\n",
      "Processing record set 597 of 624 with the city named benin\n",
      "Processing record set 598 of 624 with the city named aubagne\n",
      "Processing record set 599 of 624 with the city named gelemso\n",
      "Processing record set 600 of 624 with the city named rio bueno\n",
      "Processing record set 601 of 624 with the city named bilibino\n",
      "Processing record set 602 of 624 with the city named santa barbara\n",
      "Processing record set 603 of 624 with the city named hauterive\n",
      "Processing record set 604 of 624 with the city named ust-kuyga\n",
      "Processing record set 605 of 624 with the city named dandong\n",
      "Processing record set 606 of 624 with the city named jalu\n",
      "Processing record set 607 of 624 with the city named deputatskiy\n",
      "Processing record set 608 of 624 with the city named ribnitz-damgarten\n",
      "Processing record set 609 of 624 with the city named bjornevatn\n",
      "Processing record set 610 of 624 with the city named general roca\n",
      "Processing record set 611 of 624 with the city named atambua\n",
      "Processing record set 612 of 624 with the city named livingstone\n",
      "Processing record set 613 of 624 with the city named maniitsoq\n",
      "Processing record set 614 of 624 with the city named nishihara\n",
      "Processing record set 615 of 624 with the city named formiga\n",
      "Processing record set 616 of 624 with the city named gazli\n",
      "Processing record set 617 of 624 with the city named polis\n",
      "Processing record set 618 of 624 with the city named baherden\n",
      "Processing record set 619 of 624 with the city named sinnamary\n",
      "Processing record set 620 of 624 with the city named santiago de cao\n",
      "Processing record set 621 of 624 with the city named seybaplaya\n",
      "Processing record set 622 of 624 with the city named kadykchan\n",
      "Error, city not found\n",
      "Processing record set 623 of 624 with the city named yushu\n",
      "Processing record set 624 of 624 with the city named sandnessjoen\n"
     ]
    }
   ],
   "source": [
    "print(\"Beginning Data Retrieval\")\r\n",
    "print(\"-----------------------------\")\r\n",
    "city_counter = 0\r\n",
    "city_stat = []\r\n",
    "for locations in cities:\r\n",
    "    city_counter += 1\r\n",
    "    city_url = url + \"&q=\" + locations \r\n",
    "    print(\"Processing record set\", city_counter, \"of\", len(cities), \"with the city named\", locations,)\r\n",
    "    \r\n",
    "    try:\r\n",
    "        city_weather = requests.get(city_url).json()\r\n",
    "        \r\n",
    "        city_lat = city_weather[\"coord\"][\"lat\"]\r\n",
    "        city_lng = city_weather[\"coord\"][\"lon\"]\r\n",
    "        city_max_temp = city_weather[\"main\"][\"temp_max\"]\r\n",
    "        city_humidity = city_weather[\"main\"][\"humidity\"]\r\n",
    "        city_clouds = city_weather[\"clouds\"][\"all\"]\r\n",
    "        city_wind = city_weather[\"wind\"][\"speed\"]\r\n",
    "        city_country = city_weather[\"sys\"][\"country\"]\r\n",
    "        city_date = city_weather[\"dt\"]\r\n",
    "        \r\n",
    "        city_stat.append({\"City\":locations, \"Latitude\": city_lat, \"Longitude\": city_lng, \r\n",
    "                          \"Max Temperature\": city_max_temp, \"Humidity\": city_humidity, \r\n",
    "                         \"Clouds\": city_clouds, \"Wind\": city_wind, \"Country\": city_country,\r\n",
    "                         \"Date\": city_date})\r\n",
    "    except:\r\n",
    "        print(\"Error, city not found\")\r\n",
    "        pass\r\n"
   ]
  },
  {
   "cell_type": "markdown",
   "metadata": {},
   "source": [
    "### Convert Raw Data to DataFrame\n",
    "* Export the city data into a .csv.\n",
    "* Display the DataFrame"
   ]
  },
  {
   "cell_type": "code",
   "execution_count": 6,
   "metadata": {},
   "outputs": [
    {
     "data": {
      "text/html": [
       "<div>\n",
       "<style scoped>\n",
       "    .dataframe tbody tr th:only-of-type {\n",
       "        vertical-align: middle;\n",
       "    }\n",
       "\n",
       "    .dataframe tbody tr th {\n",
       "        vertical-align: top;\n",
       "    }\n",
       "\n",
       "    .dataframe thead th {\n",
       "        text-align: right;\n",
       "    }\n",
       "</style>\n",
       "<table border=\"1\" class=\"dataframe\">\n",
       "  <thead>\n",
       "    <tr style=\"text-align: right;\">\n",
       "      <th></th>\n",
       "      <th>City</th>\n",
       "      <th>Latitude</th>\n",
       "      <th>Longitude</th>\n",
       "      <th>Max Temperature</th>\n",
       "      <th>Humidity</th>\n",
       "      <th>Clouds</th>\n",
       "      <th>Wind</th>\n",
       "      <th>Country</th>\n",
       "      <th>Date</th>\n",
       "    </tr>\n",
       "  </thead>\n",
       "  <tbody>\n",
       "    <tr>\n",
       "      <th>0</th>\n",
       "      <td>vaini</td>\n",
       "      <td>-21.2000</td>\n",
       "      <td>-175.2000</td>\n",
       "      <td>71.76</td>\n",
       "      <td>78</td>\n",
       "      <td>40</td>\n",
       "      <td>12.66</td>\n",
       "      <td>TO</td>\n",
       "      <td>1624684009</td>\n",
       "    </tr>\n",
       "    <tr>\n",
       "      <th>1</th>\n",
       "      <td>hay river</td>\n",
       "      <td>60.8156</td>\n",
       "      <td>-115.7999</td>\n",
       "      <td>59.94</td>\n",
       "      <td>65</td>\n",
       "      <td>62</td>\n",
       "      <td>3.87</td>\n",
       "      <td>CA</td>\n",
       "      <td>1624684009</td>\n",
       "    </tr>\n",
       "    <tr>\n",
       "      <th>2</th>\n",
       "      <td>ushuaia</td>\n",
       "      <td>-54.8000</td>\n",
       "      <td>-68.3000</td>\n",
       "      <td>38.86</td>\n",
       "      <td>75</td>\n",
       "      <td>75</td>\n",
       "      <td>25.32</td>\n",
       "      <td>AR</td>\n",
       "      <td>1624684010</td>\n",
       "    </tr>\n",
       "    <tr>\n",
       "      <th>3</th>\n",
       "      <td>zolotukhino</td>\n",
       "      <td>52.0842</td>\n",
       "      <td>36.3772</td>\n",
       "      <td>77.07</td>\n",
       "      <td>75</td>\n",
       "      <td>45</td>\n",
       "      <td>4.54</td>\n",
       "      <td>RU</td>\n",
       "      <td>1624684010</td>\n",
       "    </tr>\n",
       "    <tr>\n",
       "      <th>4</th>\n",
       "      <td>yar-sale</td>\n",
       "      <td>66.8333</td>\n",
       "      <td>70.8333</td>\n",
       "      <td>56.59</td>\n",
       "      <td>40</td>\n",
       "      <td>10</td>\n",
       "      <td>8.01</td>\n",
       "      <td>RU</td>\n",
       "      <td>1624684011</td>\n",
       "    </tr>\n",
       "    <tr>\n",
       "      <th>...</th>\n",
       "      <td>...</td>\n",
       "      <td>...</td>\n",
       "      <td>...</td>\n",
       "      <td>...</td>\n",
       "      <td>...</td>\n",
       "      <td>...</td>\n",
       "      <td>...</td>\n",
       "      <td>...</td>\n",
       "      <td>...</td>\n",
       "    </tr>\n",
       "    <tr>\n",
       "      <th>574</th>\n",
       "      <td>sinnamary</td>\n",
       "      <td>5.3833</td>\n",
       "      <td>-52.9500</td>\n",
       "      <td>77.23</td>\n",
       "      <td>85</td>\n",
       "      <td>21</td>\n",
       "      <td>8.32</td>\n",
       "      <td>GF</td>\n",
       "      <td>1624684213</td>\n",
       "    </tr>\n",
       "    <tr>\n",
       "      <th>575</th>\n",
       "      <td>santiago de cao</td>\n",
       "      <td>-7.9589</td>\n",
       "      <td>-79.2392</td>\n",
       "      <td>63.25</td>\n",
       "      <td>88</td>\n",
       "      <td>68</td>\n",
       "      <td>11.72</td>\n",
       "      <td>PE</td>\n",
       "      <td>1624684213</td>\n",
       "    </tr>\n",
       "    <tr>\n",
       "      <th>576</th>\n",
       "      <td>seybaplaya</td>\n",
       "      <td>19.6500</td>\n",
       "      <td>-90.6667</td>\n",
       "      <td>76.80</td>\n",
       "      <td>80</td>\n",
       "      <td>100</td>\n",
       "      <td>10.60</td>\n",
       "      <td>MX</td>\n",
       "      <td>1624684214</td>\n",
       "    </tr>\n",
       "    <tr>\n",
       "      <th>577</th>\n",
       "      <td>yushu</td>\n",
       "      <td>44.8000</td>\n",
       "      <td>126.5333</td>\n",
       "      <td>74.35</td>\n",
       "      <td>64</td>\n",
       "      <td>100</td>\n",
       "      <td>15.26</td>\n",
       "      <td>CN</td>\n",
       "      <td>1624684214</td>\n",
       "    </tr>\n",
       "    <tr>\n",
       "      <th>578</th>\n",
       "      <td>sandnessjoen</td>\n",
       "      <td>66.0217</td>\n",
       "      <td>12.6316</td>\n",
       "      <td>51.78</td>\n",
       "      <td>75</td>\n",
       "      <td>97</td>\n",
       "      <td>6.35</td>\n",
       "      <td>NO</td>\n",
       "      <td>1624684215</td>\n",
       "    </tr>\n",
       "  </tbody>\n",
       "</table>\n",
       "<p>579 rows × 9 columns</p>\n",
       "</div>"
      ],
      "text/plain": [
       "                City  Latitude  Longitude  Max Temperature  Humidity  Clouds  \\\n",
       "0              vaini  -21.2000  -175.2000            71.76        78      40   \n",
       "1          hay river   60.8156  -115.7999            59.94        65      62   \n",
       "2            ushuaia  -54.8000   -68.3000            38.86        75      75   \n",
       "3        zolotukhino   52.0842    36.3772            77.07        75      45   \n",
       "4           yar-sale   66.8333    70.8333            56.59        40      10   \n",
       "..               ...       ...        ...              ...       ...     ...   \n",
       "574        sinnamary    5.3833   -52.9500            77.23        85      21   \n",
       "575  santiago de cao   -7.9589   -79.2392            63.25        88      68   \n",
       "576       seybaplaya   19.6500   -90.6667            76.80        80     100   \n",
       "577            yushu   44.8000   126.5333            74.35        64     100   \n",
       "578     sandnessjoen   66.0217    12.6316            51.78        75      97   \n",
       "\n",
       "      Wind Country        Date  \n",
       "0    12.66      TO  1624684009  \n",
       "1     3.87      CA  1624684009  \n",
       "2    25.32      AR  1624684010  \n",
       "3     4.54      RU  1624684010  \n",
       "4     8.01      RU  1624684011  \n",
       "..     ...     ...         ...  \n",
       "574   8.32      GF  1624684213  \n",
       "575  11.72      PE  1624684213  \n",
       "576  10.60      MX  1624684214  \n",
       "577  15.26      CN  1624684214  \n",
       "578   6.35      NO  1624684215  \n",
       "\n",
       "[579 rows x 9 columns]"
      ]
     },
     "execution_count": 6,
     "metadata": {},
     "output_type": "execute_result"
    }
   ],
   "source": [
    "city_stat\r\n",
    "city_stat_pd = pd.DataFrame(city_stat)\r\n",
    "city_stat_pd\r\n"
   ]
  },
  {
   "cell_type": "code",
   "execution_count": 7,
   "metadata": {},
   "outputs": [
    {
     "data": {
      "text/plain": [
       "City               579\n",
       "Latitude           579\n",
       "Longitude          579\n",
       "Max Temperature    579\n",
       "Humidity           579\n",
       "Clouds             579\n",
       "Wind               579\n",
       "Country            579\n",
       "Date               579\n",
       "dtype: int64"
      ]
     },
     "execution_count": 7,
     "metadata": {},
     "output_type": "execute_result"
    }
   ],
   "source": [
    "\r\n",
    "# weather_df = pd.DataFrame({\r\n",
    "#     \"City\":len(location_name),\r\n",
    "#     \"Country\":len(location_country),\r\n",
    "#     \"Date\":len(date),\r\n",
    "#     \"Latitude\":len(latitude),\r\n",
    "#     \"Longitude\":len(longitude),\r\n",
    "#     \"Max Temp(f)\":len([city_max_temp]),\r\n",
    "#     \"Humidity\":len([city_humidity]),\r\n",
    "#     \"Wind Speed\":len([city_wind]),\r\n",
    "#     \"Cloudiness\":len([city_clouds]),\r\n",
    "# weather_df\r\n",
    "\r\n",
    "        \r\n",
    "       # city_lat = city_weather[\"coord\"][\"lat\"]\r\n",
    "       # city_lng = city_weather[\"coord\"][\"lon\"]\r\n",
    "       # city_max_temp = city_weather[\"main\"][\"temp_max\"]\r\n",
    "       # city_humidity = city_weather[\"main\"][\"humidity\"]\r\n",
    "        #city_clouds = city_weather[\"clouds\"][\"all\"]\r\n",
    "        #city_wind = city_weather[\"wind\"][\"speed\"]\r\n",
    "        #city_country = city_weather[\"sys\"][\"country\"]\r\n",
    "        #city_date = city_weather[\"dt\"]\r\n",
    "city_stat_pd = pd.DataFrame(city_stat)\r\n",
    "city_stat_pd.count()\r\n",
    "\r\n",
    "    "
   ]
  },
  {
   "cell_type": "code",
   "execution_count": 8,
   "metadata": {},
   "outputs": [
    {
     "data": {
      "text/html": [
       "<div>\n",
       "<style scoped>\n",
       "    .dataframe tbody tr th:only-of-type {\n",
       "        vertical-align: middle;\n",
       "    }\n",
       "\n",
       "    .dataframe tbody tr th {\n",
       "        vertical-align: top;\n",
       "    }\n",
       "\n",
       "    .dataframe thead th {\n",
       "        text-align: right;\n",
       "    }\n",
       "</style>\n",
       "<table border=\"1\" class=\"dataframe\">\n",
       "  <thead>\n",
       "    <tr style=\"text-align: right;\">\n",
       "      <th></th>\n",
       "      <th>City</th>\n",
       "      <th>Latitude</th>\n",
       "      <th>Longitude</th>\n",
       "      <th>Max Temperature</th>\n",
       "      <th>Humidity</th>\n",
       "      <th>Clouds</th>\n",
       "      <th>Wind</th>\n",
       "      <th>Country</th>\n",
       "      <th>Date</th>\n",
       "    </tr>\n",
       "  </thead>\n",
       "  <tbody>\n",
       "    <tr>\n",
       "      <th>0</th>\n",
       "      <td>vaini</td>\n",
       "      <td>-21.2000</td>\n",
       "      <td>-175.2000</td>\n",
       "      <td>71.76</td>\n",
       "      <td>78</td>\n",
       "      <td>40</td>\n",
       "      <td>12.66</td>\n",
       "      <td>TO</td>\n",
       "      <td>1624684009</td>\n",
       "    </tr>\n",
       "    <tr>\n",
       "      <th>1</th>\n",
       "      <td>hay river</td>\n",
       "      <td>60.8156</td>\n",
       "      <td>-115.7999</td>\n",
       "      <td>59.94</td>\n",
       "      <td>65</td>\n",
       "      <td>62</td>\n",
       "      <td>3.87</td>\n",
       "      <td>CA</td>\n",
       "      <td>1624684009</td>\n",
       "    </tr>\n",
       "    <tr>\n",
       "      <th>2</th>\n",
       "      <td>ushuaia</td>\n",
       "      <td>-54.8000</td>\n",
       "      <td>-68.3000</td>\n",
       "      <td>38.86</td>\n",
       "      <td>75</td>\n",
       "      <td>75</td>\n",
       "      <td>25.32</td>\n",
       "      <td>AR</td>\n",
       "      <td>1624684010</td>\n",
       "    </tr>\n",
       "    <tr>\n",
       "      <th>3</th>\n",
       "      <td>zolotukhino</td>\n",
       "      <td>52.0842</td>\n",
       "      <td>36.3772</td>\n",
       "      <td>77.07</td>\n",
       "      <td>75</td>\n",
       "      <td>45</td>\n",
       "      <td>4.54</td>\n",
       "      <td>RU</td>\n",
       "      <td>1624684010</td>\n",
       "    </tr>\n",
       "    <tr>\n",
       "      <th>4</th>\n",
       "      <td>yar-sale</td>\n",
       "      <td>66.8333</td>\n",
       "      <td>70.8333</td>\n",
       "      <td>56.59</td>\n",
       "      <td>40</td>\n",
       "      <td>10</td>\n",
       "      <td>8.01</td>\n",
       "      <td>RU</td>\n",
       "      <td>1624684011</td>\n",
       "    </tr>\n",
       "  </tbody>\n",
       "</table>\n",
       "</div>"
      ],
      "text/plain": [
       "          City  Latitude  Longitude  Max Temperature  Humidity  Clouds   Wind  \\\n",
       "0        vaini  -21.2000  -175.2000            71.76        78      40  12.66   \n",
       "1    hay river   60.8156  -115.7999            59.94        65      62   3.87   \n",
       "2      ushuaia  -54.8000   -68.3000            38.86        75      75  25.32   \n",
       "3  zolotukhino   52.0842    36.3772            77.07        75      45   4.54   \n",
       "4     yar-sale   66.8333    70.8333            56.59        40      10   8.01   \n",
       "\n",
       "  Country        Date  \n",
       "0      TO  1624684009  \n",
       "1      CA  1624684009  \n",
       "2      AR  1624684010  \n",
       "3      RU  1624684010  \n",
       "4      RU  1624684011  "
      ]
     },
     "execution_count": 8,
     "metadata": {},
     "output_type": "execute_result"
    }
   ],
   "source": [
    "city_stat_pd.to_csv(output_data_file)\r\n",
    "city_stat_pd.head()"
   ]
  },
  {
   "cell_type": "code",
   "execution_count": 9,
   "metadata": {},
   "outputs": [
    {
     "data": {
      "text/html": [
       "<div>\n",
       "<style scoped>\n",
       "    .dataframe tbody tr th:only-of-type {\n",
       "        vertical-align: middle;\n",
       "    }\n",
       "\n",
       "    .dataframe tbody tr th {\n",
       "        vertical-align: top;\n",
       "    }\n",
       "\n",
       "    .dataframe thead th {\n",
       "        text-align: right;\n",
       "    }\n",
       "</style>\n",
       "<table border=\"1\" class=\"dataframe\">\n",
       "  <thead>\n",
       "    <tr style=\"text-align: right;\">\n",
       "      <th></th>\n",
       "      <th>Latitude</th>\n",
       "      <th>Max Temperature</th>\n",
       "    </tr>\n",
       "  </thead>\n",
       "  <tbody>\n",
       "    <tr>\n",
       "      <th>0</th>\n",
       "      <td>-21.2000</td>\n",
       "      <td>71.76</td>\n",
       "    </tr>\n",
       "    <tr>\n",
       "      <th>1</th>\n",
       "      <td>60.8156</td>\n",
       "      <td>59.94</td>\n",
       "    </tr>\n",
       "    <tr>\n",
       "      <th>2</th>\n",
       "      <td>-54.8000</td>\n",
       "      <td>38.86</td>\n",
       "    </tr>\n",
       "    <tr>\n",
       "      <th>3</th>\n",
       "      <td>52.0842</td>\n",
       "      <td>77.07</td>\n",
       "    </tr>\n",
       "    <tr>\n",
       "      <th>4</th>\n",
       "      <td>66.8333</td>\n",
       "      <td>56.59</td>\n",
       "    </tr>\n",
       "  </tbody>\n",
       "</table>\n",
       "</div>"
      ],
      "text/plain": [
       "   Latitude  Max Temperature\n",
       "0  -21.2000            71.76\n",
       "1   60.8156            59.94\n",
       "2  -54.8000            38.86\n",
       "3   52.0842            77.07\n",
       "4   66.8333            56.59"
      ]
     },
     "execution_count": 9,
     "metadata": {},
     "output_type": "execute_result"
    }
   ],
   "source": [
    "#working on it,\r\n",
    "lat_vs_temp = city_stat_pd.groupby(city_stat)[['Latitude','Max Temperature']]\r\n",
    "lat_vs_temp.head()"
   ]
  },
  {
   "cell_type": "code",
   "execution_count": 10,
   "metadata": {},
   "outputs": [
    {
     "data": {
      "text/html": [
       "<div>\n",
       "<style scoped>\n",
       "    .dataframe tbody tr th:only-of-type {\n",
       "        vertical-align: middle;\n",
       "    }\n",
       "\n",
       "    .dataframe tbody tr th {\n",
       "        vertical-align: top;\n",
       "    }\n",
       "\n",
       "    .dataframe thead th {\n",
       "        text-align: right;\n",
       "    }\n",
       "</style>\n",
       "<table border=\"1\" class=\"dataframe\">\n",
       "  <thead>\n",
       "    <tr style=\"text-align: right;\">\n",
       "      <th></th>\n",
       "      <th>Latitude</th>\n",
       "      <th>Humidity</th>\n",
       "    </tr>\n",
       "  </thead>\n",
       "  <tbody>\n",
       "    <tr>\n",
       "      <th>0</th>\n",
       "      <td>-21.2000</td>\n",
       "      <td>78</td>\n",
       "    </tr>\n",
       "    <tr>\n",
       "      <th>1</th>\n",
       "      <td>60.8156</td>\n",
       "      <td>65</td>\n",
       "    </tr>\n",
       "    <tr>\n",
       "      <th>2</th>\n",
       "      <td>-54.8000</td>\n",
       "      <td>75</td>\n",
       "    </tr>\n",
       "    <tr>\n",
       "      <th>3</th>\n",
       "      <td>52.0842</td>\n",
       "      <td>75</td>\n",
       "    </tr>\n",
       "    <tr>\n",
       "      <th>4</th>\n",
       "      <td>66.8333</td>\n",
       "      <td>40</td>\n",
       "    </tr>\n",
       "  </tbody>\n",
       "</table>\n",
       "</div>"
      ],
      "text/plain": [
       "   Latitude  Humidity\n",
       "0  -21.2000        78\n",
       "1   60.8156        65\n",
       "2  -54.8000        75\n",
       "3   52.0842        75\n",
       "4   66.8333        40"
      ]
     },
     "execution_count": 10,
     "metadata": {},
     "output_type": "execute_result"
    }
   ],
   "source": [
    "#working on it,\r\n",
    "lat_vs_humid = city_stat_pd.groupby(city_stat)[['Latitude','Humidity']]\r\n",
    "lat_vs_humid.head()"
   ]
  },
  {
   "cell_type": "code",
   "execution_count": 11,
   "metadata": {},
   "outputs": [
    {
     "data": {
      "text/html": [
       "<div>\n",
       "<style scoped>\n",
       "    .dataframe tbody tr th:only-of-type {\n",
       "        vertical-align: middle;\n",
       "    }\n",
       "\n",
       "    .dataframe tbody tr th {\n",
       "        vertical-align: top;\n",
       "    }\n",
       "\n",
       "    .dataframe thead th {\n",
       "        text-align: right;\n",
       "    }\n",
       "</style>\n",
       "<table border=\"1\" class=\"dataframe\">\n",
       "  <thead>\n",
       "    <tr style=\"text-align: right;\">\n",
       "      <th></th>\n",
       "      <th>Latitude</th>\n",
       "      <th>Clouds</th>\n",
       "    </tr>\n",
       "  </thead>\n",
       "  <tbody>\n",
       "    <tr>\n",
       "      <th>0</th>\n",
       "      <td>-21.2000</td>\n",
       "      <td>40</td>\n",
       "    </tr>\n",
       "    <tr>\n",
       "      <th>1</th>\n",
       "      <td>60.8156</td>\n",
       "      <td>62</td>\n",
       "    </tr>\n",
       "    <tr>\n",
       "      <th>2</th>\n",
       "      <td>-54.8000</td>\n",
       "      <td>75</td>\n",
       "    </tr>\n",
       "    <tr>\n",
       "      <th>3</th>\n",
       "      <td>52.0842</td>\n",
       "      <td>45</td>\n",
       "    </tr>\n",
       "    <tr>\n",
       "      <th>4</th>\n",
       "      <td>66.8333</td>\n",
       "      <td>10</td>\n",
       "    </tr>\n",
       "  </tbody>\n",
       "</table>\n",
       "</div>"
      ],
      "text/plain": [
       "   Latitude  Clouds\n",
       "0  -21.2000      40\n",
       "1   60.8156      62\n",
       "2  -54.8000      75\n",
       "3   52.0842      45\n",
       "4   66.8333      10"
      ]
     },
     "execution_count": 11,
     "metadata": {},
     "output_type": "execute_result"
    }
   ],
   "source": [
    "#working on it,\r\n",
    "lat_vs_cloud = city_stat_pd.groupby(city_stat)[['Latitude','Clouds']]\r\n",
    "lat_vs_cloud.head()"
   ]
  },
  {
   "cell_type": "code",
   "execution_count": 12,
   "metadata": {},
   "outputs": [
    {
     "data": {
      "text/html": [
       "<div>\n",
       "<style scoped>\n",
       "    .dataframe tbody tr th:only-of-type {\n",
       "        vertical-align: middle;\n",
       "    }\n",
       "\n",
       "    .dataframe tbody tr th {\n",
       "        vertical-align: top;\n",
       "    }\n",
       "\n",
       "    .dataframe thead th {\n",
       "        text-align: right;\n",
       "    }\n",
       "</style>\n",
       "<table border=\"1\" class=\"dataframe\">\n",
       "  <thead>\n",
       "    <tr style=\"text-align: right;\">\n",
       "      <th></th>\n",
       "      <th>Latitude</th>\n",
       "      <th>Wind</th>\n",
       "    </tr>\n",
       "  </thead>\n",
       "  <tbody>\n",
       "    <tr>\n",
       "      <th>0</th>\n",
       "      <td>-21.2000</td>\n",
       "      <td>12.66</td>\n",
       "    </tr>\n",
       "    <tr>\n",
       "      <th>1</th>\n",
       "      <td>60.8156</td>\n",
       "      <td>3.87</td>\n",
       "    </tr>\n",
       "    <tr>\n",
       "      <th>2</th>\n",
       "      <td>-54.8000</td>\n",
       "      <td>25.32</td>\n",
       "    </tr>\n",
       "    <tr>\n",
       "      <th>3</th>\n",
       "      <td>52.0842</td>\n",
       "      <td>4.54</td>\n",
       "    </tr>\n",
       "    <tr>\n",
       "      <th>4</th>\n",
       "      <td>66.8333</td>\n",
       "      <td>8.01</td>\n",
       "    </tr>\n",
       "  </tbody>\n",
       "</table>\n",
       "</div>"
      ],
      "text/plain": [
       "   Latitude   Wind\n",
       "0  -21.2000  12.66\n",
       "1   60.8156   3.87\n",
       "2  -54.8000  25.32\n",
       "3   52.0842   4.54\n",
       "4   66.8333   8.01"
      ]
     },
     "execution_count": 12,
     "metadata": {},
     "output_type": "execute_result"
    }
   ],
   "source": [
    "lat_vs_wind = city_stat_pd.groupby(city_stat)[['Latitude', 'Wind']]\r\n",
    "lat_vs_wind.head()"
   ]
  },
  {
   "cell_type": "code",
   "execution_count": 188,
   "metadata": {},
   "outputs": [
    {
     "data": {
      "text/plain": [
       "Latitude           579\n",
       "Longitude          579\n",
       "Max Temperature    579\n",
       "Humidity           579\n",
       "Clouds             579\n",
       "Wind               579\n",
       "Date               579\n",
       "dtype: int64"
      ]
     },
     "execution_count": 188,
     "metadata": {},
     "output_type": "execute_result"
    }
   ],
   "source": [
    "count = city_stat_pd.count()\r\n",
    "count = count.drop(['City','Country'])\r\n",
    "count"
   ]
  },
  {
   "cell_type": "code",
   "execution_count": 159,
   "metadata": {},
   "outputs": [
    {
     "data": {
      "text/plain": [
       "Latitude           2.096060e+01\n",
       "Longitude          1.788956e+01\n",
       "Max Temperature    6.948680e+01\n",
       "Humidity           6.831088e+01\n",
       "Clouds             5.660276e+01\n",
       "Wind               7.566339e+00\n",
       "Date               1.624684e+09\n",
       "dtype: float64"
      ]
     },
     "execution_count": 159,
     "metadata": {},
     "output_type": "execute_result"
    }
   ],
   "source": [
    "#mean = city_stat_pd.groupby(city_stat)['Latitude'].mean()\r\n",
    "mean = city_stat_pd.mean()\r\n",
    "mean"
   ]
  },
  {
   "cell_type": "code",
   "execution_count": 160,
   "metadata": {},
   "outputs": [
    {
     "data": {
      "text/plain": [
       "Latitude           2.551980e+01\n",
       "Longitude          2.448330e+01\n",
       "Max Temperature    7.140000e+01\n",
       "Humidity           7.300000e+01\n",
       "Clouds             6.500000e+01\n",
       "Wind               6.420000e+00\n",
       "Date               1.624684e+09\n",
       "dtype: float64"
      ]
     },
     "execution_count": 160,
     "metadata": {},
     "output_type": "execute_result"
    }
   ],
   "source": [
    "median = city_stat_pd.median()\r\n",
    "median"
   ]
  },
  {
   "cell_type": "code",
   "execution_count": 161,
   "metadata": {},
   "outputs": [
    {
     "data": {
      "text/plain": [
       "Latitude           32.599670\n",
       "Longitude          89.221906\n",
       "Max Temperature    14.028022\n",
       "Humidity           21.147858\n",
       "Clouds             38.505710\n",
       "Wind                5.416950\n",
       "Date               96.303093\n",
       "dtype: float64"
      ]
     },
     "execution_count": 161,
     "metadata": {},
     "output_type": "execute_result"
    }
   ],
   "source": [
    "standard_dv = city_stat_pd.std()\r\n",
    "standard_dv"
   ]
  },
  {
   "cell_type": "code",
   "execution_count": 162,
   "metadata": {},
   "outputs": [
    {
     "data": {
      "text/plain": [
       "Latitude                -54.8\n",
       "Longitude            -179.167\n",
       "Max Temperature         30.34\n",
       "Humidity                    6\n",
       "Clouds                      0\n",
       "Wind                        0\n",
       "Date               1624683725\n",
       "dtype: object"
      ]
     },
     "execution_count": 162,
     "metadata": {},
     "output_type": "execute_result"
    }
   ],
   "source": [
    "weather_min = city_stat_pd.min()\r\n",
    "weather_min.drop(['City','Country'])"
   ]
  },
  {
   "cell_type": "code",
   "execution_count": 163,
   "metadata": {},
   "outputs": [
    {
     "data": {
      "text/html": [
       "<div>\n",
       "<style scoped>\n",
       "    .dataframe tbody tr th:only-of-type {\n",
       "        vertical-align: middle;\n",
       "    }\n",
       "\n",
       "    .dataframe tbody tr th {\n",
       "        vertical-align: top;\n",
       "    }\n",
       "\n",
       "    .dataframe thead th {\n",
       "        text-align: right;\n",
       "    }\n",
       "</style>\n",
       "<table border=\"1\" class=\"dataframe\">\n",
       "  <thead>\n",
       "    <tr style=\"text-align: right;\">\n",
       "      <th></th>\n",
       "      <th>Latitude</th>\n",
       "      <th>Longitude</th>\n",
       "      <th>Max Temperature</th>\n",
       "      <th>Humidity</th>\n",
       "      <th>Clouds</th>\n",
       "      <th>Wind</th>\n",
       "      <th>Date</th>\n",
       "    </tr>\n",
       "  </thead>\n",
       "  <tbody>\n",
       "    <tr>\n",
       "      <th>0.25</th>\n",
       "      <td>-3.96290</td>\n",
       "      <td>-60.45655</td>\n",
       "      <td>60.08</td>\n",
       "      <td>54.5</td>\n",
       "      <td>17.0</td>\n",
       "      <td>3.62</td>\n",
       "      <td>1.624684e+09</td>\n",
       "    </tr>\n",
       "    <tr>\n",
       "      <th>0.50</th>\n",
       "      <td>25.51980</td>\n",
       "      <td>24.48330</td>\n",
       "      <td>71.40</td>\n",
       "      <td>73.0</td>\n",
       "      <td>65.0</td>\n",
       "      <td>6.42</td>\n",
       "      <td>1.624684e+09</td>\n",
       "    </tr>\n",
       "    <tr>\n",
       "      <th>0.75</th>\n",
       "      <td>47.73545</td>\n",
       "      <td>96.88500</td>\n",
       "      <td>80.94</td>\n",
       "      <td>85.0</td>\n",
       "      <td>95.0</td>\n",
       "      <td>10.49</td>\n",
       "      <td>1.624684e+09</td>\n",
       "    </tr>\n",
       "  </tbody>\n",
       "</table>\n",
       "</div>"
      ],
      "text/plain": [
       "      Latitude  Longitude  Max Temperature  Humidity  Clouds   Wind  \\\n",
       "0.25  -3.96290  -60.45655            60.08      54.5    17.0   3.62   \n",
       "0.50  25.51980   24.48330            71.40      73.0    65.0   6.42   \n",
       "0.75  47.73545   96.88500            80.94      85.0    95.0  10.49   \n",
       "\n",
       "              Date  \n",
       "0.25  1.624684e+09  \n",
       "0.50  1.624684e+09  \n",
       "0.75  1.624684e+09  "
      ]
     },
     "execution_count": 163,
     "metadata": {},
     "output_type": "execute_result"
    }
   ],
   "source": [
    "weather_quartile = city_stat_pd.quantile([0.25,0.5,0.75])\r\n",
    "weather_quartile\r\n"
   ]
  },
  {
   "cell_type": "code",
   "execution_count": 186,
   "metadata": {},
   "outputs": [
    {
     "data": {
      "text/plain": [
       "Latitude              78.2186\n",
       "Longitude             178.417\n",
       "Max Temperature         96.91\n",
       "Humidity                  100\n",
       "Clouds                    100\n",
       "Wind                    35.68\n",
       "Date               1624684215\n",
       "dtype: object"
      ]
     },
     "execution_count": 186,
     "metadata": {},
     "output_type": "execute_result"
    }
   ],
   "source": [
    "weather_max = city_stat_pd.max()\r\n",
    "weather_max = weather_max.drop(['City','Country'])\r\n",
    "weather_max"
   ]
  },
  {
   "cell_type": "code",
   "execution_count": 189,
   "metadata": {},
   "outputs": [
    {
     "data": {
      "text/plain": [
       "(Latitude           579\n",
       " Longitude          579\n",
       " Max Temperature    579\n",
       " Humidity           579\n",
       " Clouds             579\n",
       " Wind               579\n",
       " Date               579\n",
       " dtype: int64,\n",
       " Latitude           2.096060e+01\n",
       " Longitude          1.788956e+01\n",
       " Max Temperature    6.948680e+01\n",
       " Humidity           6.831088e+01\n",
       " Clouds             5.660276e+01\n",
       " Wind               7.566339e+00\n",
       " Date               1.624684e+09\n",
       " dtype: float64,\n",
       " Latitude           2.551980e+01\n",
       " Longitude          2.448330e+01\n",
       " Max Temperature    7.140000e+01\n",
       " Humidity           7.300000e+01\n",
       " Clouds             6.500000e+01\n",
       " Wind               6.420000e+00\n",
       " Date               1.624684e+09\n",
       " dtype: float64,\n",
       " Latitude           32.599670\n",
       " Longitude          89.221906\n",
       " Max Temperature    14.028022\n",
       " Humidity           21.147858\n",
       " Clouds             38.505710\n",
       " Wind                5.416950\n",
       " Date               96.303093\n",
       " dtype: float64,\n",
       " City                   abeche\n",
       " Latitude                -54.8\n",
       " Longitude            -179.167\n",
       " Max Temperature         30.34\n",
       " Humidity                    6\n",
       " Clouds                      0\n",
       " Wind                        0\n",
       " Country                    AE\n",
       " Date               1624683725\n",
       " dtype: object,\n",
       "       Latitude  Longitude  Max Temperature  Humidity  Clouds   Wind  \\\n",
       " 0.25  -3.96290  -60.45655            60.08      54.5    17.0   3.62   \n",
       " 0.50  25.51980   24.48330            71.40      73.0    65.0   6.42   \n",
       " 0.75  47.73545   96.88500            80.94      85.0    95.0  10.49   \n",
       " \n",
       "               Date  \n",
       " 0.25  1.624684e+09  \n",
       " 0.50  1.624684e+09  \n",
       " 0.75  1.624684e+09  ,\n",
       " Latitude              78.2186\n",
       " Longitude             178.417\n",
       " Max Temperature         96.91\n",
       " Humidity                  100\n",
       " Clouds                    100\n",
       " Wind                    35.68\n",
       " Date               1624684215\n",
       " dtype: object)"
      ]
     },
     "execution_count": 189,
     "metadata": {},
     "output_type": "execute_result"
    }
   ],
   "source": [
    "# sum_city = count\r\n",
    "# sum_city = mean\r\n",
    "# sum_city = median\r\n",
    "# sum_city = standard_dv\r\n",
    "# sum_city = weather_min, \r\n",
    "# sum_city = weather_quartile\r\n",
    "# sum_city = weather_max\r\n",
    "# sum_city.drop(['City','Country'])\r\n",
    "sum_city = (count, mean, median, standard_dv,weather_min, weather_quartile, weather_max)\r\n",
    "sum_city"
   ]
  },
  {
   "cell_type": "code",
   "execution_count": 194,
   "metadata": {},
   "outputs": [
    {
     "data": {
      "text/html": [
       "<div>\n",
       "<style scoped>\n",
       "    .dataframe tbody tr th:only-of-type {\n",
       "        vertical-align: middle;\n",
       "    }\n",
       "\n",
       "    .dataframe tbody tr th {\n",
       "        vertical-align: top;\n",
       "    }\n",
       "\n",
       "    .dataframe thead th {\n",
       "        text-align: right;\n",
       "    }\n",
       "</style>\n",
       "<table border=\"1\" class=\"dataframe\">\n",
       "  <thead>\n",
       "    <tr style=\"text-align: right;\">\n",
       "      <th></th>\n",
       "      <th>Lat</th>\n",
       "      <th>Lng</th>\n",
       "      <th>Max Temp</th>\n",
       "      <th>Humidity</th>\n",
       "      <th>Cloudiness</th>\n",
       "      <th>Wind Speed</th>\n",
       "      <th>Date</th>\n",
       "    </tr>\n",
       "  </thead>\n",
       "  <tbody>\n",
       "    <tr>\n",
       "      <th>count</th>\n",
       "      <td>0</td>\n",
       "      <td>0</td>\n",
       "      <td>0</td>\n",
       "      <td>0</td>\n",
       "      <td>0</td>\n",
       "      <td>0</td>\n",
       "      <td>0</td>\n",
       "    </tr>\n",
       "    <tr>\n",
       "      <th>unique</th>\n",
       "      <td>0</td>\n",
       "      <td>0</td>\n",
       "      <td>0</td>\n",
       "      <td>0</td>\n",
       "      <td>0</td>\n",
       "      <td>0</td>\n",
       "      <td>0</td>\n",
       "    </tr>\n",
       "    <tr>\n",
       "      <th>top</th>\n",
       "      <td>NaN</td>\n",
       "      <td>NaN</td>\n",
       "      <td>NaN</td>\n",
       "      <td>NaN</td>\n",
       "      <td>NaN</td>\n",
       "      <td>NaN</td>\n",
       "      <td>NaN</td>\n",
       "    </tr>\n",
       "    <tr>\n",
       "      <th>freq</th>\n",
       "      <td>NaN</td>\n",
       "      <td>NaN</td>\n",
       "      <td>NaN</td>\n",
       "      <td>NaN</td>\n",
       "      <td>NaN</td>\n",
       "      <td>NaN</td>\n",
       "      <td>NaN</td>\n",
       "    </tr>\n",
       "  </tbody>\n",
       "</table>\n",
       "</div>"
      ],
      "text/plain": [
       "        Lat  Lng Max Temp Humidity Cloudiness Wind Speed Date\n",
       "count     0    0        0        0          0          0    0\n",
       "unique    0    0        0        0          0          0    0\n",
       "top     NaN  NaN      NaN      NaN        NaN        NaN  NaN\n",
       "freq    NaN  NaN      NaN      NaN        NaN        NaN  NaN"
      ]
     },
     "execution_count": 194,
     "metadata": {},
     "output_type": "execute_result"
    }
   ],
   "source": [
    "#working on it\r\n",
    "# count = city_stat_pd.count()\r\n",
    "# mean = city_stat_pd.mean()\r\n",
    "# median = city_stat_pd.median()\r\n",
    "# standard_dv = city_stat_pd.std()\r\n",
    "# weather_min = city_stat_pd.min()\r\n",
    "# weather_quartile = city_stat_pd.quantile([0.25,0.5,0.75])\r\n",
    "# weather_max = city_stat_pd.max\r\n",
    "#data = [[count, mean, median, standard_dv, weather_min, weather_quartile, weather_max]]\r\n",
    "#summary_df = pd.DataFrame({\"Lat\": [city_lat], \"Lng\": [city_lng], \"Max Temp\": [city_max_temp],\"Humidity\": [city_humidity], \"Cloudiness\": [city_clouds], \"Wind Speed\": [city_wind], \"Date\": [city_date]})\r\n",
    "#summary_df.describe()\r\n",
    "#sum_df = pd.DataFrame(count, mean, median, standard_dv, weather_min, weather_quartile, weather_max, columns = ['Lat', 'Lng', 'Max Temp', 'Humidity', 'Cloudiness', 'Wind Speed', 'Date'])\r\n",
    "\r\n",
    "# summary = ({'Lat': count, 'Lng': mean, 'Max Temp': median, 'Humidity':standard_dv, 'Cloudiness':weather_min, 'Wind Speed':weather_quartile, 'Date':weather_max})\r\n",
    "# summary = pd.DataFrame(summary)\r\n",
    "# summary \r\n",
    "summary = sum_city\r\n",
    "summary = pd.DataFrame( columns = ['Lat', 'Lng', 'Max Temp', 'Humidity', 'Cloudiness', 'Wind Speed', 'Date'])\r\n",
    "summary.describe()"
   ]
  },
  {
   "cell_type": "code",
   "execution_count": null,
   "metadata": {},
   "outputs": [],
   "source": []
  },
  {
   "cell_type": "markdown",
   "metadata": {},
   "source": [
    "## Inspect the data and remove the cities where the humidity > 100%.\n",
    "----\n",
    "Skip this step if there are no cities that have humidity > 100%. "
   ]
  },
  {
   "cell_type": "code",
   "execution_count": 193,
   "metadata": {},
   "outputs": [
    {
     "data": {
      "text/plain": [
       "Humidity    100\n",
       "dtype: int64"
      ]
     },
     "execution_count": 193,
     "metadata": {},
     "output_type": "execute_result"
    }
   ],
   "source": [
    "max_humid = city_stat_pd[['Humidity']].max()\r\n",
    "max_humid\r\n",
    "#max_humid = max('Humidity')\r\n",
    "\r\n",
    "#print('Max Humidity:', max_humid)"
   ]
  },
  {
   "cell_type": "code",
   "execution_count": null,
   "metadata": {},
   "outputs": [],
   "source": []
  },
  {
   "cell_type": "code",
   "execution_count": 15,
   "metadata": {},
   "outputs": [],
   "source": [
    "#  Get the indices of cities that have humidity over 100%.\n"
   ]
  },
  {
   "cell_type": "code",
   "execution_count": 16,
   "metadata": {},
   "outputs": [],
   "source": [
    "# Make a new DataFrame equal to the city data to drop all humidity outliers by index.\n",
    "# Passing \"inplace=False\" will make a copy of the city_data DataFrame, which we call \"clean_city_data\".\n"
   ]
  },
  {
   "cell_type": "code",
   "execution_count": null,
   "metadata": {},
   "outputs": [],
   "source": [
    "\n"
   ]
  },
  {
   "cell_type": "markdown",
   "metadata": {},
   "source": [
    "## Plotting the Data\n",
    "* Use proper labeling of the plots using plot titles (including date of analysis) and axes labels.\n",
    "* Save the plotted figures as .pngs."
   ]
  },
  {
   "cell_type": "markdown",
   "metadata": {},
   "source": [
    "## Latitude vs. Temperature Plot"
   ]
  },
  {
   "cell_type": "code",
   "execution_count": 31,
   "metadata": {
    "scrolled": true
   },
   "outputs": [
    {
     "data": {
      "image/png": "[encoded data removed]",
      "text/plain": [
       "<Figure size 432x288 with 1 Axes>"
      ]
     },
     "metadata": {
      "needs_background": "light"
     },
     "output_type": "display_data"
    }
   ],
   "source": [
    "lat_vs_temp = city_stat_pd.plot.scatter(x=\"Latitude\", y=\"Max Temperature\")\r\n",
    "plt.title('Latitude vs. Temperature (6/25/2021')\r\n",
    "plt.ylabel('Max Temperature (F)')\r\n",
    "plt.savefig(\"output_data/LatvsTemp.png\")\r\n",
    "plt.show()"
   ]
  },
  {
   "cell_type": "markdown",
   "metadata": {},
   "source": [
    "## Latitude vs. Humidity Plot"
   ]
  },
  {
   "cell_type": "code",
   "execution_count": 32,
   "metadata": {},
   "outputs": [
    {
     "data": {
      "image/png": "[encoded data removed]",
      "text/plain": [
       "<Figure size 432x288 with 1 Axes>"
      ]
     },
     "metadata": {
      "needs_background": "light"
     },
     "output_type": "display_data"
    }
   ],
   "source": [
    "lat_vs_humid = city_stat_pd.plot.scatter(x ='Latitude', y ='Humidity')\r\n",
    "plt.title('Latitude vs. Humidity (6/25/2021)')\r\n",
    "plt.ylabel('Humidity (%)')\r\n",
    "plt.savefig(\"output_data/LatvsHum.png\")\r\n",
    "plt.show()"
   ]
  },
  {
   "cell_type": "markdown",
   "metadata": {},
   "source": [
    "## Latitude vs. Cloudiness Plot"
   ]
  },
  {
   "cell_type": "code",
   "execution_count": 33,
   "metadata": {},
   "outputs": [
    {
     "data": {
      "image/png": "[encoded data removed]",
      "text/plain": [
       "<Figure size 432x288 with 1 Axes>"
      ]
     },
     "metadata": {
      "needs_background": "light"
     },
     "output_type": "display_data"
    }
   ],
   "source": [
    "lat_vs_cloud = city_stat_pd.plot.scatter(x='Latitude', y ='Clouds')\r\n",
    "plt.title('Latitude vs. Cloudiness (6/25/2021)')\r\n",
    "plt.ylabel('Cloudiness (%)')\r\n",
    "plt.savefig(\"output_data/LatvsCloud.png\")\r\n",
    "plt.show()"
   ]
  },
  {
   "cell_type": "markdown",
   "metadata": {},
   "source": [
    "## Latitude vs. Wind Speed Plot"
   ]
  },
  {
   "cell_type": "code",
   "execution_count": 34,
   "metadata": {},
   "outputs": [
    {
     "data": {
      "image/png": "[encoded data removed]",
      "text/plain": [
       "<Figure size 432x288 with 1 Axes>"
      ]
     },
     "metadata": {
      "needs_background": "light"
     },
     "output_type": "display_data"
    }
   ],
   "source": [
    "lat_vs_wind = city_stat_pd.plot.scatter(x = 'Latitude', y ='Wind')\r\n",
    "plt.title('Latitude vs. Wind Speed (6/25/2021)')\r\n",
    "plt.ylabel('Wind Speed (mph)')\r\n",
    "plt.savefig(\"output_data/LatvsWind.png\")\r\n",
    "plt.show()"
   ]
  },
  {
   "cell_type": "markdown",
   "metadata": {},
   "source": [
    "## Linear Regression"
   ]
  },
  {
   "cell_type": "code",
   "execution_count": 21,
   "metadata": {},
   "outputs": [],
   "source": [
    "north_hemisphere_df = city_stat_pd.loc[(city_stat_pd[\"Latitude\"]>= 0)]\r\n",
    "south_hemisphere_df = city_stat_pd.loc[(city_stat_pd[\"Latitude\"]< 0)]"
   ]
  },
  {
   "cell_type": "code",
   "execution_count": 22,
   "metadata": {},
   "outputs": [],
   "source": [
    "def plot_linear_regression(x_values, y_values, title, text_coordinates):\r\n",
    "\r\n",
    "    (slope, intercept, rvalue, pvalue, stderr) = linregress(x_values, y_values)\r\n",
    "    regress_values = x_values * slope + intercept\r\n",
    "    line_eq = \"y = \" + str(round(slope,2)) + \"x + \" + str(round(intercept,2))\r\n",
    "\r\n",
    "\r\n",
    "    plt.scatter(x_values,y_values)\r\n",
    "    plt.plot(x_values,regress_values,\"r-\")\r\n",
    "    plt.annotate(line_eq,text_coordinates,fontsize=18,color=\"red\")\r\n",
    "    plt.xlabel('Latitude')\r\n",
    "    plt.ylabel(title)\r\n",
    "    print(f\"The r-value is: {rvalue**2}\")\r\n",
    "    plt.show()\r\n"
   ]
  },
  {
   "cell_type": "markdown",
   "metadata": {},
   "source": [
    "####  Northern Hemisphere - Max Temp vs. Latitude Linear Regression"
   ]
  },
  {
   "cell_type": "code",
   "execution_count": 23,
   "metadata": {},
   "outputs": [
    {
     "name": "stdout",
     "output_type": "stream",
     "text": [
      "The r-value is: 0.3846358588632889\n"
     ]
    },
    {
     "data": {
      "image/png": "[encoded data removed]",
      "text/plain": [
       "<Figure size 432x288 with 1 Axes>"
      ]
     },
     "metadata": {
      "needs_background": "light"
     },
     "output_type": "display_data"
    }
   ],
   "source": [
    "x_values = north_hemisphere_df[\"Latitude\"]\r\n",
    "y_values = north_hemisphere_df[\"Max Temperature\"]\r\n",
    "plot_linear_regression(x_values, y_values, 'Max Temperature', (6,14))\r\n",
    "plt.show()\r\n"
   ]
  },
  {
   "cell_type": "markdown",
   "metadata": {},
   "source": [
    "####  Southern Hemisphere - Max Temp vs. Latitude Linear Regression"
   ]
  },
  {
   "cell_type": "code",
   "execution_count": 24,
   "metadata": {},
   "outputs": [
    {
     "name": "stdout",
     "output_type": "stream",
     "text": [
      "The r-value is: 0.5912305541673288\n"
     ]
    },
    {
     "data": {
      "image/png": "[encoded data removed]",
      "text/plain": [
       "<Figure size 432x288 with 1 Axes>"
      ]
     },
     "metadata": {
      "needs_background": "light"
     },
     "output_type": "display_data"
    }
   ],
   "source": [
    "x_values = south_hemisphere_df[\"Latitude\"]\r\n",
    "y_values = south_hemisphere_df[\"Max Temperature\"]\r\n",
    "plot_linear_regression(x_values, y_values, 'Max Temperature', (6,14))\r\n",
    "plt.show()"
   ]
  },
  {
   "cell_type": "markdown",
   "metadata": {},
   "source": [
    "####  Northern Hemisphere - Humidity (%) vs. Latitude Linear Regression"
   ]
  },
  {
   "cell_type": "code",
   "execution_count": 25,
   "metadata": {},
   "outputs": [
    {
     "name": "stdout",
     "output_type": "stream",
     "text": [
      "The r-value is: 0.0037396789654902335\n"
     ]
    },
    {
     "data": {
      "image/png": "[encoded data removed]",
      "text/plain": [
       "<Figure size 432x288 with 1 Axes>"
      ]
     },
     "metadata": {
      "needs_background": "light"
     },
     "output_type": "display_data"
    }
   ],
   "source": [
    "x_values = north_hemisphere_df[\"Latitude\"]\r\n",
    "y_values = north_hemisphere_df[\"Humidity\"]\r\n",
    "plot_linear_regression(x_values, y_values, 'Humidity', (6,14))\r\n",
    "plt.show()"
   ]
  },
  {
   "cell_type": "markdown",
   "metadata": {},
   "source": [
    "####  Southern Hemisphere - Humidity (%) vs. Latitude Linear Regression"
   ]
  },
  {
   "cell_type": "code",
   "execution_count": 26,
   "metadata": {},
   "outputs": [
    {
     "name": "stdout",
     "output_type": "stream",
     "text": [
      "The r-value is: 0.0006002869386806937\n"
     ]
    },
    {
     "data": {
      "image/png": "[encoded data removed]",
      "text/plain": [
       "<Figure size 432x288 with 1 Axes>"
      ]
     },
     "metadata": {
      "needs_background": "light"
     },
     "output_type": "display_data"
    }
   ],
   "source": [
    "x_values = south_hemisphere_df[\"Latitude\"]\r\n",
    "y_values = south_hemisphere_df[\"Humidity\"]\r\n",
    "plot_linear_regression(x_values, y_values, 'Humidity', (6,14))\r\n",
    "plt.show() "
   ]
  },
  {
   "cell_type": "markdown",
   "metadata": {},
   "source": [
    "####  Northern Hemisphere - Cloudiness (%) vs. Latitude Linear Regression"
   ]
  },
  {
   "cell_type": "code",
   "execution_count": 27,
   "metadata": {},
   "outputs": [
    {
     "name": "stdout",
     "output_type": "stream",
     "text": [
      "The r-value is: 0.002036420494695259\n"
     ]
    },
    {
     "data": {
      "image/png": "[encoded data removed]",
      "text/plain": [
       "<Figure size 432x288 with 1 Axes>"
      ]
     },
     "metadata": {
      "needs_background": "light"
     },
     "output_type": "display_data"
    }
   ],
   "source": [
    "x_values = north_hemisphere_df[\"Latitude\"]\r\n",
    "y_values = north_hemisphere_df[\"Clouds\"]\r\n",
    "plot_linear_regression(x_values, y_values, 'Cloudiness', (6,14))\r\n",
    "plt.show()"
   ]
  },
  {
   "cell_type": "markdown",
   "metadata": {},
   "source": [
    "####  Southern Hemisphere - Cloudiness (%) vs. Latitude Linear Regression"
   ]
  },
  {
   "cell_type": "code",
   "execution_count": 28,
   "metadata": {},
   "outputs": [
    {
     "name": "stdout",
     "output_type": "stream",
     "text": [
      "The r-value is: 0.000320130895617425\n"
     ]
    },
    {
     "data": {
      "image/png": "[encoded data removed]",
      "text/plain": [
       "<Figure size 432x288 with 1 Axes>"
      ]
     },
     "metadata": {
      "needs_background": "light"
     },
     "output_type": "display_data"
    }
   ],
   "source": [
    "x_values = south_hemisphere_df[\"Latitude\"]\r\n",
    "y_values = south_hemisphere_df[\"Clouds\"]\r\n",
    "plot_linear_regression(x_values, y_values, 'Cloudiness', (6,14))\r\n",
    "plt.show()"
   ]
  },
  {
   "cell_type": "markdown",
   "metadata": {},
   "source": [
    "####  Northern Hemisphere - Wind Speed (mph) vs. Latitude Linear Regression"
   ]
  },
  {
   "cell_type": "code",
   "execution_count": 29,
   "metadata": {},
   "outputs": [
    {
     "name": "stdout",
     "output_type": "stream",
     "text": [
      "The r-value is: 0.0007793589714643098\n"
     ]
    },
    {
     "data": {
      "image/png": "[encoded data removed]",
      "text/plain": [
       "<Figure size 432x288 with 1 Axes>"
      ]
     },
     "metadata": {
      "needs_background": "light"
     },
     "output_type": "display_data"
    }
   ],
   "source": [
    "x_values = north_hemisphere_df[\"Latitude\"]\r\n",
    "y_values = north_hemisphere_df[\"Wind\"]\r\n",
    "plot_linear_regression(x_values, y_values, 'Wind Speed', (6,14))\r\n",
    "plt.show()"
   ]
  },
  {
   "cell_type": "markdown",
   "metadata": {},
   "source": [
    "####  Southern Hemisphere - Wind Speed (mph) vs. Latitude Linear Regression"
   ]
  },
  {
   "cell_type": "code",
   "execution_count": 30,
   "metadata": {},
   "outputs": [
    {
     "name": "stdout",
     "output_type": "stream",
     "text": [
      "The r-value is: 0.022072022958931684\n"
     ]
    },
    {
     "data": {
      "image/png": "[encoded data removed]",
      "text/plain": [
       "<Figure size 432x288 with 1 Axes>"
      ]
     },
     "metadata": {
      "needs_background": "light"
     },
     "output_type": "display_data"
    }
   ],
   "source": [
    "x_values = south_hemisphere_df[\"Latitude\"]\r\n",
    "y_values = south_hemisphere_df[\"Wind\"]\r\n",
    "plot_linear_regression(x_values, y_values, 'Wind Speed', (6,14))\r\n",
    "plt.show()\r\n"
   ]
  },
  {
   "cell_type": "code",
   "execution_count": null,
   "metadata": {},
   "outputs": [],
   "source": []
  }
 ],
 "metadata": {
  "anaconda-cloud": {},
  "interpreter": {
   "hash": "61ee4eedbb40f6b204db7353fb8ee3c1ac35e9b22dd076c003bd79c74bdea4cf"
  },
  "kernel_info": {
   "name": "python3"
  },
  "kernelspec": {
   "display_name": "Python 3.6.10 64-bit ('PythonData': conda)",
   "name": "python3"
  },
  "language_info": {
   "codemirror_mode": {
    "name": "ipython",
    "version": 3
   },
   "file_extension": ".py",
   "mimetype": "text/x-python",
   "name": "python",
   "nbconvert_exporter": "python",
   "pygments_lexer": "ipython3",
   "version": "3.6.10"
  },
  "latex_envs": {
   "LaTeX_envs_menu_present": true,
   "autoclose": false,
   "autocomplete": true,
   "bibliofile": "biblio.bib",
   "cite_by": "apalike",
   "current_citInitial": 1,
   "eqLabelWithNumbers": true,
   "eqNumInitial": 1,
   "hotkeys": {
    "equation": "Ctrl-E",
    "itemize": "Ctrl-I"
   },
   "labels_anchors": false,
   "latex_user_defs": false,
   "report_style_numbering": false,
   "user_envs_cfg": false
  },
  "nteract": {
   "version": "0.12.3"
  }
 },
 "nbformat": 4,
 "nbformat_minor": 2
}