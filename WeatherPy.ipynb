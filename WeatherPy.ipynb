{
 "cells": [
  {
   "cell_type": "markdown",
   "metadata": {},
   "source": [
    "# WeatherPy\n",
    "----\n",
    "\n",
    "#### Note\n",
    "* Instructions have been included for each segment. You do not have to follow them exactly, but they are included to help you think through the steps."
   ]
  },
  {
   "cell_type": "code",
   "execution_count": 2,
   "metadata": {
    "scrolled": true
   },
   "outputs": [],
   "source": [
    "#Obervation 1: With Lat vs Temperature, we can see that as the latitude increases beyond 20 or decreases belowe -20 then the temperature will also decrease. It also makes sense to note that the highest temperature lies around the equator\r\n",
    "#Observation 2: Although cloudiness is very random/scattered, we can see that in the northern hemisphere there is a higher percentage of clouds ranging 50% and above noting that there are more instances of cloudiness at 100%\r\n",
    "#Observation 3: From the linear regression data for windspeed, the windspeed gradually increases the further north we go within the northern hemisphere whereas for the southern hemisphere the further north or closer to the equator we go, the wind decreases. \r\n",
    "                # But the wind speed increase/decrease is minimal. \r\n",
    "\r\n",
    "# Dependencies and Setup\r\n",
    "import matplotlib.pyplot as plt\r\n",
    "import pandas as pd\r\n",
    "import numpy as np\r\n",
    "import requests\r\n",
    "import time\r\n",
    "from scipy.stats import linregress\r\n",
    "\r\n",
    "# Import API key\r\n",
    "from api_keys import weather_api_key\r\n",
    "\r\n",
    "# Incorporated citipy to determine city based on latitude and longitude\r\n",
    "from citipy import citipy\r\n",
    "\r\n",
    "# Output File (CSV)\r\n",
    "output_data_file = \"output_data/cities.csv\"\r\n",
    "\r\n",
    "# Range of latitudes and longitudes\r\n",
    "lat_range = (-90, 90)\r\n",
    "lng_range = (-180, 180)"
   ]
  },
  {
   "cell_type": "markdown",
   "metadata": {},
   "source": [
    "## Generate Cities List"
   ]
  },
  {
   "cell_type": "code",
   "execution_count": 3,
   "metadata": {},
   "outputs": [
    {
     "data": {
      "text/plain": [
       "609"
      ]
     },
     "execution_count": 3,
     "metadata": {},
     "output_type": "execute_result"
    }
   ],
   "source": [
    "# List for holding lat_lngs and cities\n",
    "lat_lngs = []\n",
    "cities = []\n",
    "\n",
    "# Create a set of random lat and lng combinations\n",
    "lats = np.random.uniform(lat_range[0], lat_range[1], size=1500)\n",
    "lngs = np.random.uniform(lng_range[0], lng_range[1], size=1500)\n",
    "lat_lngs = zip(lats, lngs)\n",
    "\n",
    "# Identify nearest city for each lat, lng combination\n",
    "for lat_lng in lat_lngs:\n",
    "    city = citipy.nearest_city(lat_lng[0], lat_lng[1]).city_name\n",
    "    \n",
    "    # If the city is unique, then add it to a our cities list\n",
    "    if city not in cities:\n",
    "        cities.append(city)\n",
    "\n",
    "# Print the city count to confirm sufficient count\n",
    "len(cities)"
   ]
  },
  {
   "cell_type": "code",
   "execution_count": 4,
   "metadata": {},
   "outputs": [
    {
     "data": {
      "text/plain": [
       "<zip at 0x1773c772988>"
      ]
     },
     "execution_count": 4,
     "metadata": {},
     "output_type": "execute_result"
    }
   ],
   "source": [
    "lat_lngs"
   ]
  },
  {
   "cell_type": "markdown",
   "metadata": {},
   "source": [
    "### Perform API Calls\n",
    "* Perform a weather check on each city using a series of successive API calls.\n",
    "* Include a print log of each city as it'sbeing processed (with the city number and city name).\n"
   ]
  },
  {
   "cell_type": "code",
   "execution_count": 5,
   "metadata": {
    "scrolled": true
   },
   "outputs": [],
   "source": [
    "url =  \"http://api.openweathermap.org/data/2.5/weather?units=Imperial&APPID=\" + weather_api_key"
   ]
  },
  {
   "cell_type": "code",
   "execution_count": null,
   "metadata": {},
   "outputs": [],
   "source": []
  },
  {
   "cell_type": "code",
   "execution_count": 6,
   "metadata": {},
   "outputs": [
    {
     "name": "stdout",
     "output_type": "stream",
     "text": [
      "Beginning Data Retrieval\n",
      "-----------------------------\n",
      "Processing record set 1 of 609 with the city named camuy\n",
      "Processing record set 2 of 609 with the city named iquique\n",
      "Processing record set 3 of 609 with the city named grand river south east\n",
      "Error, city not found\n",
      "Processing record set 4 of 609 with the city named havoysund\n",
      "Processing record set 5 of 609 with the city named bundaberg\n",
      "Processing record set 6 of 609 with the city named tasiilaq\n",
      "Processing record set 7 of 609 with the city named rikitea\n",
      "Processing record set 8 of 609 with the city named esperance\n",
      "Processing record set 9 of 609 with the city named mount gambier\n",
      "Processing record set 10 of 609 with the city named bredasdorp\n",
      "Processing record set 11 of 609 with the city named hilo\n",
      "Processing record set 12 of 609 with the city named avarua\n",
      "Processing record set 13 of 609 with the city named kampene\n",
      "Processing record set 14 of 609 with the city named kodiak\n",
      "Processing record set 15 of 609 with the city named talnakh\n",
      "Processing record set 16 of 609 with the city named mar del plata\n",
      "Processing record set 17 of 609 with the city named aksarka\n",
      "Processing record set 18 of 609 with the city named geraldton\n",
      "Processing record set 19 of 609 with the city named wanning\n",
      "Processing record set 20 of 609 with the city named berberati\n",
      "Processing record set 21 of 609 with the city named lompoc\n",
      "Processing record set 22 of 609 with the city named carnarvon\n",
      "Processing record set 23 of 609 with the city named sentyabrskiy\n",
      "Error, city not found\n",
      "Processing record set 24 of 609 with the city named hermanus\n",
      "Processing record set 25 of 609 with the city named nikolskoye\n",
      "Processing record set 26 of 609 with the city named atuona\n",
      "Processing record set 27 of 609 with the city named balykshi\n",
      "Processing record set 28 of 609 with the city named richards bay\n",
      "Processing record set 29 of 609 with the city named taolanaro\n",
      "Error, city not found\n",
      "Processing record set 30 of 609 with the city named ostrovnoy\n",
      "Processing record set 31 of 609 with the city named airai\n",
      "Processing record set 32 of 609 with the city named half moon bay\n",
      "Processing record set 33 of 609 with the city named leningradskiy\n",
      "Processing record set 34 of 609 with the city named dikson\n",
      "Processing record set 35 of 609 with the city named yellowknife\n",
      "Processing record set 36 of 609 with the city named punta arenas\n",
      "Processing record set 37 of 609 with the city named ercis\n",
      "Processing record set 38 of 609 with the city named arraial do cabo\n",
      "Processing record set 39 of 609 with the city named mamlyutka\n",
      "Processing record set 40 of 609 with the city named urdzhar\n",
      "Error, city not found\n",
      "Processing record set 41 of 609 with the city named luderitz\n",
      "Processing record set 42 of 609 with the city named busselton\n",
      "Processing record set 43 of 609 with the city named bonthe\n",
      "Processing record set 44 of 609 with the city named tessalit\n",
      "Processing record set 45 of 609 with the city named loikaw\n",
      "Processing record set 46 of 609 with the city named poum\n",
      "Processing record set 47 of 609 with the city named westport\n",
      "Processing record set 48 of 609 with the city named nizhneyansk\n",
      "Error, city not found\n",
      "Processing record set 49 of 609 with the city named kapaa\n",
      "Processing record set 50 of 609 with the city named new norfolk\n",
      "Processing record set 51 of 609 with the city named nieuw amsterdam\n",
      "Processing record set 52 of 609 with the city named bargarh\n",
      "Processing record set 53 of 609 with the city named puerto ayora\n",
      "Processing record set 54 of 609 with the city named saint-philippe\n",
      "Processing record set 55 of 609 with the city named batemans bay\n",
      "Processing record set 56 of 609 with the city named san francisco\n",
      "Processing record set 57 of 609 with the city named cape town\n",
      "Processing record set 58 of 609 with the city named cabra\n",
      "Processing record set 59 of 609 with the city named bluff\n",
      "Processing record set 60 of 609 with the city named homer\n",
      "Processing record set 61 of 609 with the city named santa cruz cabralia\n",
      "Processing record set 62 of 609 with the city named tura\n",
      "Processing record set 63 of 609 with the city named codrington\n",
      "Processing record set 64 of 609 with the city named souillac\n",
      "Processing record set 65 of 609 with the city named albany\n",
      "Processing record set 66 of 609 with the city named pacific grove\n",
      "Processing record set 67 of 609 with the city named basco\n",
      "Processing record set 68 of 609 with the city named marzuq\n",
      "Processing record set 69 of 609 with the city named butaritari\n",
      "Processing record set 70 of 609 with the city named port alfred\n",
      "Processing record set 71 of 609 with the city named pitimbu\n",
      "Processing record set 72 of 609 with the city named mys shmidta\n",
      "Error, city not found\n",
      "Processing record set 73 of 609 with the city named upernavik\n",
      "Processing record set 74 of 609 with the city named kimbe\n",
      "Processing record set 75 of 609 with the city named barrow\n",
      "Processing record set 76 of 609 with the city named mataura\n",
      "Processing record set 77 of 609 with the city named ngukurr\n",
      "Error, city not found\n",
      "Processing record set 78 of 609 with the city named ilulissat\n",
      "Processing record set 79 of 609 with the city named karratha\n",
      "Processing record set 80 of 609 with the city named saskylakh\n",
      "Processing record set 81 of 609 with the city named kismayo\n",
      "Processing record set 82 of 609 with the city named barentsburg\n",
      "Error, city not found\n",
      "Processing record set 83 of 609 with the city named hope\n",
      "Processing record set 84 of 609 with the city named ushuaia\n",
      "Processing record set 85 of 609 with the city named boyolangu\n",
      "Processing record set 86 of 609 with the city named labuhan\n",
      "Processing record set 87 of 609 with the city named cantapoy\n",
      "Processing record set 88 of 609 with the city named illoqqortoormiut\n",
      "Error, city not found\n",
      "Processing record set 89 of 609 with the city named marsa matruh\n",
      "Processing record set 90 of 609 with the city named kashi\n",
      "Processing record set 91 of 609 with the city named visby\n",
      "Processing record set 92 of 609 with the city named san lorenzo\n",
      "Processing record set 93 of 609 with the city named tiarei\n",
      "Processing record set 94 of 609 with the city named saint george\n",
      "Processing record set 95 of 609 with the city named georgetown\n",
      "Processing record set 96 of 609 with the city named nanortalik\n",
      "Processing record set 97 of 609 with the city named imeni poliny osipenko\n",
      "Processing record set 98 of 609 with the city named ribeira grande\n",
      "Processing record set 99 of 609 with the city named dingle\n",
      "Processing record set 100 of 609 with the city named madison\n",
      "Processing record set 101 of 609 with the city named torbay\n",
      "Processing record set 102 of 609 with the city named karangasem\n",
      "Processing record set 103 of 609 with the city named saint-paul\n",
      "Processing record set 104 of 609 with the city named klaksvik\n",
      "Processing record set 105 of 609 with the city named ponta do sol\n",
      "Processing record set 106 of 609 with the city named hobart\n",
      "Processing record set 107 of 609 with the city named henderson\n",
      "Processing record set 108 of 609 with the city named ternate\n",
      "Processing record set 109 of 609 with the city named sisimiut\n",
      "Processing record set 110 of 609 with the city named bereda\n",
      "Processing record set 111 of 609 with the city named hithadhoo\n",
      "Processing record set 112 of 609 with the city named faanui\n",
      "Processing record set 113 of 609 with the city named kloulklubed\n",
      "Processing record set 114 of 609 with the city named luanda\n",
      "Processing record set 115 of 609 with the city named chuy\n",
      "Processing record set 116 of 609 with the city named abrau-dyurso\n",
      "Processing record set 117 of 609 with the city named rehnan\n",
      "Processing record set 118 of 609 with the city named besuki\n",
      "Processing record set 119 of 609 with the city named bilibino\n",
      "Processing record set 120 of 609 with the city named attawapiskat\n",
      "Error, city not found\n",
      "Processing record set 121 of 609 with the city named iralaya\n",
      "Processing record set 122 of 609 with the city named lavrentiya\n",
      "Processing record set 123 of 609 with the city named alugan\n",
      "Processing record set 124 of 609 with the city named saint-augustin\n",
      "Processing record set 125 of 609 with the city named port elizabeth\n",
      "Processing record set 126 of 609 with the city named kaili\n",
      "Processing record set 127 of 609 with the city named pevek\n",
      "Processing record set 128 of 609 with the city named galesong\n",
      "Processing record set 129 of 609 with the city named jamestown\n",
      "Processing record set 130 of 609 with the city named bengkulu\n",
      "Processing record set 131 of 609 with the city named kalmar\n",
      "Processing record set 132 of 609 with the city named caceres\n",
      "Processing record set 133 of 609 with the city named rio grande\n",
      "Processing record set 134 of 609 with the city named klyuchi\n",
      "Processing record set 135 of 609 with the city named san patricio\n",
      "Processing record set 136 of 609 with the city named kavieng\n",
      "Processing record set 137 of 609 with the city named katsuura\n",
      "Processing record set 138 of 609 with the city named moranbah\n",
      "Processing record set 139 of 609 with the city named khatanga\n",
      "Processing record set 140 of 609 with the city named vaini\n",
      "Processing record set 141 of 609 with the city named aklavik\n",
      "Processing record set 142 of 609 with the city named flin flon\n",
      "Processing record set 143 of 609 with the city named kavaratti\n",
      "Processing record set 144 of 609 with the city named manaure\n",
      "Processing record set 145 of 609 with the city named aloleng\n",
      "Processing record set 146 of 609 with the city named dukat\n",
      "Processing record set 147 of 609 with the city named safaga\n",
      "Processing record set 148 of 609 with the city named lebu\n",
      "Processing record set 149 of 609 with the city named kruisfontein\n",
      "Processing record set 150 of 609 with the city named chicama\n",
      "Processing record set 151 of 609 with the city named nova olimpia\n",
      "Processing record set 152 of 609 with the city named castro\n",
      "Processing record set 153 of 609 with the city named whitehorse\n",
      "Processing record set 154 of 609 with the city named wilmington island\n",
      "Processing record set 155 of 609 with the city named abha\n",
      "Processing record set 156 of 609 with the city named shenjiamen\n",
      "Processing record set 157 of 609 with the city named shumskiy\n",
      "Processing record set 158 of 609 with the city named vaitupu\n",
      "Error, city not found\n",
      "Processing record set 159 of 609 with the city named gamba\n",
      "Processing record set 160 of 609 with the city named eregli\n",
      "Processing record set 161 of 609 with the city named bikaner\n",
      "Processing record set 162 of 609 with the city named rio gallegos\n",
      "Processing record set 163 of 609 with the city named belushya guba\n",
      "Error, city not found\n",
      "Processing record set 164 of 609 with the city named kuching\n",
      "Processing record set 165 of 609 with the city named sinnamary\n",
      "Processing record set 166 of 609 with the city named guaruja\n",
      "Processing record set 167 of 609 with the city named walvis bay\n",
      "Processing record set 168 of 609 with the city named jijiga\n",
      "Processing record set 169 of 609 with the city named north ridgeville\n",
      "Processing record set 170 of 609 with the city named ugoofaaru\n",
      "Processing record set 171 of 609 with the city named australind\n",
      "Processing record set 172 of 609 with the city named cam ranh\n",
      "Processing record set 173 of 609 with the city named camacha\n",
      "Processing record set 174 of 609 with the city named hasaki\n",
      "Processing record set 175 of 609 with the city named puro\n",
      "Processing record set 176 of 609 with the city named nelson bay\n",
      "Processing record set 177 of 609 with the city named batagay\n",
      "Processing record set 178 of 609 with the city named jelgava\n",
      "Processing record set 179 of 609 with the city named tiksi\n",
      "Processing record set 180 of 609 with the city named paranapanema\n",
      "Processing record set 181 of 609 with the city named shache\n",
      "Processing record set 182 of 609 with the city named marcona\n",
      "Error, city not found\n",
      "Processing record set 183 of 609 with the city named port hardy\n",
      "Processing record set 184 of 609 with the city named garden city\n",
      "Processing record set 185 of 609 with the city named qaanaaq\n",
      "Processing record set 186 of 609 with the city named namie\n",
      "Processing record set 187 of 609 with the city named coquimbo\n",
      "Processing record set 188 of 609 with the city named campo verde\n",
      "Processing record set 189 of 609 with the city named tsihombe\n",
      "Error, city not found\n",
      "Processing record set 190 of 609 with the city named remontnoye\n",
      "Processing record set 191 of 609 with the city named quepos\n",
      "Processing record set 192 of 609 with the city named abu kamal\n",
      "Processing record set 193 of 609 with the city named fort nelson\n",
      "Processing record set 194 of 609 with the city named kharp\n",
      "Processing record set 195 of 609 with the city named oranjemund\n",
      "Processing record set 196 of 609 with the city named loughton\n",
      "Processing record set 197 of 609 with the city named tuktoyaktuk\n",
      "Processing record set 198 of 609 with the city named nantucket\n",
      "Processing record set 199 of 609 with the city named markova\n",
      "Processing record set 200 of 609 with the city named bidar\n",
      "Processing record set 201 of 609 with the city named scottsbluff\n",
      "Processing record set 202 of 609 with the city named anadyr\n",
      "Processing record set 203 of 609 with the city named asau\n",
      "Processing record set 204 of 609 with the city named channel-port aux basques\n",
      "Processing record set 205 of 609 with the city named xining\n",
      "Processing record set 206 of 609 with the city named amderma\n",
      "Error, city not found\n",
      "Processing record set 207 of 609 with the city named ust-kamchatsk\n",
      "Error, city not found\n",
      "Processing record set 208 of 609 with the city named kirando\n",
      "Processing record set 209 of 609 with the city named laguna\n",
      "Processing record set 210 of 609 with the city named bambous virieux\n",
      "Processing record set 211 of 609 with the city named novoagansk\n",
      "Processing record set 212 of 609 with the city named nouakchott\n",
      "Processing record set 213 of 609 with the city named mehamn\n",
      "Processing record set 214 of 609 with the city named merauke\n",
      "Processing record set 215 of 609 with the city named mizdah\n",
      "Processing record set 216 of 609 with the city named abalak\n",
      "Processing record set 217 of 609 with the city named verkhnyaya inta\n",
      "Processing record set 218 of 609 with the city named bethel\n",
      "Processing record set 219 of 609 with the city named praia da vitoria\n",
      "Processing record set 220 of 609 with the city named jatai\n",
      "Processing record set 221 of 609 with the city named teya\n",
      "Processing record set 222 of 609 with the city named burnie\n",
      "Processing record set 223 of 609 with the city named margate\n",
      "Processing record set 224 of 609 with the city named port-gentil\n",
      "Processing record set 225 of 609 with the city named kirakira\n",
      "Processing record set 226 of 609 with the city named cabo san lucas\n",
      "Processing record set 227 of 609 with the city named kibala\n",
      "Processing record set 228 of 609 with the city named marawi\n",
      "Processing record set 229 of 609 with the city named kahului\n",
      "Processing record set 230 of 609 with the city named broken hill\n",
      "Processing record set 231 of 609 with the city named teknaf\n",
      "Processing record set 232 of 609 with the city named vanimo\n",
      "Processing record set 233 of 609 with the city named mount isa\n",
      "Processing record set 234 of 609 with the city named rocha\n",
      "Processing record set 235 of 609 with the city named thompson\n",
      "Processing record set 236 of 609 with the city named jacqueville\n",
      "Processing record set 237 of 609 with the city named liverpool\n",
      "Processing record set 238 of 609 with the city named bima\n",
      "Processing record set 239 of 609 with the city named naze\n",
      "Processing record set 240 of 609 with the city named mahebourg\n",
      "Processing record set 241 of 609 with the city named sitka\n",
      "Processing record set 242 of 609 with the city named goias\n",
      "Processing record set 243 of 609 with the city named yar-sale\n",
      "Processing record set 244 of 609 with the city named yumen\n",
      "Processing record set 245 of 609 with the city named victoria\n",
      "Processing record set 246 of 609 with the city named kaitangata\n",
      "Processing record set 247 of 609 with the city named shingu\n",
      "Processing record set 248 of 609 with the city named beyneu\n",
      "Processing record set 249 of 609 with the city named amnat charoen\n",
      "Processing record set 250 of 609 with the city named harper\n",
      "Processing record set 251 of 609 with the city named severnyy\n",
      "Processing record set 252 of 609 with the city named palabuhanratu\n",
      "Error, city not found\n",
      "Processing record set 253 of 609 with the city named kudahuvadhoo\n",
      "Processing record set 254 of 609 with the city named bathsheba\n",
      "Processing record set 255 of 609 with the city named namatanai\n",
      "Processing record set 256 of 609 with the city named ilhabela\n",
      "Processing record set 257 of 609 with the city named ossora\n",
      "Processing record set 258 of 609 with the city named acajutla\n",
      "Processing record set 259 of 609 with the city named nuuk\n",
      "Processing record set 260 of 609 with the city named maiduguri\n",
      "Processing record set 261 of 609 with the city named kumluca\n",
      "Processing record set 262 of 609 with the city named vega de alatorre\n",
      "Processing record set 263 of 609 with the city named kieta\n",
      "Processing record set 264 of 609 with the city named esil\n",
      "Processing record set 265 of 609 with the city named cherskiy\n",
      "Processing record set 266 of 609 with the city named breyten\n",
      "Processing record set 267 of 609 with the city named dzaoudzi\n",
      "Processing record set 268 of 609 with the city named igarka\n",
      "Processing record set 269 of 609 with the city named leshukonskoye\n",
      "Processing record set 270 of 609 with the city named ketchikan\n",
      "Processing record set 271 of 609 with the city named cidreira\n",
      "Processing record set 272 of 609 with the city named maine-soroa\n",
      "Processing record set 273 of 609 with the city named crepy-en-valois\n",
      "Processing record set 274 of 609 with the city named komsomolskiy\n",
      "Processing record set 275 of 609 with the city named ancud\n",
      "Processing record set 276 of 609 with the city named korla\n",
      "Processing record set 277 of 609 with the city named kiruna\n",
      "Processing record set 278 of 609 with the city named ca mau\n",
      "Processing record set 279 of 609 with the city named kralendijk\n",
      "Processing record set 280 of 609 with the city named kopyevo\n",
      "Error, city not found\n",
      "Processing record set 281 of 609 with the city named christchurch\n",
      "Processing record set 282 of 609 with the city named imbituba\n",
      "Processing record set 283 of 609 with the city named tilichiki\n",
      "Processing record set 284 of 609 with the city named araouane\n",
      "Processing record set 285 of 609 with the city named pacora\n",
      "Processing record set 286 of 609 with the city named caravelas\n",
      "Processing record set 287 of 609 with the city named manama\n",
      "Processing record set 288 of 609 with the city named hirara\n",
      "Processing record set 289 of 609 with the city named san quintin\n",
      "Processing record set 290 of 609 with the city named okhotsk\n",
      "Processing record set 291 of 609 with the city named quatre cocos\n",
      "Processing record set 292 of 609 with the city named lixourion\n",
      "Processing record set 293 of 609 with the city named carroll\n",
      "Processing record set 294 of 609 with the city named ko samui\n",
      "Processing record set 295 of 609 with the city named hambantota\n",
      "Processing record set 296 of 609 with the city named nome\n",
      "Processing record set 297 of 609 with the city named port blair\n",
      "Processing record set 298 of 609 with the city named banda aceh\n",
      "Processing record set 299 of 609 with the city named lagoa\n",
      "Processing record set 300 of 609 with the city named saint-pierre\n",
      "Processing record set 301 of 609 with the city named lata\n",
      "Processing record set 302 of 609 with the city named broome\n",
      "Processing record set 303 of 609 with the city named haines junction\n",
      "Processing record set 304 of 609 with the city named taveta\n",
      "Processing record set 305 of 609 with the city named port hawkesbury\n",
      "Processing record set 306 of 609 with the city named bubaque\n",
      "Processing record set 307 of 609 with the city named batangafo\n",
      "Processing record set 308 of 609 with the city named mulchen\n",
      "Processing record set 309 of 609 with the city named svetlyy\n",
      "Processing record set 310 of 609 with the city named saleaula\n",
      "Error, city not found\n",
      "Processing record set 311 of 609 with the city named alofi\n",
      "Processing record set 312 of 609 with the city named kifri\n",
      "Processing record set 313 of 609 with the city named san borja\n",
      "Processing record set 314 of 609 with the city named chingirlau\n",
      "Processing record set 315 of 609 with the city named nishihara\n",
      "Processing record set 316 of 609 with the city named pisco\n",
      "Processing record set 317 of 609 with the city named matara\n",
      "Processing record set 318 of 609 with the city named pittsburg\n",
      "Processing record set 319 of 609 with the city named chumikan\n",
      "Processing record set 320 of 609 with the city named quelimane\n",
      "Processing record set 321 of 609 with the city named gimli\n",
      "Processing record set 322 of 609 with the city named forbes\n",
      "Processing record set 323 of 609 with the city named san cristobal\n",
      "Processing record set 324 of 609 with the city named fare\n",
      "Processing record set 325 of 609 with the city named clyde river\n",
      "Processing record set 326 of 609 with the city named chokurdakh\n",
      "Processing record set 327 of 609 with the city named tubruq\n",
      "Error, city not found\n",
      "Processing record set 328 of 609 with the city named aketi\n",
      "Processing record set 329 of 609 with the city named raduzhnyy\n",
      "Processing record set 330 of 609 with the city named shieli\n",
      "Processing record set 331 of 609 with the city named marquette\n",
      "Processing record set 332 of 609 with the city named yeppoon\n",
      "Processing record set 333 of 609 with the city named fuerte olimpo\n",
      "Processing record set 334 of 609 with the city named sorvag\n",
      "Error, city not found\n",
      "Processing record set 335 of 609 with the city named namibe\n",
      "Processing record set 336 of 609 with the city named alice springs\n",
      "Processing record set 337 of 609 with the city named hlukhiv\n",
      "Processing record set 338 of 609 with the city named olafsvik\n",
      "Processing record set 339 of 609 with the city named ledyard\n",
      "Processing record set 340 of 609 with the city named ahipara\n",
      "Processing record set 341 of 609 with the city named inuvik\n",
      "Processing record set 342 of 609 with the city named charcas\n",
      "Processing record set 343 of 609 with the city named udachnyy\n",
      "Processing record set 344 of 609 with the city named maxixe\n",
      "Processing record set 345 of 609 with the city named la crosse\n",
      "Processing record set 346 of 609 with the city named voi\n",
      "Processing record set 347 of 609 with the city named muli\n",
      "Processing record set 348 of 609 with the city named cockburn town\n",
      "Processing record set 349 of 609 with the city named zhuhai\n",
      "Processing record set 350 of 609 with the city named te anau\n",
      "Processing record set 351 of 609 with the city named toliary\n",
      "Error, city not found\n",
      "Processing record set 352 of 609 with the city named sete lagoas\n",
      "Processing record set 353 of 609 with the city named bara\n",
      "Processing record set 354 of 609 with the city named nanfeng\n",
      "Processing record set 355 of 609 with the city named ereymentau\n",
      "Processing record set 356 of 609 with the city named campo grande\n",
      "Processing record set 357 of 609 with the city named puerto escondido\n",
      "Processing record set 358 of 609 with the city named cayenne\n",
      "Processing record set 359 of 609 with the city named satitoa\n",
      "Error, city not found\n",
      "Processing record set 360 of 609 with the city named iqaluit\n",
      "Processing record set 361 of 609 with the city named wasilla\n",
      "Processing record set 362 of 609 with the city named tual\n",
      "Processing record set 363 of 609 with the city named artyk\n",
      "Error, city not found\n",
      "Processing record set 364 of 609 with the city named necochea\n",
      "Processing record set 365 of 609 with the city named ilo\n",
      "Processing record set 366 of 609 with the city named new ulm\n",
      "Processing record set 367 of 609 with the city named trinidad\n",
      "Processing record set 368 of 609 with the city named yonezawa\n",
      "Processing record set 369 of 609 with the city named georgiyevka\n",
      "Processing record set 370 of 609 with the city named east london\n",
      "Processing record set 371 of 609 with the city named millinocket\n",
      "Processing record set 372 of 609 with the city named port lincoln\n",
      "Processing record set 373 of 609 with the city named college\n",
      "Processing record set 374 of 609 with the city named fiche\n",
      "Processing record set 375 of 609 with the city named puerto madryn\n",
      "Processing record set 376 of 609 with the city named rawannawi\n",
      "Error, city not found\n",
      "Processing record set 377 of 609 with the city named magaria\n",
      "Processing record set 378 of 609 with the city named sistranda\n",
      "Processing record set 379 of 609 with the city named noyabrsk\n",
      "Processing record set 380 of 609 with the city named salinopolis\n",
      "Processing record set 381 of 609 with the city named todos santos\n",
      "Processing record set 382 of 609 with the city named kibaya\n",
      "Processing record set 383 of 609 with the city named bulgan\n",
      "Processing record set 384 of 609 with the city named kristiinankaupunki\n",
      "Processing record set 385 of 609 with the city named sorong\n",
      "Processing record set 386 of 609 with the city named katikati\n",
      "Processing record set 387 of 609 with the city named high level\n",
      "Processing record set 388 of 609 with the city named sierra madre\n",
      "Processing record set 389 of 609 with the city named kamenskoye\n",
      "Error, city not found\n",
      "Processing record set 390 of 609 with the city named saldanha\n",
      "Processing record set 391 of 609 with the city named el alto\n",
      "Processing record set 392 of 609 with the city named honavar\n",
      "Processing record set 393 of 609 with the city named sao gabriel da cachoeira\n",
      "Processing record set 394 of 609 with the city named utiroa\n",
      "Error, city not found\n",
      "Processing record set 395 of 609 with the city named jalu\n",
      "Processing record set 396 of 609 with the city named glushkovo\n",
      "Processing record set 397 of 609 with the city named general pico\n",
      "Processing record set 398 of 609 with the city named dhing\n",
      "Processing record set 399 of 609 with the city named hofn\n",
      "Processing record set 400 of 609 with the city named vredendal\n",
      "Processing record set 401 of 609 with the city named miandrivazo\n",
      "Processing record set 402 of 609 with the city named pangnirtung\n",
      "Processing record set 403 of 609 with the city named dubai\n",
      "Processing record set 404 of 609 with the city named katherine\n",
      "Processing record set 405 of 609 with the city named jayanca\n",
      "Processing record set 406 of 609 with the city named bonfim\n",
      "Processing record set 407 of 609 with the city named tottori\n",
      "Processing record set 408 of 609 with the city named toba\n",
      "Processing record set 409 of 609 with the city named port hueneme\n",
      "Processing record set 410 of 609 with the city named vila franca do campo\n",
      "Processing record set 411 of 609 with the city named la sarre\n",
      "Processing record set 412 of 609 with the city named palmerston\n",
      "Processing record set 413 of 609 with the city named kolokani\n",
      "Processing record set 414 of 609 with the city named gualaquiza\n",
      "Processing record set 415 of 609 with the city named krasnoselkup\n",
      "Processing record set 416 of 609 with the city named severo-kurilsk\n",
      "Processing record set 417 of 609 with the city named coahuayana\n",
      "Processing record set 418 of 609 with the city named san policarpo\n",
      "Processing record set 419 of 609 with the city named henties bay\n",
      "Processing record set 420 of 609 with the city named darlawn\n",
      "Processing record set 421 of 609 with the city named tombouctou\n",
      "Processing record set 422 of 609 with the city named san vicente\n",
      "Processing record set 423 of 609 with the city named varna\n",
      "Processing record set 424 of 609 with the city named asfi\n",
      "Processing record set 425 of 609 with the city named biak\n",
      "Processing record set 426 of 609 with the city named craig\n",
      "Processing record set 427 of 609 with the city named ahuimanu\n",
      "Processing record set 428 of 609 with the city named moron\n",
      "Processing record set 429 of 609 with the city named la palma\n",
      "Processing record set 430 of 609 with the city named nador\n",
      "Processing record set 431 of 609 with the city named tamworth\n",
      "Processing record set 432 of 609 with the city named eureka\n",
      "Processing record set 433 of 609 with the city named bekhtery\n",
      "Processing record set 434 of 609 with the city named moerai\n",
      "Processing record set 435 of 609 with the city named freeport\n",
      "Processing record set 436 of 609 with the city named jiblah\n",
      "Processing record set 437 of 609 with the city named kupang\n",
      "Processing record set 438 of 609 with the city named chimbote\n",
      "Processing record set 439 of 609 with the city named ladario\n",
      "Processing record set 440 of 609 with the city named sabinas\n",
      "Processing record set 441 of 609 with the city named peniche\n",
      "Processing record set 442 of 609 with the city named angoram\n",
      "Processing record set 443 of 609 with the city named prainha\n",
      "Processing record set 444 of 609 with the city named el jicaro\n",
      "Processing record set 445 of 609 with the city named demirci\n",
      "Processing record set 446 of 609 with the city named vestmanna\n",
      "Processing record set 447 of 609 with the city named muhos\n",
      "Processing record set 448 of 609 with the city named tabou\n",
      "Processing record set 449 of 609 with the city named road town\n",
      "Processing record set 450 of 609 with the city named nylstroom\n",
      "Error, city not found\n",
      "Processing record set 451 of 609 with the city named norman wells\n",
      "Processing record set 452 of 609 with the city named yerbogachen\n",
      "Processing record set 453 of 609 with the city named tautira\n",
      "Processing record set 454 of 609 with the city named guerrero negro\n",
      "Processing record set 455 of 609 with the city named mersin\n",
      "Processing record set 456 of 609 with the city named khandbari\n",
      "Processing record set 457 of 609 with the city named praia\n",
      "Processing record set 458 of 609 with the city named krasnovishersk\n",
      "Processing record set 459 of 609 with the city named lasa\n",
      "Processing record set 460 of 609 with the city named sao joao da barra\n",
      "Processing record set 461 of 609 with the city named tuatapere\n",
      "Processing record set 462 of 609 with the city named hami\n",
      "Processing record set 463 of 609 with the city named honningsvag\n",
      "Processing record set 464 of 609 with the city named provideniya\n",
      "Processing record set 465 of 609 with the city named tecoanapa\n",
      "Processing record set 466 of 609 with the city named mnogovershinnyy\n",
      "Processing record set 467 of 609 with the city named canico\n",
      "Processing record set 468 of 609 with the city named umzimvubu\n",
      "Error, city not found\n",
      "Processing record set 469 of 609 with the city named fushun\n",
      "Processing record set 470 of 609 with the city named ambilobe\n",
      "Processing record set 471 of 609 with the city named havelock\n",
      "Processing record set 472 of 609 with the city named sri aman\n",
      "Processing record set 473 of 609 with the city named sao filipe\n",
      "Processing record set 474 of 609 with the city named tarbagatay\n",
      "Processing record set 475 of 609 with the city named shelburne\n",
      "Processing record set 476 of 609 with the city named makat\n",
      "Processing record set 477 of 609 with the city named yeniseysk\n",
      "Processing record set 478 of 609 with the city named huarmey\n",
      "Processing record set 479 of 609 with the city named berbera\n",
      "Processing record set 480 of 609 with the city named ust-kuyga\n",
      "Processing record set 481 of 609 with the city named savonlinna\n",
      "Processing record set 482 of 609 with the city named pandan\n",
      "Processing record set 483 of 609 with the city named nelson\n",
      "Processing record set 484 of 609 with the city named cabuyaro\n",
      "Processing record set 485 of 609 with the city named lodwar\n",
      "Processing record set 486 of 609 with the city named banmo\n",
      "Error, city not found\n",
      "Processing record set 487 of 609 with the city named guozhen\n",
      "Processing record set 488 of 609 with the city named areosa\n",
      "Processing record set 489 of 609 with the city named impfondo\n",
      "Processing record set 490 of 609 with the city named atbasar\n",
      "Processing record set 491 of 609 with the city named inhambane\n",
      "Processing record set 492 of 609 with the city named touho\n",
      "Processing record set 493 of 609 with the city named santa maria\n",
      "Processing record set 494 of 609 with the city named nim ka thana\n",
      "Error, city not found\n",
      "Processing record set 495 of 609 with the city named vung tau\n",
      "Processing record set 496 of 609 with the city named ijaki\n",
      "Error, city not found\n",
      "Processing record set 497 of 609 with the city named buluang\n",
      "Processing record set 498 of 609 with the city named qaqortoq\n",
      "Processing record set 499 of 609 with the city named bay roberts\n",
      "Processing record set 500 of 609 with the city named majene\n",
      "Processing record set 501 of 609 with the city named aljezur\n",
      "Processing record set 502 of 609 with the city named vestmannaeyjar\n",
      "Processing record set 503 of 609 with the city named doha\n",
      "Processing record set 504 of 609 with the city named cimarron hills\n",
      "Processing record set 505 of 609 with the city named lunenburg\n",
      "Processing record set 506 of 609 with the city named jiddah\n",
      "Error, city not found\n",
      "Processing record set 507 of 609 with the city named churapcha\n",
      "Processing record set 508 of 609 with the city named milingimbi\n",
      "Error, city not found\n",
      "Processing record set 509 of 609 with the city named sept-iles\n",
      "Processing record set 510 of 609 with the city named ewa beach\n",
      "Processing record set 511 of 609 with the city named bonavista\n",
      "Processing record set 512 of 609 with the city named kamenka\n",
      "Processing record set 513 of 609 with the city named ust-maya\n",
      "Processing record set 514 of 609 with the city named brownwood\n",
      "Processing record set 515 of 609 with the city named longyearbyen\n",
      "Processing record set 516 of 609 with the city named fevralsk\n",
      "Error, city not found\n",
      "Processing record set 517 of 609 with the city named tezu\n",
      "Processing record set 518 of 609 with the city named mbanza-ngungu\n",
      "Processing record set 519 of 609 with the city named adelaide\n",
      "Processing record set 520 of 609 with the city named plouzane\n",
      "Processing record set 521 of 609 with the city named pocatello\n",
      "Processing record set 522 of 609 with the city named russell\n",
      "Processing record set 523 of 609 with the city named kurchum\n",
      "Processing record set 524 of 609 with the city named luba\n",
      "Processing record set 525 of 609 with the city named azimur\n",
      "Error, city not found\n",
      "Processing record set 526 of 609 with the city named celestun\n",
      "Processing record set 527 of 609 with the city named binzhou\n",
      "Processing record set 528 of 609 with the city named sinkat\n",
      "Error, city not found\n",
      "Processing record set 529 of 609 with the city named santander\n",
      "Processing record set 530 of 609 with the city named barcelos\n",
      "Processing record set 531 of 609 with the city named amahai\n",
      "Processing record set 532 of 609 with the city named knyaze-volkonskoye\n",
      "Processing record set 533 of 609 with the city named baykit\n",
      "Processing record set 534 of 609 with the city named formosa do rio preto\n",
      "Processing record set 535 of 609 with the city named alzamay\n",
      "Processing record set 536 of 609 with the city named soyo\n",
      "Processing record set 537 of 609 with the city named najran\n",
      "Processing record set 538 of 609 with the city named sedelnikovo\n",
      "Error, city not found\n",
      "Processing record set 539 of 609 with the city named umm lajj\n",
      "Processing record set 540 of 609 with the city named kouango\n",
      "Processing record set 541 of 609 with the city named whyalla\n",
      "Processing record set 542 of 609 with the city named taoudenni\n",
      "Processing record set 543 of 609 with the city named herouville-saint-clair\n",
      "Processing record set 544 of 609 with the city named huaicheng\n",
      "Processing record set 545 of 609 with the city named jubayl\n",
      "Error, city not found\n",
      "Processing record set 546 of 609 with the city named haibowan\n",
      "Error, city not found\n",
      "Processing record set 547 of 609 with the city named bac lieu\n",
      "Processing record set 548 of 609 with the city named winslow\n",
      "Processing record set 549 of 609 with the city named ballina\n",
      "Processing record set 550 of 609 with the city named vaitape\n",
      "Processing record set 551 of 609 with the city named vila velha\n",
      "Processing record set 552 of 609 with the city named kazalinsk\n",
      "Error, city not found\n",
      "Processing record set 553 of 609 with the city named yorkton\n",
      "Processing record set 554 of 609 with the city named plettenberg bay\n",
      "Processing record set 555 of 609 with the city named viransehir\n",
      "Processing record set 556 of 609 with the city named ivanava\n",
      "Processing record set 557 of 609 with the city named morondava\n",
      "Processing record set 558 of 609 with the city named viligili\n",
      "Error, city not found\n",
      "Processing record set 559 of 609 with the city named stoyba\n",
      "Error, city not found\n",
      "Processing record set 560 of 609 with the city named dunedin\n",
      "Processing record set 561 of 609 with the city named horadiz\n",
      "Processing record set 562 of 609 with the city named itarema\n",
      "Processing record set 563 of 609 with the city named kungurtug\n",
      "Processing record set 564 of 609 with the city named louisbourg\n",
      "Error, city not found\n",
      "Processing record set 565 of 609 with the city named langfang\n",
      "Processing record set 566 of 609 with the city named flinders\n",
      "Processing record set 567 of 609 with the city named santa rosalia\n",
      "Processing record set 568 of 609 with the city named nouadhibou\n",
      "Processing record set 569 of 609 with the city named skalistyy\n",
      "Error, city not found\n",
      "Processing record set 570 of 609 with the city named loudi\n",
      "Processing record set 571 of 609 with the city named aflu\n",
      "Error, city not found\n",
      "Processing record set 572 of 609 with the city named narsaq\n",
      "Processing record set 573 of 609 with the city named zaraza\n",
      "Processing record set 574 of 609 with the city named conde\n",
      "Processing record set 575 of 609 with the city named shar\n",
      "Processing record set 576 of 609 with the city named kasaragod\n",
      "Processing record set 577 of 609 with the city named urambo\n",
      "Processing record set 578 of 609 with the city named bargal\n",
      "Error, city not found\n",
      "Processing record set 579 of 609 with the city named talcahuano\n",
      "Processing record set 580 of 609 with the city named ulaangom\n",
      "Processing record set 581 of 609 with the city named gizo\n",
      "Processing record set 582 of 609 with the city named khanpur\n",
      "Processing record set 583 of 609 with the city named saint-joseph\n",
      "Processing record set 584 of 609 with the city named isangel\n",
      "Processing record set 585 of 609 with the city named sayat\n",
      "Processing record set 586 of 609 with the city named vilhena\n",
      "Processing record set 587 of 609 with the city named sur\n",
      "Processing record set 588 of 609 with the city named valparaiso\n",
      "Processing record set 589 of 609 with the city named hella\n",
      "Processing record set 590 of 609 with the city named tinskoy\n",
      "Processing record set 591 of 609 with the city named khonuu\n",
      "Error, city not found\n",
      "Processing record set 592 of 609 with the city named takab\n",
      "Processing record set 593 of 609 with the city named berlevag\n",
      "Processing record set 594 of 609 with the city named kyabe\n",
      "Processing record set 595 of 609 with the city named waitakere\n",
      "Processing record set 596 of 609 with the city named acarau\n",
      "Processing record set 597 of 609 with the city named galle\n",
      "Processing record set 598 of 609 with the city named thinadhoo\n",
      "Processing record set 599 of 609 with the city named bontang\n",
      "Processing record set 600 of 609 with the city named atessa\n",
      "Processing record set 601 of 609 with the city named torit\n",
      "Processing record set 602 of 609 with the city named auki\n",
      "Processing record set 603 of 609 with the city named bossangoa\n",
      "Processing record set 604 of 609 with the city named paamiut\n",
      "Processing record set 605 of 609 with the city named viedma\n",
      "Processing record set 606 of 609 with the city named sioux lookout\n",
      "Processing record set 607 of 609 with the city named lensk\n",
      "Processing record set 608 of 609 with the city named lar gerd\n",
      "Error, city not found\n",
      "Processing record set 609 of 609 with the city named gore\n"
     ]
    }
   ],
   "source": [
    "print(\"Beginning Data Retrieval\")\r\n",
    "print(\"-----------------------------\")\r\n",
    "city_counter = 0\r\n",
    "city_stat = []\r\n",
    "for locations in cities:\r\n",
    "    city_counter += 1\r\n",
    "    city_url = url + \"&q=\" + locations \r\n",
    "    print(\"Processing record set\", city_counter, \"of\", len(cities), \"with the city named\", locations,)\r\n",
    "    \r\n",
    "    try:\r\n",
    "        city_weather = requests.get(city_url).json()\r\n",
    "        \r\n",
    "        city_lat = city_weather[\"coord\"][\"lat\"]\r\n",
    "        city_lng = city_weather[\"coord\"][\"lon\"]\r\n",
    "        city_max_temp = city_weather[\"main\"][\"temp_max\"]\r\n",
    "        city_humidity = city_weather[\"main\"][\"humidity\"]\r\n",
    "        city_clouds = city_weather[\"clouds\"][\"all\"]\r\n",
    "        city_wind = city_weather[\"wind\"][\"speed\"]\r\n",
    "        city_country = city_weather[\"sys\"][\"country\"]\r\n",
    "        city_date = city_weather[\"dt\"]\r\n",
    "        \r\n",
    "        city_stat.append({\"City\":locations, \"Latitude\": city_lat, \"Longitude\": city_lng, \r\n",
    "                          \"Max Temperature\": city_max_temp, \"Humidity\": city_humidity, \r\n",
    "                         \"Clouds\": city_clouds, \"Wind\": city_wind, \"Country\": city_country,\r\n",
    "                         \"Date\": city_date})\r\n",
    "    except:\r\n",
    "        print(\"Error, city not found\")\r\n",
    "        pass\r\n"
   ]
  },
  {
   "cell_type": "markdown",
   "metadata": {},
   "source": [
    "### Convert Raw Data to DataFrame\n",
    "* Export the city data into a .csv.\n",
    "* Display the DataFrame"
   ]
  },
  {
   "cell_type": "code",
   "execution_count": 7,
   "metadata": {},
   "outputs": [],
   "source": [
    "city_stat\r\n",
    "city_stat_pd = pd.DataFrame(city_stat)\r\n",
    "city_stat_pd\r\n",
    "city_stat_pd.to_csv('output_data/RetrievedData.csv')\r\n"
   ]
  },
  {
   "cell_type": "code",
   "execution_count": 8,
   "metadata": {},
   "outputs": [
    {
     "data": {
      "text/plain": [
       "City               560\n",
       "Latitude           560\n",
       "Longitude          560\n",
       "Max Temperature    560\n",
       "Humidity           560\n",
       "Clouds             560\n",
       "Wind               560\n",
       "Country            560\n",
       "Date               560\n",
       "dtype: int64"
      ]
     },
     "execution_count": 8,
     "metadata": {},
     "output_type": "execute_result"
    }
   ],
   "source": [
    "\r\n",
    "# weather_df = pd.DataFrame({\r\n",
    "#     \"City\":len(location_name),\r\n",
    "#     \"Country\":len(location_country),\r\n",
    "#     \"Date\":len(date),\r\n",
    "#     \"Latitude\":len(latitude),\r\n",
    "#     \"Longitude\":len(longitude),\r\n",
    "#     \"Max Temp(f)\":len([city_max_temp]),\r\n",
    "#     \"Humidity\":len([city_humidity]),\r\n",
    "#     \"Wind Speed\":len([city_wind]),\r\n",
    "#     \"Cloudiness\":len([city_clouds]),\r\n",
    "# weather_df\r\n",
    "\r\n",
    "        \r\n",
    "       # city_lat = city_weather[\"coord\"][\"lat\"]\r\n",
    "       # city_lng = city_weather[\"coord\"][\"lon\"]\r\n",
    "       # city_max_temp = city_weather[\"main\"][\"temp_max\"]\r\n",
    "       # city_humidity = city_weather[\"main\"][\"humidity\"]\r\n",
    "        #city_clouds = city_weather[\"clouds\"][\"all\"]\r\n",
    "        #city_wind = city_weather[\"wind\"][\"speed\"]\r\n",
    "        #city_country = city_weather[\"sys\"][\"country\"]\r\n",
    "        #city_date = city_weather[\"dt\"]\r\n",
    "city_stat_pd = pd.DataFrame(city_stat)\r\n",
    "city_stat_pd.count()\r\n",
    "\r\n",
    "    "
   ]
  },
  {
   "cell_type": "code",
   "execution_count": 9,
   "metadata": {},
   "outputs": [
    {
     "data": {
      "text/html": [
       "<div>\n",
       "<style scoped>\n",
       "    .dataframe tbody tr th:only-of-type {\n",
       "        vertical-align: middle;\n",
       "    }\n",
       "\n",
       "    .dataframe tbody tr th {\n",
       "        vertical-align: top;\n",
       "    }\n",
       "\n",
       "    .dataframe thead th {\n",
       "        text-align: right;\n",
       "    }\n",
       "</style>\n",
       "<table border=\"1\" class=\"dataframe\">\n",
       "  <thead>\n",
       "    <tr style=\"text-align: right;\">\n",
       "      <th></th>\n",
       "      <th>City</th>\n",
       "      <th>Latitude</th>\n",
       "      <th>Longitude</th>\n",
       "      <th>Max Temperature</th>\n",
       "      <th>Humidity</th>\n",
       "      <th>Clouds</th>\n",
       "      <th>Wind</th>\n",
       "      <th>Country</th>\n",
       "      <th>Date</th>\n",
       "    </tr>\n",
       "  </thead>\n",
       "  <tbody>\n",
       "    <tr>\n",
       "      <th>0</th>\n",
       "      <td>camuy</td>\n",
       "      <td>18.4838</td>\n",
       "      <td>-66.8449</td>\n",
       "      <td>84.13</td>\n",
       "      <td>68</td>\n",
       "      <td>100</td>\n",
       "      <td>5.01</td>\n",
       "      <td>PR</td>\n",
       "      <td>1624746130</td>\n",
       "    </tr>\n",
       "    <tr>\n",
       "      <th>1</th>\n",
       "      <td>iquique</td>\n",
       "      <td>-20.2208</td>\n",
       "      <td>-70.1431</td>\n",
       "      <td>60.84</td>\n",
       "      <td>80</td>\n",
       "      <td>98</td>\n",
       "      <td>7.72</td>\n",
       "      <td>CL</td>\n",
       "      <td>1624746130</td>\n",
       "    </tr>\n",
       "    <tr>\n",
       "      <th>2</th>\n",
       "      <td>havoysund</td>\n",
       "      <td>70.9963</td>\n",
       "      <td>24.6622</td>\n",
       "      <td>47.28</td>\n",
       "      <td>87</td>\n",
       "      <td>100</td>\n",
       "      <td>5.37</td>\n",
       "      <td>NO</td>\n",
       "      <td>1624746131</td>\n",
       "    </tr>\n",
       "    <tr>\n",
       "      <th>3</th>\n",
       "      <td>bundaberg</td>\n",
       "      <td>-24.8500</td>\n",
       "      <td>152.3500</td>\n",
       "      <td>55.69</td>\n",
       "      <td>94</td>\n",
       "      <td>90</td>\n",
       "      <td>9.22</td>\n",
       "      <td>AU</td>\n",
       "      <td>1624746131</td>\n",
       "    </tr>\n",
       "    <tr>\n",
       "      <th>4</th>\n",
       "      <td>tasiilaq</td>\n",
       "      <td>65.6145</td>\n",
       "      <td>-37.6368</td>\n",
       "      <td>50.16</td>\n",
       "      <td>62</td>\n",
       "      <td>2</td>\n",
       "      <td>7.72</td>\n",
       "      <td>GL</td>\n",
       "      <td>1624746132</td>\n",
       "    </tr>\n",
       "  </tbody>\n",
       "</table>\n",
       "</div>"
      ],
      "text/plain": [
       "        City  Latitude  Longitude  Max Temperature  Humidity  Clouds  Wind  \\\n",
       "0      camuy   18.4838   -66.8449            84.13        68     100  5.01   \n",
       "1    iquique  -20.2208   -70.1431            60.84        80      98  7.72   \n",
       "2  havoysund   70.9963    24.6622            47.28        87     100  5.37   \n",
       "3  bundaberg  -24.8500   152.3500            55.69        94      90  9.22   \n",
       "4   tasiilaq   65.6145   -37.6368            50.16        62       2  7.72   \n",
       "\n",
       "  Country        Date  \n",
       "0      PR  1624746130  \n",
       "1      CL  1624746130  \n",
       "2      NO  1624746131  \n",
       "3      AU  1624746131  \n",
       "4      GL  1624746132  "
      ]
     },
     "execution_count": 9,
     "metadata": {},
     "output_type": "execute_result"
    }
   ],
   "source": [
    "city_stat_pd.to_csv(output_data_file)\r\n",
    "city_stat_pd.head()"
   ]
  },
  {
   "cell_type": "code",
   "execution_count": 10,
   "metadata": {},
   "outputs": [
    {
     "data": {
      "text/html": [
       "<div>\n",
       "<style scoped>\n",
       "    .dataframe tbody tr th:only-of-type {\n",
       "        vertical-align: middle;\n",
       "    }\n",
       "\n",
       "    .dataframe tbody tr th {\n",
       "        vertical-align: top;\n",
       "    }\n",
       "\n",
       "    .dataframe thead th {\n",
       "        text-align: right;\n",
       "    }\n",
       "</style>\n",
       "<table border=\"1\" class=\"dataframe\">\n",
       "  <thead>\n",
       "    <tr style=\"text-align: right;\">\n",
       "      <th></th>\n",
       "      <th>Latitude</th>\n",
       "      <th>Max Temperature</th>\n",
       "    </tr>\n",
       "  </thead>\n",
       "  <tbody>\n",
       "    <tr>\n",
       "      <th>0</th>\n",
       "      <td>18.4838</td>\n",
       "      <td>84.13</td>\n",
       "    </tr>\n",
       "    <tr>\n",
       "      <th>1</th>\n",
       "      <td>-20.2208</td>\n",
       "      <td>60.84</td>\n",
       "    </tr>\n",
       "    <tr>\n",
       "      <th>2</th>\n",
       "      <td>70.9963</td>\n",
       "      <td>47.28</td>\n",
       "    </tr>\n",
       "    <tr>\n",
       "      <th>3</th>\n",
       "      <td>-24.8500</td>\n",
       "      <td>55.69</td>\n",
       "    </tr>\n",
       "    <tr>\n",
       "      <th>4</th>\n",
       "      <td>65.6145</td>\n",
       "      <td>50.16</td>\n",
       "    </tr>\n",
       "  </tbody>\n",
       "</table>\n",
       "</div>"
      ],
      "text/plain": [
       "   Latitude  Max Temperature\n",
       "0   18.4838            84.13\n",
       "1  -20.2208            60.84\n",
       "2   70.9963            47.28\n",
       "3  -24.8500            55.69\n",
       "4   65.6145            50.16"
      ]
     },
     "execution_count": 10,
     "metadata": {},
     "output_type": "execute_result"
    }
   ],
   "source": [
    "#working on it,\r\n",
    "lat_vs_temp = city_stat_pd.groupby(city_stat)[['Latitude','Max Temperature']]\r\n",
    "lat_vs_temp.head()"
   ]
  },
  {
   "cell_type": "code",
   "execution_count": 11,
   "metadata": {},
   "outputs": [
    {
     "data": {
      "text/html": [
       "<div>\n",
       "<style scoped>\n",
       "    .dataframe tbody tr th:only-of-type {\n",
       "        vertical-align: middle;\n",
       "    }\n",
       "\n",
       "    .dataframe tbody tr th {\n",
       "        vertical-align: top;\n",
       "    }\n",
       "\n",
       "    .dataframe thead th {\n",
       "        text-align: right;\n",
       "    }\n",
       "</style>\n",
       "<table border=\"1\" class=\"dataframe\">\n",
       "  <thead>\n",
       "    <tr style=\"text-align: right;\">\n",
       "      <th></th>\n",
       "      <th>Latitude</th>\n",
       "      <th>Humidity</th>\n",
       "    </tr>\n",
       "  </thead>\n",
       "  <tbody>\n",
       "    <tr>\n",
       "      <th>0</th>\n",
       "      <td>18.4838</td>\n",
       "      <td>68</td>\n",
       "    </tr>\n",
       "    <tr>\n",
       "      <th>1</th>\n",
       "      <td>-20.2208</td>\n",
       "      <td>80</td>\n",
       "    </tr>\n",
       "    <tr>\n",
       "      <th>2</th>\n",
       "      <td>70.9963</td>\n",
       "      <td>87</td>\n",
       "    </tr>\n",
       "    <tr>\n",
       "      <th>3</th>\n",
       "      <td>-24.8500</td>\n",
       "      <td>94</td>\n",
       "    </tr>\n",
       "    <tr>\n",
       "      <th>4</th>\n",
       "      <td>65.6145</td>\n",
       "      <td>62</td>\n",
       "    </tr>\n",
       "  </tbody>\n",
       "</table>\n",
       "</div>"
      ],
      "text/plain": [
       "   Latitude  Humidity\n",
       "0   18.4838        68\n",
       "1  -20.2208        80\n",
       "2   70.9963        87\n",
       "3  -24.8500        94\n",
       "4   65.6145        62"
      ]
     },
     "execution_count": 11,
     "metadata": {},
     "output_type": "execute_result"
    }
   ],
   "source": [
    "#working on it,\r\n",
    "lat_vs_humid = city_stat_pd.groupby(city_stat)[['Latitude','Humidity']]\r\n",
    "lat_vs_humid.head()"
   ]
  },
  {
   "cell_type": "code",
   "execution_count": 12,
   "metadata": {},
   "outputs": [
    {
     "data": {
      "text/html": [
       "<div>\n",
       "<style scoped>\n",
       "    .dataframe tbody tr th:only-of-type {\n",
       "        vertical-align: middle;\n",
       "    }\n",
       "\n",
       "    .dataframe tbody tr th {\n",
       "        vertical-align: top;\n",
       "    }\n",
       "\n",
       "    .dataframe thead th {\n",
       "        text-align: right;\n",
       "    }\n",
       "</style>\n",
       "<table border=\"1\" class=\"dataframe\">\n",
       "  <thead>\n",
       "    <tr style=\"text-align: right;\">\n",
       "      <th></th>\n",
       "      <th>Latitude</th>\n",
       "      <th>Clouds</th>\n",
       "    </tr>\n",
       "  </thead>\n",
       "  <tbody>\n",
       "    <tr>\n",
       "      <th>0</th>\n",
       "      <td>18.4838</td>\n",
       "      <td>100</td>\n",
       "    </tr>\n",
       "    <tr>\n",
       "      <th>1</th>\n",
       "      <td>-20.2208</td>\n",
       "      <td>98</td>\n",
       "    </tr>\n",
       "    <tr>\n",
       "      <th>2</th>\n",
       "      <td>70.9963</td>\n",
       "      <td>100</td>\n",
       "    </tr>\n",
       "    <tr>\n",
       "      <th>3</th>\n",
       "      <td>-24.8500</td>\n",
       "      <td>90</td>\n",
       "    </tr>\n",
       "    <tr>\n",
       "      <th>4</th>\n",
       "      <td>65.6145</td>\n",
       "      <td>2</td>\n",
       "    </tr>\n",
       "  </tbody>\n",
       "</table>\n",
       "</div>"
      ],
      "text/plain": [
       "   Latitude  Clouds\n",
       "0   18.4838     100\n",
       "1  -20.2208      98\n",
       "2   70.9963     100\n",
       "3  -24.8500      90\n",
       "4   65.6145       2"
      ]
     },
     "execution_count": 12,
     "metadata": {},
     "output_type": "execute_result"
    }
   ],
   "source": [
    "#working on it,\r\n",
    "lat_vs_cloud = city_stat_pd.groupby(city_stat)[['Latitude','Clouds']]\r\n",
    "lat_vs_cloud.head()"
   ]
  },
  {
   "cell_type": "code",
   "execution_count": 13,
   "metadata": {},
   "outputs": [
    {
     "data": {
      "text/html": [
       "<div>\n",
       "<style scoped>\n",
       "    .dataframe tbody tr th:only-of-type {\n",
       "        vertical-align: middle;\n",
       "    }\n",
       "\n",
       "    .dataframe tbody tr th {\n",
       "        vertical-align: top;\n",
       "    }\n",
       "\n",
       "    .dataframe thead th {\n",
       "        text-align: right;\n",
       "    }\n",
       "</style>\n",
       "<table border=\"1\" class=\"dataframe\">\n",
       "  <thead>\n",
       "    <tr style=\"text-align: right;\">\n",
       "      <th></th>\n",
       "      <th>Latitude</th>\n",
       "      <th>Wind</th>\n",
       "    </tr>\n",
       "  </thead>\n",
       "  <tbody>\n",
       "    <tr>\n",
       "      <th>0</th>\n",
       "      <td>18.4838</td>\n",
       "      <td>5.01</td>\n",
       "    </tr>\n",
       "    <tr>\n",
       "      <th>1</th>\n",
       "      <td>-20.2208</td>\n",
       "      <td>7.72</td>\n",
       "    </tr>\n",
       "    <tr>\n",
       "      <th>2</th>\n",
       "      <td>70.9963</td>\n",
       "      <td>5.37</td>\n",
       "    </tr>\n",
       "    <tr>\n",
       "      <th>3</th>\n",
       "      <td>-24.8500</td>\n",
       "      <td>9.22</td>\n",
       "    </tr>\n",
       "    <tr>\n",
       "      <th>4</th>\n",
       "      <td>65.6145</td>\n",
       "      <td>7.72</td>\n",
       "    </tr>\n",
       "  </tbody>\n",
       "</table>\n",
       "</div>"
      ],
      "text/plain": [
       "   Latitude  Wind\n",
       "0   18.4838  5.01\n",
       "1  -20.2208  7.72\n",
       "2   70.9963  5.37\n",
       "3  -24.8500  9.22\n",
       "4   65.6145  7.72"
      ]
     },
     "execution_count": 13,
     "metadata": {},
     "output_type": "execute_result"
    }
   ],
   "source": [
    "lat_vs_wind = city_stat_pd.groupby(city_stat)[['Latitude', 'Wind']]\r\n",
    "lat_vs_wind.head()"
   ]
  },
  {
   "cell_type": "code",
   "execution_count": 14,
   "metadata": {},
   "outputs": [
    {
     "data": {
      "text/plain": [
       "Latitude           560\n",
       "Longitude          560\n",
       "Max Temperature    560\n",
       "Humidity           560\n",
       "Clouds             560\n",
       "Wind               560\n",
       "Date               560\n",
       "dtype: int64"
      ]
     },
     "execution_count": 14,
     "metadata": {},
     "output_type": "execute_result"
    }
   ],
   "source": [
    "count = city_stat_pd.count()\r\n",
    "count = count.drop(['City','Country'])\r\n",
    "count"
   ]
  },
  {
   "cell_type": "code",
   "execution_count": 15,
   "metadata": {},
   "outputs": [
    {
     "data": {
      "text/plain": [
       "Latitude           1.846121e+01\n",
       "Longitude          1.803944e+01\n",
       "Max Temperature    6.931039e+01\n",
       "Humidity           7.169643e+01\n",
       "Clouds             5.627500e+01\n",
       "Wind               7.212071e+00\n",
       "Date               1.624746e+09\n",
       "dtype: float64"
      ]
     },
     "execution_count": 15,
     "metadata": {},
     "output_type": "execute_result"
    }
   ],
   "source": [
    "#mean = city_stat_pd.groupby(city_stat)['Latitude'].mean()\r\n",
    "mean = city_stat_pd.mean()\r\n",
    "mean"
   ]
  },
  {
   "cell_type": "code",
   "execution_count": 16,
   "metadata": {},
   "outputs": [
    {
     "data": {
      "text/plain": [
       "Latitude           2.088070e+01\n",
       "Longitude          2.374805e+01\n",
       "Max Temperature    7.158000e+01\n",
       "Humidity           7.800000e+01\n",
       "Clouds             7.300000e+01\n",
       "Wind               6.060000e+00\n",
       "Date               1.624746e+09\n",
       "dtype: float64"
      ]
     },
     "execution_count": 16,
     "metadata": {},
     "output_type": "execute_result"
    }
   ],
   "source": [
    "median = city_stat_pd.median()\r\n",
    "median"
   ]
  },
  {
   "cell_type": "code",
   "execution_count": 17,
   "metadata": {},
   "outputs": [
    {
     "data": {
      "text/plain": [
       "Latitude           33.598802\n",
       "Longitude          91.867662\n",
       "Max Temperature    14.654428\n",
       "Humidity           20.964933\n",
       "Clouds             39.210994\n",
       "Wind                4.796379\n",
       "Date               81.795954\n",
       "dtype: float64"
      ]
     },
     "execution_count": 17,
     "metadata": {},
     "output_type": "execute_result"
    }
   ],
   "source": [
    "standard_dv = city_stat_pd.std()\r\n",
    "standard_dv"
   ]
  },
  {
   "cell_type": "code",
   "execution_count": 18,
   "metadata": {},
   "outputs": [
    {
     "data": {
      "text/plain": [
       "Latitude                -54.8\n",
       "Longitude              -175.2\n",
       "Max Temperature         29.75\n",
       "Humidity                    6\n",
       "Clouds                      0\n",
       "Wind                        0\n",
       "Date               1624745835\n",
       "dtype: object"
      ]
     },
     "execution_count": 18,
     "metadata": {},
     "output_type": "execute_result"
    }
   ],
   "source": [
    "weather_min = city_stat_pd.min()\r\n",
    "weather_min.drop(['City','Country'])"
   ]
  },
  {
   "cell_type": "code",
   "execution_count": 19,
   "metadata": {},
   "outputs": [
    {
     "data": {
      "text/html": [
       "<div>\n",
       "<style scoped>\n",
       "    .dataframe tbody tr th:only-of-type {\n",
       "        vertical-align: middle;\n",
       "    }\n",
       "\n",
       "    .dataframe tbody tr th {\n",
       "        vertical-align: top;\n",
       "    }\n",
       "\n",
       "    .dataframe thead th {\n",
       "        text-align: right;\n",
       "    }\n",
       "</style>\n",
       "<table border=\"1\" class=\"dataframe\">\n",
       "  <thead>\n",
       "    <tr style=\"text-align: right;\">\n",
       "      <th></th>\n",
       "      <th>Latitude</th>\n",
       "      <th>Longitude</th>\n",
       "      <th>Max Temperature</th>\n",
       "      <th>Humidity</th>\n",
       "      <th>Clouds</th>\n",
       "      <th>Wind</th>\n",
       "      <th>Date</th>\n",
       "    </tr>\n",
       "  </thead>\n",
       "  <tbody>\n",
       "    <tr>\n",
       "      <th>0.25</th>\n",
       "      <td>-8.4667</td>\n",
       "      <td>-59.99895</td>\n",
       "      <td>58.165</td>\n",
       "      <td>61.0</td>\n",
       "      <td>14.0</td>\n",
       "      <td>3.8325</td>\n",
       "      <td>1.624746e+09</td>\n",
       "    </tr>\n",
       "    <tr>\n",
       "      <th>0.50</th>\n",
       "      <td>20.8807</td>\n",
       "      <td>23.74805</td>\n",
       "      <td>71.580</td>\n",
       "      <td>78.0</td>\n",
       "      <td>73.0</td>\n",
       "      <td>6.0600</td>\n",
       "      <td>1.624746e+09</td>\n",
       "    </tr>\n",
       "    <tr>\n",
       "      <th>0.75</th>\n",
       "      <td>46.5752</td>\n",
       "      <td>98.78150</td>\n",
       "      <td>79.710</td>\n",
       "      <td>87.0</td>\n",
       "      <td>96.0</td>\n",
       "      <td>9.2450</td>\n",
       "      <td>1.624746e+09</td>\n",
       "    </tr>\n",
       "  </tbody>\n",
       "</table>\n",
       "</div>"
      ],
      "text/plain": [
       "      Latitude  Longitude  Max Temperature  Humidity  Clouds    Wind  \\\n",
       "0.25   -8.4667  -59.99895           58.165      61.0    14.0  3.8325   \n",
       "0.50   20.8807   23.74805           71.580      78.0    73.0  6.0600   \n",
       "0.75   46.5752   98.78150           79.710      87.0    96.0  9.2450   \n",
       "\n",
       "              Date  \n",
       "0.25  1.624746e+09  \n",
       "0.50  1.624746e+09  \n",
       "0.75  1.624746e+09  "
      ]
     },
     "execution_count": 19,
     "metadata": {},
     "output_type": "execute_result"
    }
   ],
   "source": [
    "weather_quartile = city_stat_pd.quantile([0.25,0.5,0.75])\r\n",
    "weather_quartile\r\n"
   ]
  },
  {
   "cell_type": "code",
   "execution_count": 20,
   "metadata": {},
   "outputs": [
    {
     "data": {
      "text/plain": [
       "Latitude              78.2186\n",
       "Longitude             178.417\n",
       "Max Temperature        111.79\n",
       "Humidity                  100\n",
       "Clouds                    100\n",
       "Wind                    26.17\n",
       "Date               1624746336\n",
       "dtype: object"
      ]
     },
     "execution_count": 20,
     "metadata": {},
     "output_type": "execute_result"
    }
   ],
   "source": [
    "weather_max = city_stat_pd.max()\r\n",
    "weather_max = weather_max.drop(['City','Country'])\r\n",
    "weather_max"
   ]
  },
  {
   "cell_type": "code",
   "execution_count": 21,
   "metadata": {},
   "outputs": [
    {
     "data": {
      "text/plain": [
       "(Latitude           560\n",
       " Longitude          560\n",
       " Max Temperature    560\n",
       " Humidity           560\n",
       " Clouds             560\n",
       " Wind               560\n",
       " Date               560\n",
       " dtype: int64,\n",
       " Latitude           1.846121e+01\n",
       " Longitude          1.803944e+01\n",
       " Max Temperature    6.931039e+01\n",
       " Humidity           7.169643e+01\n",
       " Clouds             5.627500e+01\n",
       " Wind               7.212071e+00\n",
       " Date               1.624746e+09\n",
       " dtype: float64,\n",
       " Latitude           2.088070e+01\n",
       " Longitude          2.374805e+01\n",
       " Max Temperature    7.158000e+01\n",
       " Humidity           7.800000e+01\n",
       " Clouds             7.300000e+01\n",
       " Wind               6.060000e+00\n",
       " Date               1.624746e+09\n",
       " dtype: float64,\n",
       " Latitude           33.598802\n",
       " Longitude          91.867662\n",
       " Max Temperature    14.654428\n",
       " Humidity           20.964933\n",
       " Clouds             39.210994\n",
       " Wind                4.796379\n",
       " Date               81.795954\n",
       " dtype: float64,\n",
       " City                   abalak\n",
       " Latitude                -54.8\n",
       " Longitude              -175.2\n",
       " Max Temperature         29.75\n",
       " Humidity                    6\n",
       " Clouds                      0\n",
       " Wind                        0\n",
       " Country                    AE\n",
       " Date               1624745835\n",
       " dtype: object,\n",
       "       Latitude  Longitude  Max Temperature  Humidity  Clouds    Wind  \\\n",
       " 0.25   -8.4667  -59.99895           58.165      61.0    14.0  3.8325   \n",
       " 0.50   20.8807   23.74805           71.580      78.0    73.0  6.0600   \n",
       " 0.75   46.5752   98.78150           79.710      87.0    96.0  9.2450   \n",
       " \n",
       "               Date  \n",
       " 0.25  1.624746e+09  \n",
       " 0.50  1.624746e+09  \n",
       " 0.75  1.624746e+09  ,\n",
       " Latitude              78.2186\n",
       " Longitude             178.417\n",
       " Max Temperature        111.79\n",
       " Humidity                  100\n",
       " Clouds                    100\n",
       " Wind                    26.17\n",
       " Date               1624746336\n",
       " dtype: object)"
      ]
     },
     "execution_count": 21,
     "metadata": {},
     "output_type": "execute_result"
    }
   ],
   "source": [
    "# sum_city = count\r\n",
    "# sum_city = mean\r\n",
    "# sum_city = median\r\n",
    "# sum_city = standard_dv\r\n",
    "# sum_city = weather_min, \r\n",
    "# sum_city = weather_quartile\r\n",
    "# sum_city = weather_max\r\n",
    "# sum_city.drop(['City','Country'])\r\n",
    "sum_city = (count, mean, median, standard_dv,weather_min, weather_quartile, weather_max)\r\n",
    "sum_city"
   ]
  },
  {
   "cell_type": "code",
   "execution_count": 22,
   "metadata": {},
   "outputs": [
    {
     "data": {
      "text/html": [
       "<div>\n",
       "<style scoped>\n",
       "    .dataframe tbody tr th:only-of-type {\n",
       "        vertical-align: middle;\n",
       "    }\n",
       "\n",
       "    .dataframe tbody tr th {\n",
       "        vertical-align: top;\n",
       "    }\n",
       "\n",
       "    .dataframe thead th {\n",
       "        text-align: right;\n",
       "    }\n",
       "</style>\n",
       "<table border=\"1\" class=\"dataframe\">\n",
       "  <thead>\n",
       "    <tr style=\"text-align: right;\">\n",
       "      <th></th>\n",
       "      <th>Lat</th>\n",
       "      <th>Lng</th>\n",
       "      <th>Max Temp</th>\n",
       "      <th>Humidity</th>\n",
       "      <th>Cloudiness</th>\n",
       "      <th>Wind Speed</th>\n",
       "      <th>Date</th>\n",
       "    </tr>\n",
       "  </thead>\n",
       "  <tbody>\n",
       "    <tr>\n",
       "      <th>count</th>\n",
       "      <td>0</td>\n",
       "      <td>0</td>\n",
       "      <td>0</td>\n",
       "      <td>0</td>\n",
       "      <td>0</td>\n",
       "      <td>0</td>\n",
       "      <td>0</td>\n",
       "    </tr>\n",
       "    <tr>\n",
       "      <th>unique</th>\n",
       "      <td>0</td>\n",
       "      <td>0</td>\n",
       "      <td>0</td>\n",
       "      <td>0</td>\n",
       "      <td>0</td>\n",
       "      <td>0</td>\n",
       "      <td>0</td>\n",
       "    </tr>\n",
       "    <tr>\n",
       "      <th>top</th>\n",
       "      <td>NaN</td>\n",
       "      <td>NaN</td>\n",
       "      <td>NaN</td>\n",
       "      <td>NaN</td>\n",
       "      <td>NaN</td>\n",
       "      <td>NaN</td>\n",
       "      <td>NaN</td>\n",
       "    </tr>\n",
       "    <tr>\n",
       "      <th>freq</th>\n",
       "      <td>NaN</td>\n",
       "      <td>NaN</td>\n",
       "      <td>NaN</td>\n",
       "      <td>NaN</td>\n",
       "      <td>NaN</td>\n",
       "      <td>NaN</td>\n",
       "      <td>NaN</td>\n",
       "    </tr>\n",
       "  </tbody>\n",
       "</table>\n",
       "</div>"
      ],
      "text/plain": [
       "        Lat  Lng Max Temp Humidity Cloudiness Wind Speed Date\n",
       "count     0    0        0        0          0          0    0\n",
       "unique    0    0        0        0          0          0    0\n",
       "top     NaN  NaN      NaN      NaN        NaN        NaN  NaN\n",
       "freq    NaN  NaN      NaN      NaN        NaN        NaN  NaN"
      ]
     },
     "execution_count": 22,
     "metadata": {},
     "output_type": "execute_result"
    }
   ],
   "source": [
    "#working on it\r\n",
    "# count = city_stat_pd.count()\r\n",
    "# mean = city_stat_pd.mean()\r\n",
    "# median = city_stat_pd.median()\r\n",
    "# standard_dv = city_stat_pd.std()\r\n",
    "# weather_min = city_stat_pd.min()\r\n",
    "# weather_quartile = city_stat_pd.quantile([0.25,0.5,0.75])\r\n",
    "# weather_max = city_stat_pd.max\r\n",
    "#data = [[count, mean, median, standard_dv, weather_min, weather_quartile, weather_max]]\r\n",
    "#summary_df = pd.DataFrame({\"Lat\": [city_lat], \"Lng\": [city_lng], \"Max Temp\": [city_max_temp],\"Humidity\": [city_humidity], \"Cloudiness\": [city_clouds], \"Wind Speed\": [city_wind], \"Date\": [city_date]})\r\n",
    "#summary_df.describe()\r\n",
    "#sum_df = pd.DataFrame(count, mean, median, standard_dv, weather_min, weather_quartile, weather_max, columns = ['Lat', 'Lng', 'Max Temp', 'Humidity', 'Cloudiness', 'Wind Speed', 'Date'])\r\n",
    "\r\n",
    "# summary = ({'Lat': count, 'Lng': mean, 'Max Temp': median, 'Humidity':standard_dv, 'Cloudiness':weather_min, 'Wind Speed':weather_quartile, 'Date':weather_max})\r\n",
    "# summary = pd.DataFrame(summary)\r\n",
    "# summary \r\n",
    "summary = sum_city\r\n",
    "summary = pd.DataFrame( columns = ['Lat', 'Lng', 'Max Temp', 'Humidity', 'Cloudiness', 'Wind Speed', 'Date'])\r\n",
    "summary.describe()"
   ]
  },
  {
   "cell_type": "code",
   "execution_count": null,
   "metadata": {},
   "outputs": [],
   "source": []
  },
  {
   "cell_type": "markdown",
   "metadata": {},
   "source": [
    "## Inspect the data and remove the cities where the humidity > 100%.\n",
    "----\n",
    "Skip this step if there are no cities that have humidity > 100%. "
   ]
  },
  {
   "cell_type": "code",
   "execution_count": 23,
   "metadata": {},
   "outputs": [
    {
     "data": {
      "text/plain": [
       "Humidity    100\n",
       "dtype: int64"
      ]
     },
     "execution_count": 23,
     "metadata": {},
     "output_type": "execute_result"
    }
   ],
   "source": [
    "max_humid = city_stat_pd[['Humidity']].max()\r\n",
    "max_humid\r\n",
    "#max_humid = max('Humidity')\r\n",
    "\r\n",
    "#print('Max Humidity:', max_humid)"
   ]
  },
  {
   "cell_type": "code",
   "execution_count": 24,
   "metadata": {},
   "outputs": [],
   "source": [
    "#no humidity over 100"
   ]
  },
  {
   "cell_type": "code",
   "execution_count": 25,
   "metadata": {},
   "outputs": [],
   "source": [
    "#  Get the indices of cities that have humidity over 100%.\n"
   ]
  },
  {
   "cell_type": "code",
   "execution_count": 26,
   "metadata": {},
   "outputs": [],
   "source": [
    "# Make a new DataFrame equal to the city data to drop all humidity outliers by index.\n",
    "# Passing \"inplace=False\" will make a copy of the city_data DataFrame, which we call \"clean_city_data\".\n"
   ]
  },
  {
   "cell_type": "code",
   "execution_count": null,
   "metadata": {},
   "outputs": [],
   "source": [
    "\n"
   ]
  },
  {
   "cell_type": "markdown",
   "metadata": {},
   "source": [
    "## Plotting the Data\n",
    "* Use proper labeling of the plots using plot titles (including date of analysis) and axes labels.\n",
    "* Save the plotted figures as .pngs."
   ]
  },
  {
   "cell_type": "markdown",
   "metadata": {},
   "source": [
    "## Latitude vs. Temperature Plot"
   ]
  },
  {
   "cell_type": "code",
   "execution_count": 27,
   "metadata": {
    "scrolled": true
   },
   "outputs": [
    {
     "data": {
      "image/png": "[encoded data removed]",
      "text/plain": [
       "<Figure size 432x288 with 1 Axes>"
      ]
     },
     "metadata": {
      "needs_background": "light"
     },
     "output_type": "display_data"
    }
   ],
   "source": [
    "lat_vs_temp = city_stat_pd.plot.scatter(x=\"Latitude\", y=\"Max Temperature\")\r\n",
    "plt.title('Latitude vs. Temperature (6/25/2021')\r\n",
    "plt.ylabel('Max Temperature (F)')\r\n",
    "plt.savefig(\"output_data/LatvsTemp.png\")\r\n",
    "plt.show()"
   ]
  },
  {
   "cell_type": "markdown",
   "metadata": {},
   "source": [
    "## Latitude vs. Humidity Plot"
   ]
  },
  {
   "cell_type": "code",
   "execution_count": 28,
   "metadata": {},
   "outputs": [
    {
     "data": {
      "image/png": "[encoded data removed]",
      "text/plain": [
       "<Figure size 432x288 with 1 Axes>"
      ]
     },
     "metadata": {
      "needs_background": "light"
     },
     "output_type": "display_data"
    }
   ],
   "source": [
    "lat_vs_humid = city_stat_pd.plot.scatter(x ='Latitude', y ='Humidity')\r\n",
    "plt.title('Latitude vs. Humidity (6/25/2021)')\r\n",
    "plt.ylabel('Humidity (%)')\r\n",
    "plt.savefig(\"output_data/LatvsHum.png\")\r\n",
    "plt.show()"
   ]
  },
  {
   "cell_type": "markdown",
   "metadata": {},
   "source": [
    "## Latitude vs. Cloudiness Plot"
   ]
  },
  {
   "cell_type": "code",
   "execution_count": 29,
   "metadata": {},
   "outputs": [
    {
     "data": {
      "image/png": "[encoded data removed]",
      "text/plain": [
       "<Figure size 432x288 with 1 Axes>"
      ]
     },
     "metadata": {
      "needs_background": "light"
     },
     "output_type": "display_data"
    }
   ],
   "source": [
    "lat_vs_cloud = city_stat_pd.plot.scatter(x='Latitude', y ='Clouds')\r\n",
    "plt.title('Latitude vs. Cloudiness (6/25/2021)')\r\n",
    "plt.ylabel('Cloudiness (%)')\r\n",
    "plt.savefig(\"output_data/LatvsCloud.png\")\r\n",
    "plt.show()"
   ]
  },
  {
   "cell_type": "markdown",
   "metadata": {},
   "source": [
    "## Latitude vs. Wind Speed Plot"
   ]
  },
  {
   "cell_type": "code",
   "execution_count": 30,
   "metadata": {},
   "outputs": [
    {
     "data": {
      "image/png": "[encoded data removed]",
      "text/plain": [
       "<Figure size 432x288 with 1 Axes>"
      ]
     },
     "metadata": {
      "needs_background": "light"
     },
     "output_type": "display_data"
    }
   ],
   "source": [
    "lat_vs_wind = city_stat_pd.plot.scatter(x = 'Latitude', y ='Wind')\r\n",
    "plt.title('Latitude vs. Wind Speed (6/25/2021)')\r\n",
    "plt.ylabel('Wind Speed (mph)')\r\n",
    "plt.savefig(\"output_data/LatvsWind.png\")\r\n",
    "plt.show()"
   ]
  },
  {
   "cell_type": "markdown",
   "metadata": {},
   "source": [
    "## Linear Regression"
   ]
  },
  {
   "cell_type": "code",
   "execution_count": 31,
   "metadata": {},
   "outputs": [],
   "source": [
    "north_hemisphere_df = city_stat_pd.loc[(city_stat_pd[\"Latitude\"]>= 0)]\r\n",
    "south_hemisphere_df = city_stat_pd.loc[(city_stat_pd[\"Latitude\"]< 0)]"
   ]
  },
  {
   "cell_type": "code",
   "execution_count": 32,
   "metadata": {},
   "outputs": [],
   "source": [
    "def plot_linear_regression(x_values, y_values, title, text_coordinates):\r\n",
    "\r\n",
    "    (slope, intercept, rvalue, pvalue, stderr) = linregress(x_values, y_values)\r\n",
    "    regress_values = x_values * slope + intercept\r\n",
    "    line_eq = \"y = \" + str(round(slope,2)) + \"x + \" + str(round(intercept,2))\r\n",
    "\r\n",
    "\r\n",
    "    plt.scatter(x_values,y_values)\r\n",
    "    plt.plot(x_values,regress_values,\"r-\")\r\n",
    "    plt.annotate(line_eq,text_coordinates,fontsize=18,color=\"red\")\r\n",
    "    plt.xlabel('Latitude')\r\n",
    "    plt.ylabel(title)\r\n",
    "    print(f\"The r-value is: {rvalue**2}\")\r\n",
    "    plt.show()\r\n"
   ]
  },
  {
   "cell_type": "markdown",
   "metadata": {},
   "source": [
    "####  Northern Hemisphere - Max Temp vs. Latitude Linear Regression"
   ]
  },
  {
   "cell_type": "code",
   "execution_count": 33,
   "metadata": {},
   "outputs": [
    {
     "name": "stdout",
     "output_type": "stream",
     "text": [
      "The r-value is: 0.43683444137850364\n"
     ]
    },
    {
     "data": {
      "image/png": "[encoded data removed]",
      "text/plain": [
       "<Figure size 432x288 with 1 Axes>"
      ]
     },
     "metadata": {
      "needs_background": "light"
     },
     "output_type": "display_data"
    }
   ],
   "source": [
    "x_values = north_hemisphere_df[\"Latitude\"]\r\n",
    "y_values = north_hemisphere_df[\"Max Temperature\"]\r\n",
    "plot_linear_regression(x_values, y_values, 'Max Temperature', (6,14))\r\n",
    "plt.show()\r\n"
   ]
  },
  {
   "cell_type": "markdown",
   "metadata": {},
   "source": [
    "####  Southern Hemisphere - Max Temp vs. Latitude Linear Regression"
   ]
  },
  {
   "cell_type": "code",
   "execution_count": 34,
   "metadata": {},
   "outputs": [
    {
     "name": "stdout",
     "output_type": "stream",
     "text": [
      "The r-value is: 0.6286178975475748\n"
     ]
    },
    {
     "data": {
      "image/png": "[encoded data removed]",
      "text/plain": [
       "<Figure size 432x288 with 1 Axes>"
      ]
     },
     "metadata": {
      "needs_background": "light"
     },
     "output_type": "display_data"
    }
   ],
   "source": [
    "x_values = south_hemisphere_df[\"Latitude\"]\r\n",
    "y_values = south_hemisphere_df[\"Max Temperature\"]\r\n",
    "plot_linear_regression(x_values, y_values, 'Max Temperature', (6,14))\r\n",
    "plt.show()"
   ]
  },
  {
   "cell_type": "markdown",
   "metadata": {},
   "source": [
    "####  Northern Hemisphere - Humidity (%) vs. Latitude Linear Regression"
   ]
  },
  {
   "cell_type": "code",
   "execution_count": 35,
   "metadata": {},
   "outputs": [
    {
     "name": "stdout",
     "output_type": "stream",
     "text": [
      "The r-value is: 5.512702806187959e-06\n"
     ]
    },
    {
     "data": {
      "image/png": "[encoded data removed]",
      "text/plain": [
       "<Figure size 432x288 with 1 Axes>"
      ]
     },
     "metadata": {
      "needs_background": "light"
     },
     "output_type": "display_data"
    }
   ],
   "source": [
    "x_values = north_hemisphere_df[\"Latitude\"]\r\n",
    "y_values = north_hemisphere_df[\"Humidity\"]\r\n",
    "plot_linear_regression(x_values, y_values, 'Humidity', (6,14))\r\n",
    "plt.show()"
   ]
  },
  {
   "cell_type": "markdown",
   "metadata": {},
   "source": [
    "####  Southern Hemisphere - Humidity (%) vs. Latitude Linear Regression"
   ]
  },
  {
   "cell_type": "code",
   "execution_count": 36,
   "metadata": {},
   "outputs": [
    {
     "name": "stdout",
     "output_type": "stream",
     "text": [
      "The r-value is: 0.00578709685935563\n"
     ]
    },
    {
     "data": {
      "image/png": "[encoded data removed]",
      "text/plain": [
       "<Figure size 432x288 with 1 Axes>"
      ]
     },
     "metadata": {
      "needs_background": "light"
     },
     "output_type": "display_data"
    }
   ],
   "source": [
    "x_values = south_hemisphere_df[\"Latitude\"]\r\n",
    "y_values = south_hemisphere_df[\"Humidity\"]\r\n",
    "plot_linear_regression(x_values, y_values, 'Humidity', (6,14))\r\n",
    "plt.show() "
   ]
  },
  {
   "cell_type": "markdown",
   "metadata": {},
   "source": [
    "####  Northern Hemisphere - Cloudiness (%) vs. Latitude Linear Regression"
   ]
  },
  {
   "cell_type": "code",
   "execution_count": 37,
   "metadata": {},
   "outputs": [
    {
     "name": "stdout",
     "output_type": "stream",
     "text": [
      "The r-value is: 0.000818977378494658\n"
     ]
    },
    {
     "data": {
      "image/png": "[encoded data removed]",
      "text/plain": [
       "<Figure size 432x288 with 1 Axes>"
      ]
     },
     "metadata": {
      "needs_background": "light"
     },
     "output_type": "display_data"
    }
   ],
   "source": [
    "x_values = north_hemisphere_df[\"Latitude\"]\r\n",
    "y_values = north_hemisphere_df[\"Clouds\"]\r\n",
    "plot_linear_regression(x_values, y_values, 'Cloudiness', (6,14))\r\n",
    "plt.show()"
   ]
  },
  {
   "cell_type": "markdown",
   "metadata": {},
   "source": [
    "####  Southern Hemisphere - Cloudiness (%) vs. Latitude Linear Regression"
   ]
  },
  {
   "cell_type": "code",
   "execution_count": 38,
   "metadata": {},
   "outputs": [
    {
     "name": "stdout",
     "output_type": "stream",
     "text": [
      "The r-value is: 0.0010140373970416007\n"
     ]
    },
    {
     "data": {
      "image/png": "[encoded data removed]",
      "text/plain": [
       "<Figure size 432x288 with 1 Axes>"
      ]
     },
     "metadata": {
      "needs_background": "light"
     },
     "output_type": "display_data"
    }
   ],
   "source": [
    "x_values = south_hemisphere_df[\"Latitude\"]\r\n",
    "y_values = south_hemisphere_df[\"Clouds\"]\r\n",
    "plot_linear_regression(x_values, y_values, 'Cloudiness', (6,14))\r\n",
    "plt.show()"
   ]
  },
  {
   "cell_type": "markdown",
   "metadata": {},
   "source": [
    "####  Northern Hemisphere - Wind Speed (mph) vs. Latitude Linear Regression"
   ]
  },
  {
   "cell_type": "code",
   "execution_count": 39,
   "metadata": {},
   "outputs": [
    {
     "name": "stdout",
     "output_type": "stream",
     "text": [
      "The r-value is: 0.0009501729052989657\n"
     ]
    },
    {
     "data": {
      "image/png": "[encoded data removed]",
      "text/plain": [
       "<Figure size 432x288 with 1 Axes>"
      ]
     },
     "metadata": {
      "needs_background": "light"
     },
     "output_type": "display_data"
    }
   ],
   "source": [
    "x_values = north_hemisphere_df[\"Latitude\"]\r\n",
    "y_values = north_hemisphere_df[\"Wind\"]\r\n",
    "plot_linear_regression(x_values, y_values, 'Wind Speed', (6,14))\r\n",
    "plt.show()"
   ]
  },
  {
   "cell_type": "markdown",
   "metadata": {},
   "source": [
    "####  Southern Hemisphere - Wind Speed (mph) vs. Latitude Linear Regression"
   ]
  },
  {
   "cell_type": "code",
   "execution_count": 40,
   "metadata": {},
   "outputs": [
    {
     "name": "stdout",
     "output_type": "stream",
     "text": [
      "The r-value is: 0.004044939576613976\n"
     ]
    },
    {
     "data": {
      "image/png": "[encoded data removed]",
      "text/plain": [
       "<Figure size 432x288 with 1 Axes>"
      ]
     },
     "metadata": {
      "needs_background": "light"
     },
     "output_type": "display_data"
    }
   ],
   "source": [
    "x_values = south_hemisphere_df[\"Latitude\"]\r\n",
    "y_values = south_hemisphere_df[\"Wind\"]\r\n",
    "plot_linear_regression(x_values, y_values, 'Wind Speed', (6,14))\r\n",
    "plt.show()\r\n"
   ]
  },
  {
   "cell_type": "code",
   "execution_count": null,
   "metadata": {},
   "outputs": [],
   "source": []
  }
 ],
 "metadata": {
  "anaconda-cloud": {},
  "interpreter": {
   "hash": "61ee4eedbb40f6b204db7353fb8ee3c1ac35e9b22dd076c003bd79c74bdea4cf"
  },
  "kernel_info": {
   "name": "python3"
  },
  "kernelspec": {
   "display_name": "Python 3.6.10 64-bit ('PythonData': conda)",
   "name": "python3"
  },
  "language_info": {
   "codemirror_mode": {
    "name": "ipython",
    "version": 3
   },
   "file_extension": ".py",
   "mimetype": "text/x-python",
   "name": "python",
   "nbconvert_exporter": "python",
   "pygments_lexer": "ipython3",
   "version": "3.6.10"
  },
  "latex_envs": {
   "LaTeX_envs_menu_present": true,
   "autoclose": false,
   "autocomplete": true,
   "bibliofile": "biblio.bib",
   "cite_by": "apalike",
   "current_citInitial": 1,
   "eqLabelWithNumbers": true,
   "eqNumInitial": 1,
   "hotkeys": {
    "equation": "Ctrl-E",
    "itemize": "Ctrl-I"
   },
   "labels_anchors": false,
   "latex_user_defs": false,
   "report_style_numbering": false,
   "user_envs_cfg": false
  },
  "nteract": {
   "version": "0.12.3"
  }
 },
 "nbformat": 4,
 "nbformat_minor": 2
}