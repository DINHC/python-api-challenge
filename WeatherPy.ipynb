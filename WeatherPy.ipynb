{
 "cells": [
  {
   "cell_type": "markdown",
   "metadata": {},
   "source": [
    "# WeatherPy\n",
    "----\n",
    "\n",
    "#### Note\n",
    "* Instructions have been included for each segment. You do not have to follow them exactly, but they are included to help you think through the steps."
   ]
  },
  {
   "cell_type": "code",
   "execution_count": 1,
   "metadata": {
    "scrolled": true
   },
   "outputs": [],
   "source": [
    "# Dependencies and Setup\n",
    "import matplotlib.pyplot as plt\n",
    "import pandas as pd\n",
    "import numpy as np\n",
    "import requests\n",
    "import time\n",
    "from scipy.stats import linregress\n",
    "\n",
    "# Import API key\n",
    "from api_keys import weather_api_key\n",
    "\n",
    "# Incorporated citipy to determine city based on latitude and longitude\n",
    "from citipy import citipy\n",
    "\n",
    "# Output File (CSV)\n",
    "output_data_file = \"output_data/cities.csv\"\n",
    "\n",
    "# Range of latitudes and longitudes\n",
    "lat_range = (-90, 90)\n",
    "lng_range = (-180, 180)"
   ]
  },
  {
   "cell_type": "markdown",
   "metadata": {},
   "source": [
    "## Generate Cities List"
   ]
  },
  {
   "cell_type": "code",
   "execution_count": 2,
   "metadata": {},
   "outputs": [
    {
     "data": {
      "text/plain": [
       "608"
      ]
     },
     "execution_count": 2,
     "metadata": {},
     "output_type": "execute_result"
    }
   ],
   "source": [
    "# List for holding lat_lngs and cities\n",
    "lat_lngs = []\n",
    "cities = []\n",
    "\n",
    "# Create a set of random lat and lng combinations\n",
    "lats = np.random.uniform(lat_range[0], lat_range[1], size=1500)\n",
    "lngs = np.random.uniform(lng_range[0], lng_range[1], size=1500)\n",
    "lat_lngs = zip(lats, lngs)\n",
    "\n",
    "# Identify nearest city for each lat, lng combination\n",
    "for lat_lng in lat_lngs:\n",
    "    city = citipy.nearest_city(lat_lng[0], lat_lng[1]).city_name\n",
    "    \n",
    "    # If the city is unique, then add it to a our cities list\n",
    "    if city not in cities:\n",
    "        cities.append(city)\n",
    "\n",
    "# Print the city count to confirm sufficient count\n",
    "len(cities)"
   ]
  },
  {
   "cell_type": "code",
   "execution_count": 3,
   "metadata": {},
   "outputs": [
    {
     "data": {
      "text/plain": [
       "<zip at 0x11a16d41a88>"
      ]
     },
     "execution_count": 3,
     "metadata": {},
     "output_type": "execute_result"
    }
   ],
   "source": [
    "lat_lngs"
   ]
  },
  {
   "cell_type": "markdown",
   "metadata": {},
   "source": [
    "### Perform API Calls\n",
    "* Perform a weather check on each city using a series of successive API calls.\n",
    "* Include a print log of each city as it'sbeing processed (with the city number and city name).\n"
   ]
  },
  {
   "cell_type": "code",
   "execution_count": 4,
   "metadata": {
    "scrolled": true
   },
   "outputs": [],
   "source": [
    "url =  \"http://api.openweathermap.org/data/2.5/weather?units=Imperial&APPID=\" + weather_api_key"
   ]
  },
  {
   "cell_type": "code",
   "execution_count": null,
   "metadata": {},
   "outputs": [],
   "source": []
  },
  {
   "cell_type": "code",
   "execution_count": 5,
   "metadata": {},
   "outputs": [
    {
     "name": "stdout",
     "output_type": "stream",
     "text": [
      "Beginning Data Retrieval\n",
      "-----------------------------\n",
      "Processing record set 1 of 608 with the city named san patricio\n",
      "Processing record set 2 of 608 with the city named katsuura\n",
      "Processing record set 3 of 608 with the city named hobyo\n",
      "Processing record set 4 of 608 with the city named linjiang\n",
      "Processing record set 5 of 608 with the city named rikitea\n",
      "Processing record set 6 of 608 with the city named hermanus\n",
      "Processing record set 7 of 608 with the city named rawannawi\n",
      "Error, city not found\n",
      "Processing record set 8 of 608 with the city named taolanaro\n",
      "Error, city not found\n",
      "Processing record set 9 of 608 with the city named walvis bay\n",
      "Processing record set 10 of 608 with the city named jatai\n",
      "Processing record set 11 of 608 with the city named san cristobal\n",
      "Processing record set 12 of 608 with the city named tevaitoa\n",
      "Processing record set 13 of 608 with the city named port elizabeth\n",
      "Processing record set 14 of 608 with the city named mys shmidta\n",
      "Error, city not found\n",
      "Processing record set 15 of 608 with the city named krasnoselkup\n",
      "Processing record set 16 of 608 with the city named port hardy\n",
      "Processing record set 17 of 608 with the city named yellowknife\n",
      "Processing record set 18 of 608 with the city named bealanana\n",
      "Processing record set 19 of 608 with the city named darab\n",
      "Processing record set 20 of 608 with the city named gizo\n",
      "Processing record set 21 of 608 with the city named san jose\n",
      "Processing record set 22 of 608 with the city named barentsburg\n",
      "Error, city not found\n",
      "Processing record set 23 of 608 with the city named yeppoon\n",
      "Processing record set 24 of 608 with the city named minna\n",
      "Processing record set 25 of 608 with the city named sentyabrskiy\n",
      "Error, city not found\n",
      "Processing record set 26 of 608 with the city named lagoa\n",
      "Processing record set 27 of 608 with the city named tsihombe\n",
      "Error, city not found\n",
      "Processing record set 28 of 608 with the city named flinders\n",
      "Processing record set 29 of 608 with the city named palauig\n",
      "Processing record set 30 of 608 with the city named iqaluit\n",
      "Processing record set 31 of 608 with the city named selfoss\n",
      "Processing record set 32 of 608 with the city named thompson\n",
      "Processing record set 33 of 608 with the city named mahebourg\n",
      "Processing record set 34 of 608 with the city named grindavik\n",
      "Processing record set 35 of 608 with the city named santa cruz del norte\n",
      "Processing record set 36 of 608 with the city named amderma\n",
      "Error, city not found\n",
      "Processing record set 37 of 608 with the city named castro\n",
      "Processing record set 38 of 608 with the city named puerto ayora\n",
      "Processing record set 39 of 608 with the city named codrington\n",
      "Processing record set 40 of 608 with the city named hovd\n",
      "Processing record set 41 of 608 with the city named arraial do cabo\n",
      "Processing record set 42 of 608 with the city named atuona\n",
      "Processing record set 43 of 608 with the city named cherskiy\n",
      "Processing record set 44 of 608 with the city named vung tau\n",
      "Processing record set 45 of 608 with the city named sitka\n",
      "Processing record set 46 of 608 with the city named palabuhanratu\n",
      "Error, city not found\n",
      "Processing record set 47 of 608 with the city named broken hill\n",
      "Processing record set 48 of 608 with the city named geraldton\n",
      "Processing record set 49 of 608 with the city named kahului\n",
      "Processing record set 50 of 608 with the city named lavrentiya\n",
      "Processing record set 51 of 608 with the city named jerecuaro\n",
      "Processing record set 52 of 608 with the city named georgetown\n",
      "Processing record set 53 of 608 with the city named fairview\n",
      "Processing record set 54 of 608 with the city named port alfred\n",
      "Processing record set 55 of 608 with the city named dolbeau\n",
      "Error, city not found\n",
      "Processing record set 56 of 608 with the city named ushuaia\n",
      "Processing record set 57 of 608 with the city named saint-francois\n",
      "Processing record set 58 of 608 with the city named new norfolk\n",
      "Processing record set 59 of 608 with the city named sao felix do xingu\n",
      "Processing record set 60 of 608 with the city named khorramshahr\n",
      "Processing record set 61 of 608 with the city named socorro\n",
      "Processing record set 62 of 608 with the city named santa cecilia\n",
      "Processing record set 63 of 608 with the city named upernavik\n",
      "Processing record set 64 of 608 with the city named busselton\n",
      "Processing record set 65 of 608 with the city named atar\n",
      "Processing record set 66 of 608 with the city named bethel\n",
      "Processing record set 67 of 608 with the city named carnarvon\n",
      "Processing record set 68 of 608 with the city named kapaa\n",
      "Processing record set 69 of 608 with the city named vaini\n",
      "Processing record set 70 of 608 with the city named tidore\n",
      "Error, city not found\n",
      "Processing record set 71 of 608 with the city named mocambique\n",
      "Error, city not found\n",
      "Processing record set 72 of 608 with the city named vaitupu\n",
      "Error, city not found\n",
      "Processing record set 73 of 608 with the city named bandarbeyla\n",
      "Processing record set 74 of 608 with the city named chuy\n",
      "Processing record set 75 of 608 with the city named kodiak\n",
      "Processing record set 76 of 608 with the city named caravelas\n",
      "Processing record set 77 of 608 with the city named mataura\n",
      "Processing record set 78 of 608 with the city named saskylakh\n",
      "Processing record set 79 of 608 with the city named punta arenas\n",
      "Processing record set 80 of 608 with the city named bredasdorp\n",
      "Processing record set 81 of 608 with the city named qaqortoq\n",
      "Processing record set 82 of 608 with the city named tayu\n",
      "Processing record set 83 of 608 with the city named rio gallegos\n",
      "Processing record set 84 of 608 with the city named anau\n",
      "Processing record set 85 of 608 with the city named butaritari\n",
      "Processing record set 86 of 608 with the city named lebu\n",
      "Processing record set 87 of 608 with the city named jamestown\n",
      "Processing record set 88 of 608 with the city named utiroa\n",
      "Error, city not found\n",
      "Processing record set 89 of 608 with the city named avarua\n",
      "Processing record set 90 of 608 with the city named kaitangata\n",
      "Processing record set 91 of 608 with the city named mahajanga\n",
      "Processing record set 92 of 608 with the city named teknaf\n",
      "Processing record set 93 of 608 with the city named cape town\n",
      "Processing record set 94 of 608 with the city named ribeira grande\n",
      "Processing record set 95 of 608 with the city named aflu\n",
      "Error, city not found\n",
      "Processing record set 96 of 608 with the city named tabou\n",
      "Processing record set 97 of 608 with the city named mar del plata\n",
      "Processing record set 98 of 608 with the city named tuktoyaktuk\n",
      "Processing record set 99 of 608 with the city named pangody\n",
      "Processing record set 100 of 608 with the city named nuuk\n",
      "Processing record set 101 of 608 with the city named bengkulu\n",
      "Processing record set 102 of 608 with the city named tiksi\n",
      "Processing record set 103 of 608 with the city named mabaruma\n",
      "Processing record set 104 of 608 with the city named jining\n",
      "Processing record set 105 of 608 with the city named pakxan\n",
      "Processing record set 106 of 608 with the city named sioux lookout\n",
      "Processing record set 107 of 608 with the city named sao raimundo nonato\n",
      "Processing record set 108 of 608 with the city named hilo\n",
      "Processing record set 109 of 608 with the city named ostrovnoy\n",
      "Processing record set 110 of 608 with the city named longlac\n",
      "Error, city not found\n",
      "Processing record set 111 of 608 with the city named nichinan\n",
      "Processing record set 112 of 608 with the city named ancud\n",
      "Processing record set 113 of 608 with the city named bhadrapur\n",
      "Processing record set 114 of 608 with the city named morro bay\n",
      "Processing record set 115 of 608 with the city named lolua\n",
      "Error, city not found\n",
      "Processing record set 116 of 608 with the city named bourges\n",
      "Processing record set 117 of 608 with the city named auki\n",
      "Processing record set 118 of 608 with the city named ilulissat\n",
      "Processing record set 119 of 608 with the city named ponta do sol\n",
      "Processing record set 120 of 608 with the city named illoqqortoormiut\n",
      "Error, city not found\n",
      "Processing record set 121 of 608 with the city named tasiilaq\n",
      "Processing record set 122 of 608 with the city named amberley\n",
      "Processing record set 123 of 608 with the city named oussouye\n",
      "Processing record set 124 of 608 with the city named yumen\n",
      "Processing record set 125 of 608 with the city named saint george\n",
      "Processing record set 126 of 608 with the city named mehamn\n",
      "Processing record set 127 of 608 with the city named pimentel\n",
      "Processing record set 128 of 608 with the city named bangui\n",
      "Processing record set 129 of 608 with the city named mount gambier\n",
      "Processing record set 130 of 608 with the city named kangaatsiaq\n",
      "Processing record set 131 of 608 with the city named albany\n",
      "Processing record set 132 of 608 with the city named ust-tsilma\n",
      "Processing record set 133 of 608 with the city named kirovskiy\n",
      "Processing record set 134 of 608 with the city named kurumkan\n",
      "Processing record set 135 of 608 with the city named harper\n",
      "Processing record set 136 of 608 with the city named samusu\n",
      "Error, city not found\n",
      "Processing record set 137 of 608 with the city named arnprior\n",
      "Processing record set 138 of 608 with the city named haibowan\n",
      "Error, city not found\n",
      "Processing record set 139 of 608 with the city named vrangel\n",
      "Processing record set 140 of 608 with the city named bellavista\n",
      "Processing record set 141 of 608 with the city named kidal\n",
      "Processing record set 142 of 608 with the city named celestun\n",
      "Processing record set 143 of 608 with the city named sao filipe\n",
      "Processing record set 144 of 608 with the city named hanyang\n",
      "Processing record set 145 of 608 with the city named hami\n",
      "Processing record set 146 of 608 with the city named kodinsk\n",
      "Processing record set 147 of 608 with the city named mayo\n",
      "Processing record set 148 of 608 with the city named komsomolskiy\n",
      "Processing record set 149 of 608 with the city named clyde river\n",
      "Processing record set 150 of 608 with the city named abu samrah\n",
      "Processing record set 151 of 608 with the city named hobart\n",
      "Processing record set 152 of 608 with the city named portland\n",
      "Processing record set 153 of 608 with the city named margarita\n",
      "Processing record set 154 of 608 with the city named dikson\n",
      "Processing record set 155 of 608 with the city named cumaribo\n",
      "Error, city not found\n",
      "Processing record set 156 of 608 with the city named veselynove\n",
      "Processing record set 157 of 608 with the city named los llanos de aridane\n",
      "Processing record set 158 of 608 with the city named paradwip\n",
      "Error, city not found\n",
      "Processing record set 159 of 608 with the city named bluff\n",
      "Processing record set 160 of 608 with the city named seoul\n",
      "Processing record set 161 of 608 with the city named ibajay\n",
      "Processing record set 162 of 608 with the city named narsaq\n",
      "Processing record set 163 of 608 with the city named moerai\n",
      "Processing record set 164 of 608 with the city named araouane\n",
      "Processing record set 165 of 608 with the city named durango\n",
      "Processing record set 166 of 608 with the city named padang\n",
      "Processing record set 167 of 608 with the city named comodoro rivadavia\n",
      "Processing record set 168 of 608 with the city named east london\n",
      "Processing record set 169 of 608 with the city named fortuna\n",
      "Processing record set 170 of 608 with the city named tezu\n",
      "Processing record set 171 of 608 with the city named la rioja\n",
      "Processing record set 172 of 608 with the city named kruisfontein\n",
      "Processing record set 173 of 608 with the city named guerrero negro\n",
      "Processing record set 174 of 608 with the city named fremont\n",
      "Processing record set 175 of 608 with the city named mugur-aksy\n",
      "Processing record set 176 of 608 with the city named faya\n",
      "Processing record set 177 of 608 with the city named ayan\n",
      "Processing record set 178 of 608 with the city named chauk\n",
      "Processing record set 179 of 608 with the city named ternate\n",
      "Processing record set 180 of 608 with the city named we\n",
      "Error, city not found\n",
      "Processing record set 181 of 608 with the city named belyy yar\n",
      "Processing record set 182 of 608 with the city named kuznechnoye\n",
      "Processing record set 183 of 608 with the city named wagar\n",
      "Processing record set 184 of 608 with the city named qaanaaq\n",
      "Processing record set 185 of 608 with the city named touros\n",
      "Processing record set 186 of 608 with the city named huoqiu\n",
      "Processing record set 187 of 608 with the city named angouleme\n",
      "Processing record set 188 of 608 with the city named necochea\n",
      "Processing record set 189 of 608 with the city named wamba\n",
      "Processing record set 190 of 608 with the city named megion\n",
      "Processing record set 191 of 608 with the city named hithadhoo\n",
      "Processing record set 192 of 608 with the city named karaul\n",
      "Error, city not found\n",
      "Processing record set 193 of 608 with the city named vila velha\n",
      "Processing record set 194 of 608 with the city named jiwani\n",
      "Processing record set 195 of 608 with the city named laela\n",
      "Processing record set 196 of 608 with the city named nizhneyansk\n",
      "Error, city not found\n",
      "Processing record set 197 of 608 with the city named baculin\n",
      "Processing record set 198 of 608 with the city named turukhansk\n",
      "Processing record set 199 of 608 with the city named richards bay\n",
      "Processing record set 200 of 608 with the city named kloulklubed\n",
      "Processing record set 201 of 608 with the city named bambous virieux\n",
      "Processing record set 202 of 608 with the city named upington\n",
      "Processing record set 203 of 608 with the city named emerald\n",
      "Processing record set 204 of 608 with the city named carinhanha\n",
      "Processing record set 205 of 608 with the city named port lincoln\n",
      "Processing record set 206 of 608 with the city named grand centre\n",
      "Error, city not found\n",
      "Processing record set 207 of 608 with the city named zhuhai\n",
      "Processing record set 208 of 608 with the city named toliary\n",
      "Error, city not found\n",
      "Processing record set 209 of 608 with the city named kasongo-lunda\n",
      "Processing record set 210 of 608 with the city named khatanga\n",
      "Processing record set 211 of 608 with the city named illela\n",
      "Processing record set 212 of 608 with the city named road town\n",
      "Processing record set 213 of 608 with the city named laguna\n",
      "Processing record set 214 of 608 with the city named te anau\n",
      "Processing record set 215 of 608 with the city named mastic beach\n",
      "Processing record set 216 of 608 with the city named chernyshevskiy\n",
      "Processing record set 217 of 608 with the city named saint-honore\n",
      "Processing record set 218 of 608 with the city named ketchikan\n",
      "Processing record set 219 of 608 with the city named tautira\n",
      "Processing record set 220 of 608 with the city named puerto leguizamo\n",
      "Processing record set 221 of 608 with the city named babanusah\n",
      "Error, city not found\n",
      "Processing record set 222 of 608 with the city named mae tha\n",
      "Processing record set 223 of 608 with the city named chokurdakh\n",
      "Processing record set 224 of 608 with the city named hargeysa\n",
      "Processing record set 225 of 608 with the city named sovetskiy\n",
      "Processing record set 226 of 608 with the city named oktyabrskiy\n",
      "Processing record set 227 of 608 with the city named kolpashevo\n",
      "Processing record set 228 of 608 with the city named gunjur\n",
      "Processing record set 229 of 608 with the city named manzil tamim\n",
      "Error, city not found\n",
      "Processing record set 230 of 608 with the city named hofn\n",
      "Processing record set 231 of 608 with the city named grand gaube\n",
      "Processing record set 232 of 608 with the city named lompoc\n",
      "Processing record set 233 of 608 with the city named vilyuysk\n",
      "Processing record set 234 of 608 with the city named aklavik\n",
      "Processing record set 235 of 608 with the city named tuatapere\n",
      "Processing record set 236 of 608 with the city named beringovskiy\n",
      "Processing record set 237 of 608 with the city named grand river south east\n",
      "Error, city not found\n",
      "Processing record set 238 of 608 with the city named russell\n",
      "Processing record set 239 of 608 with the city named jasper\n",
      "Processing record set 240 of 608 with the city named havre-saint-pierre\n",
      "Processing record set 241 of 608 with the city named alice springs\n",
      "Processing record set 242 of 608 with the city named amapa\n",
      "Processing record set 243 of 608 with the city named dinsor\n",
      "Error, city not found\n",
      "Processing record set 244 of 608 with the city named uhlove\n",
      "Processing record set 245 of 608 with the city named makakilo city\n",
      "Processing record set 246 of 608 with the city named muskegon\n",
      "Processing record set 247 of 608 with the city named najran\n",
      "Processing record set 248 of 608 with the city named juegang\n",
      "Processing record set 249 of 608 with the city named san quintin\n",
      "Processing record set 250 of 608 with the city named milingimbi\n",
      "Error, city not found\n",
      "Processing record set 251 of 608 with the city named isangel\n",
      "Processing record set 252 of 608 with the city named mahon\n",
      "Processing record set 253 of 608 with the city named ust-nera\n",
      "Processing record set 254 of 608 with the city named ahipara\n",
      "Processing record set 255 of 608 with the city named corinto\n",
      "Processing record set 256 of 608 with the city named namibe\n",
      "Processing record set 257 of 608 with the city named ulychne\n",
      "Processing record set 258 of 608 with the city named vardo\n",
      "Processing record set 259 of 608 with the city named victoria\n",
      "Processing record set 260 of 608 with the city named mustasaari\n",
      "Processing record set 261 of 608 with the city named almenara\n",
      "Processing record set 262 of 608 with the city named coquimbo\n",
      "Processing record set 263 of 608 with the city named talara\n",
      "Processing record set 264 of 608 with the city named cockburn town\n",
      "Processing record set 265 of 608 with the city named asyut\n",
      "Processing record set 266 of 608 with the city named zunheboto\n",
      "Processing record set 267 of 608 with the city named vieques\n",
      "Processing record set 268 of 608 with the city named the valley\n",
      "Processing record set 269 of 608 with the city named sobolevo\n",
      "Processing record set 270 of 608 with the city named chapais\n",
      "Processing record set 271 of 608 with the city named varhaug\n",
      "Processing record set 272 of 608 with the city named buala\n",
      "Processing record set 273 of 608 with the city named bolungarvik\n",
      "Error, city not found\n",
      "Processing record set 274 of 608 with the city named talnakh\n",
      "Processing record set 275 of 608 with the city named kristiansund\n",
      "Processing record set 276 of 608 with the city named tessalit\n",
      "Processing record set 277 of 608 with the city named ingham\n",
      "Processing record set 278 of 608 with the city named khokhlovo\n",
      "Processing record set 279 of 608 with the city named san pedro\n",
      "Processing record set 280 of 608 with the city named umzimvubu\n",
      "Error, city not found\n",
      "Processing record set 281 of 608 with the city named marzuq\n",
      "Processing record set 282 of 608 with the city named toora-khem\n",
      "Processing record set 283 of 608 with the city named erenhot\n",
      "Processing record set 284 of 608 with the city named gualaceo\n",
      "Processing record set 285 of 608 with the city named poum\n",
      "Processing record set 286 of 608 with the city named sola\n",
      "Processing record set 287 of 608 with the city named romny\n",
      "Processing record set 288 of 608 with the city named paracuru\n",
      "Processing record set 289 of 608 with the city named belushya guba\n",
      "Error, city not found\n",
      "Processing record set 290 of 608 with the city named sarishabari\n",
      "Processing record set 291 of 608 with the city named manitouwadge\n",
      "Processing record set 292 of 608 with the city named oyama\n",
      "Processing record set 293 of 608 with the city named ambon\n",
      "Processing record set 294 of 608 with the city named sahuaripa\n",
      "Processing record set 295 of 608 with the city named cubuk\n",
      "Processing record set 296 of 608 with the city named lata\n",
      "Processing record set 297 of 608 with the city named vila franca do campo\n",
      "Processing record set 298 of 608 with the city named avanigadda\n",
      "Processing record set 299 of 608 with the city named hamilton\n",
      "Processing record set 300 of 608 with the city named provideniya\n",
      "Processing record set 301 of 608 with the city named baiersbronn\n",
      "Processing record set 302 of 608 with the city named zhigansk\n",
      "Processing record set 303 of 608 with the city named avera\n",
      "Processing record set 304 of 608 with the city named ambilobe\n",
      "Processing record set 305 of 608 with the city named koslan\n",
      "Processing record set 306 of 608 with the city named pemangkat\n",
      "Processing record set 307 of 608 with the city named saint-philippe\n",
      "Processing record set 308 of 608 with the city named malanville\n",
      "Processing record set 309 of 608 with the city named sainte-maxime\n",
      "Processing record set 310 of 608 with the city named meridian\n",
      "Processing record set 311 of 608 with the city named ilhabela\n",
      "Processing record set 312 of 608 with the city named hirara\n",
      "Processing record set 313 of 608 with the city named cidreira\n",
      "Processing record set 314 of 608 with the city named praia da vitoria\n",
      "Processing record set 315 of 608 with the city named airai\n",
      "Processing record set 316 of 608 with the city named simao\n",
      "Processing record set 317 of 608 with the city named rio grande\n",
      "Processing record set 318 of 608 with the city named orlik\n",
      "Processing record set 319 of 608 with the city named klaksvik\n",
      "Processing record set 320 of 608 with the city named cabo san lucas\n",
      "Processing record set 321 of 608 with the city named kyabe\n",
      "Processing record set 322 of 608 with the city named tallahassee\n",
      "Processing record set 323 of 608 with the city named uruzgan\n",
      "Processing record set 324 of 608 with the city named evensk\n",
      "Processing record set 325 of 608 with the city named okhotsk\n",
      "Processing record set 326 of 608 with the city named srednekolymsk\n",
      "Processing record set 327 of 608 with the city named bintulu\n",
      "Processing record set 328 of 608 with the city named bosaso\n",
      "Processing record set 329 of 608 with the city named nanortalik\n",
      "Processing record set 330 of 608 with the city named donskoye\n",
      "Processing record set 331 of 608 with the city named banda aceh\n",
      "Processing record set 332 of 608 with the city named mongoumba\n",
      "Processing record set 333 of 608 with the city named ciudad bolivar\n",
      "Processing record set 334 of 608 with the city named port shepstone\n",
      "Processing record set 335 of 608 with the city named khonuu\n",
      "Error, city not found\n",
      "Processing record set 336 of 608 with the city named waingapu\n",
      "Processing record set 337 of 608 with the city named meyungs\n",
      "Error, city not found\n",
      "Processing record set 338 of 608 with the city named notre-dame-du-lac\n",
      "Processing record set 339 of 608 with the city named haines junction\n",
      "Processing record set 340 of 608 with the city named jumla\n",
      "Processing record set 341 of 608 with the city named sur\n",
      "Processing record set 342 of 608 with the city named oga\n",
      "Processing record set 343 of 608 with the city named henties bay\n",
      "Processing record set 344 of 608 with the city named amahai\n",
      "Processing record set 345 of 608 with the city named coihaique\n",
      "Processing record set 346 of 608 with the city named rybinsk\n",
      "Processing record set 347 of 608 with the city named sisimiut\n",
      "Processing record set 348 of 608 with the city named itarema\n",
      "Processing record set 349 of 608 with the city named yarmouth\n",
      "Processing record set 350 of 608 with the city named kerugoya\n",
      "Processing record set 351 of 608 with the city named petauke\n",
      "Processing record set 352 of 608 with the city named longyearbyen\n",
      "Processing record set 353 of 608 with the city named manyoni\n",
      "Processing record set 354 of 608 with the city named lardos\n",
      "Processing record set 355 of 608 with the city named karakendzha\n",
      "Error, city not found\n",
      "Processing record set 356 of 608 with the city named yegros\n",
      "Processing record set 357 of 608 with the city named riyadh\n",
      "Processing record set 358 of 608 with the city named kandrian\n",
      "Processing record set 359 of 608 with the city named yambio\n",
      "Processing record set 360 of 608 with the city named nikolskoye\n",
      "Processing record set 361 of 608 with the city named algeciras\n",
      "Processing record set 362 of 608 with the city named jaciara\n",
      "Processing record set 363 of 608 with the city named tilichiki\n",
      "Processing record set 364 of 608 with the city named antsohihy\n",
      "Processing record set 365 of 608 with the city named qandala\n",
      "Processing record set 366 of 608 with the city named taoudenni\n",
      "Processing record set 367 of 608 with the city named vostok\n",
      "Processing record set 368 of 608 with the city named gariaband\n",
      "Processing record set 369 of 608 with the city named feodosiya\n",
      "Processing record set 370 of 608 with the city named severo-kurilsk\n",
      "Processing record set 371 of 608 with the city named esperance\n",
      "Processing record set 372 of 608 with the city named jhalrapatan\n",
      "Processing record set 373 of 608 with the city named naryan-mar\n",
      "Processing record set 374 of 608 with the city named hanko\n",
      "Processing record set 375 of 608 with the city named mikkeli\n",
      "Processing record set 376 of 608 with the city named forest lake\n",
      "Processing record set 377 of 608 with the city named barrow\n",
      "Processing record set 378 of 608 with the city named dicabisagan\n",
      "Processing record set 379 of 608 with the city named mount isa\n",
      "Processing record set 380 of 608 with the city named shingu\n",
      "Processing record set 381 of 608 with the city named plettenberg bay\n",
      "Processing record set 382 of 608 with the city named imeni poliny osipenko\n",
      "Processing record set 383 of 608 with the city named augusta\n",
      "Processing record set 384 of 608 with the city named oranjestad\n",
      "Processing record set 385 of 608 with the city named jalu\n",
      "Processing record set 386 of 608 with the city named anloga\n",
      "Processing record set 387 of 608 with the city named gat\n",
      "Processing record set 388 of 608 with the city named muzhi\n",
      "Processing record set 389 of 608 with the city named bozuyuk\n",
      "Processing record set 390 of 608 with the city named mogocha\n",
      "Processing record set 391 of 608 with the city named dukat\n",
      "Processing record set 392 of 608 with the city named yar-sale\n",
      "Processing record set 393 of 608 with the city named letnyaya stavka\n",
      "Processing record set 394 of 608 with the city named shanghai\n",
      "Processing record set 395 of 608 with the city named cayenne\n",
      "Processing record set 396 of 608 with the city named birao\n",
      "Processing record set 397 of 608 with the city named solsvik\n",
      "Error, city not found\n",
      "Processing record set 398 of 608 with the city named zomin\n",
      "Processing record set 399 of 608 with the city named miandrivazo\n",
      "Processing record set 400 of 608 with the city named faanui\n",
      "Processing record set 401 of 608 with the city named luderitz\n",
      "Processing record set 402 of 608 with the city named pevek\n",
      "Processing record set 403 of 608 with the city named rocha\n",
      "Processing record set 404 of 608 with the city named wabana\n",
      "Processing record set 405 of 608 with the city named belmonte\n",
      "Processing record set 406 of 608 with the city named kashi\n",
      "Processing record set 407 of 608 with the city named norman wells\n",
      "Processing record set 408 of 608 with the city named krasnogorskoye\n",
      "Processing record set 409 of 608 with the city named honiara\n",
      "Processing record set 410 of 608 with the city named ayagoz\n",
      "Processing record set 411 of 608 with the city named chara\n",
      "Processing record set 412 of 608 with the city named korla\n",
      "Processing record set 413 of 608 with the city named port augusta\n",
      "Processing record set 414 of 608 with the city named puerto quijarro\n",
      "Processing record set 415 of 608 with the city named opuwo\n",
      "Processing record set 416 of 608 with the city named salalah\n",
      "Processing record set 417 of 608 with the city named petropavlovsk-kamchatskiy\n",
      "Processing record set 418 of 608 with the city named menongue\n",
      "Processing record set 419 of 608 with the city named grants\n",
      "Processing record set 420 of 608 with the city named meulaboh\n",
      "Processing record set 421 of 608 with the city named monrovia\n",
      "Processing record set 422 of 608 with the city named kaeo\n",
      "Processing record set 423 of 608 with the city named svidnik\n",
      "Processing record set 424 of 608 with the city named frunze\n",
      "Processing record set 425 of 608 with the city named andevoranto\n",
      "Error, city not found\n",
      "Processing record set 426 of 608 with the city named babu\n",
      "Processing record set 427 of 608 with the city named mantsala\n",
      "Processing record set 428 of 608 with the city named coahuayana\n",
      "Processing record set 429 of 608 with the city named tigil\n",
      "Processing record set 430 of 608 with the city named tual\n",
      "Processing record set 431 of 608 with the city named mitsamiouli\n",
      "Processing record set 432 of 608 with the city named leningradskiy\n",
      "Processing record set 433 of 608 with the city named hokitika\n",
      "Processing record set 434 of 608 with the city named pacific grove\n",
      "Processing record set 435 of 608 with the city named hauknes\n",
      "Processing record set 436 of 608 with the city named olinda\n",
      "Processing record set 437 of 608 with the city named phangnga\n",
      "Processing record set 438 of 608 with the city named rungata\n",
      "Error, city not found\n",
      "Processing record set 439 of 608 with the city named wuda\n",
      "Processing record set 440 of 608 with the city named makubetsu\n",
      "Processing record set 441 of 608 with the city named namatanai\n",
      "Processing record set 442 of 608 with the city named jian\n",
      "Processing record set 443 of 608 with the city named natal\n",
      "Processing record set 444 of 608 with the city named sande\n",
      "Processing record set 445 of 608 with the city named mezen\n",
      "Processing record set 446 of 608 with the city named manadhoo\n",
      "Processing record set 447 of 608 with the city named barawe\n",
      "Error, city not found\n",
      "Processing record set 448 of 608 with the city named kieta\n",
      "Processing record set 449 of 608 with the city named kayes\n",
      "Processing record set 450 of 608 with the city named chiknayakanhalli\n",
      "Processing record set 451 of 608 with the city named lunino\n",
      "Processing record set 452 of 608 with the city named christchurch\n",
      "Processing record set 453 of 608 with the city named ikskile\n",
      "Processing record set 454 of 608 with the city named kavaratti\n",
      "Processing record set 455 of 608 with the city named lure\n",
      "Processing record set 456 of 608 with the city named ust-maya\n",
      "Processing record set 457 of 608 with the city named acapulco\n",
      "Processing record set 458 of 608 with the city named marsh harbour\n",
      "Processing record set 459 of 608 with the city named rorvik\n",
      "Processing record set 460 of 608 with the city named santa fe\n",
      "Processing record set 461 of 608 with the city named ambodifototra\n",
      "Error, city not found\n",
      "Processing record set 462 of 608 with the city named mahenge\n",
      "Processing record set 463 of 608 with the city named pochutla\n",
      "Processing record set 464 of 608 with the city named kalmunai\n",
      "Processing record set 465 of 608 with the city named clarksville\n",
      "Processing record set 466 of 608 with the city named sambava\n",
      "Processing record set 467 of 608 with the city named magaria\n",
      "Processing record set 468 of 608 with the city named maniitsoq\n",
      "Processing record set 469 of 608 with the city named puerto narino\n",
      "Processing record set 470 of 608 with the city named barra velha\n",
      "Processing record set 471 of 608 with the city named eyrarbakki\n",
      "Processing record set 472 of 608 with the city named bom jesus\n",
      "Processing record set 473 of 608 with the city named lahad datu\n",
      "Processing record set 474 of 608 with the city named port blair\n",
      "Processing record set 475 of 608 with the city named ulyanovo\n",
      "Error, city not found\n",
      "Processing record set 476 of 608 with the city named praxedis guerrero\n",
      "Processing record set 477 of 608 with the city named alta floresta\n",
      "Processing record set 478 of 608 with the city named magistralnyy\n",
      "Processing record set 479 of 608 with the city named porbandar\n",
      "Processing record set 480 of 608 with the city named goure\n",
      "Processing record set 481 of 608 with the city named edgewater\n",
      "Processing record set 482 of 608 with the city named shahreza\n",
      "Processing record set 483 of 608 with the city named umm lajj\n",
      "Processing record set 484 of 608 with the city named coffeyville\n",
      "Processing record set 485 of 608 with the city named leshukonskoye\n",
      "Processing record set 486 of 608 with the city named teahupoo\n",
      "Processing record set 487 of 608 with the city named vestmannaeyjar\n",
      "Processing record set 488 of 608 with the city named tingo maria\n",
      "Processing record set 489 of 608 with the city named nyuzen\n",
      "Processing record set 490 of 608 with the city named shumyachi\n",
      "Processing record set 491 of 608 with the city named sinkat\n",
      "Error, city not found\n",
      "Processing record set 492 of 608 with the city named cabedelo\n",
      "Processing record set 493 of 608 with the city named terney\n",
      "Processing record set 494 of 608 with the city named segovia\n",
      "Processing record set 495 of 608 with the city named ca mau\n",
      "Processing record set 496 of 608 with the city named chagda\n",
      "Error, city not found\n",
      "Processing record set 497 of 608 with the city named saldanha\n",
      "Processing record set 498 of 608 with the city named gap\n",
      "Processing record set 499 of 608 with the city named churapcha\n",
      "Processing record set 500 of 608 with the city named pacifica\n",
      "Processing record set 501 of 608 with the city named kuytun\n",
      "Processing record set 502 of 608 with the city named thio\n",
      "Processing record set 503 of 608 with the city named kapuskasing\n",
      "Processing record set 504 of 608 with the city named algiers\n",
      "Processing record set 505 of 608 with the city named sakakah\n",
      "Processing record set 506 of 608 with the city named wajima\n",
      "Processing record set 507 of 608 with the city named jinka\n",
      "Processing record set 508 of 608 with the city named arica\n",
      "Processing record set 509 of 608 with the city named mbandaka\n",
      "Processing record set 510 of 608 with the city named sangar\n",
      "Processing record set 511 of 608 with the city named diamantino\n",
      "Processing record set 512 of 608 with the city named panjwin\n",
      "Error, city not found\n",
      "Processing record set 513 of 608 with the city named aksu\n",
      "Processing record set 514 of 608 with the city named agadir\n",
      "Processing record set 515 of 608 with the city named vanavara\n",
      "Processing record set 516 of 608 with the city named kintinku\n",
      "Processing record set 517 of 608 with the city named melfi\n",
      "Processing record set 518 of 608 with the city named kaihua\n",
      "Processing record set 519 of 608 with the city named saint-augustin\n",
      "Processing record set 520 of 608 with the city named robinson\n",
      "Processing record set 521 of 608 with the city named marystown\n",
      "Processing record set 522 of 608 with the city named cururupu\n",
      "Processing record set 523 of 608 with the city named baykit\n",
      "Processing record set 524 of 608 with the city named cap malheureux\n",
      "Processing record set 525 of 608 with the city named tshane\n",
      "Processing record set 526 of 608 with the city named bhadrachalam\n",
      "Processing record set 527 of 608 with the city named viedma\n",
      "Processing record set 528 of 608 with the city named ios\n",
      "Processing record set 529 of 608 with the city named morris\n",
      "Processing record set 530 of 608 with the city named paragominas\n",
      "Processing record set 531 of 608 with the city named pisco\n",
      "Processing record set 532 of 608 with the city named deputatskiy\n",
      "Processing record set 533 of 608 with the city named nador\n",
      "Processing record set 534 of 608 with the city named bagdarin\n",
      "Processing record set 535 of 608 with the city named cairo\n",
      "Processing record set 536 of 608 with the city named santiago de cao\n",
      "Processing record set 537 of 608 with the city named ust-ilimsk\n",
      "Processing record set 538 of 608 with the city named dali\n",
      "Processing record set 539 of 608 with the city named quatre cocos\n",
      "Processing record set 540 of 608 with the city named maceio\n",
      "Processing record set 541 of 608 with the city named semporna\n",
      "Processing record set 542 of 608 with the city named torbay\n",
      "Processing record set 543 of 608 with the city named alexandria\n",
      "Processing record set 544 of 608 with the city named slave lake\n",
      "Processing record set 545 of 608 with the city named misratah\n",
      "Processing record set 546 of 608 with the city named bouna\n",
      "Processing record set 547 of 608 with the city named nome\n",
      "Processing record set 548 of 608 with the city named shangrao\n",
      "Processing record set 549 of 608 with the city named dezhou\n",
      "Processing record set 550 of 608 with the city named atmakur\n",
      "Processing record set 551 of 608 with the city named lalganj\n",
      "Processing record set 552 of 608 with the city named juneau\n",
      "Processing record set 553 of 608 with the city named viligili\n",
      "Error, city not found\n",
      "Processing record set 554 of 608 with the city named broome\n",
      "Processing record set 555 of 608 with the city named ormond beach\n",
      "Processing record set 556 of 608 with the city named gerash\n",
      "Processing record set 557 of 608 with the city named banepa\n",
      "Processing record set 558 of 608 with the city named puerto madryn\n",
      "Processing record set 559 of 608 with the city named college\n",
      "Processing record set 560 of 608 with the city named san isidro\n",
      "Processing record set 561 of 608 with the city named ofaqim\n",
      "Processing record set 562 of 608 with the city named dryden\n",
      "Processing record set 563 of 608 with the city named owando\n",
      "Processing record set 564 of 608 with the city named luganville\n",
      "Processing record set 565 of 608 with the city named bafoulabe\n",
      "Processing record set 566 of 608 with the city named dunedin\n",
      "Processing record set 567 of 608 with the city named beboto\n",
      "Processing record set 568 of 608 with the city named carthage\n",
      "Processing record set 569 of 608 with the city named baijiantan\n",
      "Processing record set 570 of 608 with the city named vila\n",
      "Processing record set 571 of 608 with the city named portales\n",
      "Processing record set 572 of 608 with the city named taltal\n",
      "Processing record set 573 of 608 with the city named cadillac\n",
      "Processing record set 574 of 608 with the city named bilibino\n",
      "Processing record set 575 of 608 with the city named dillon\n",
      "Processing record set 576 of 608 with the city named willmar\n",
      "Processing record set 577 of 608 with the city named sao jose da coroa grande\n",
      "Processing record set 578 of 608 with the city named chifeng\n",
      "Processing record set 579 of 608 with the city named kirkwall\n",
      "Processing record set 580 of 608 with the city named brasilia de minas\n",
      "Processing record set 581 of 608 with the city named isla vista\n",
      "Processing record set 582 of 608 with the city named mayumba\n",
      "Processing record set 583 of 608 with the city named devils lake\n",
      "Processing record set 584 of 608 with the city named awjilah\n",
      "Processing record set 585 of 608 with the city named dombarovskiy\n",
      "Processing record set 586 of 608 with the city named kolomna\n",
      "Processing record set 587 of 608 with the city named darnah\n",
      "Processing record set 588 of 608 with the city named subate\n",
      "Processing record set 589 of 608 with the city named oytal\n",
      "Processing record set 590 of 608 with the city named urdzhar\n",
      "Error, city not found\n",
      "Processing record set 591 of 608 with the city named asau\n",
      "Processing record set 592 of 608 with the city named pathein\n",
      "Processing record set 593 of 608 with the city named straoane\n",
      "Processing record set 594 of 608 with the city named merauke\n",
      "Processing record set 595 of 608 with the city named lalomanu\n",
      "Error, city not found\n",
      "Processing record set 596 of 608 with the city named vanimo\n",
      "Processing record set 597 of 608 with the city named pionerskiy\n",
      "Processing record set 598 of 608 with the city named kamenskoye\n",
      "Error, city not found\n",
      "Processing record set 599 of 608 with the city named ngukurr\n",
      "Error, city not found\n",
      "Processing record set 600 of 608 with the city named thinadhoo\n",
      "Processing record set 601 of 608 with the city named inuvik\n",
      "Processing record set 602 of 608 with the city named belaya gora\n",
      "Processing record set 603 of 608 with the city named alofi\n",
      "Processing record set 604 of 608 with the city named souillac\n",
      "Processing record set 605 of 608 with the city named bonanza\n",
      "Processing record set 606 of 608 with the city named luau\n",
      "Processing record set 607 of 608 with the city named isabela\n",
      "Processing record set 608 of 608 with the city named batticaloa\n"
     ]
    }
   ],
   "source": [
    "print(\"Beginning Data Retrieval\")\r\n",
    "print(\"-----------------------------\")\r\n",
    "city_counter = 0\r\n",
    "city_stat = []\r\n",
    "for locations in cities:\r\n",
    "    city_counter += 1\r\n",
    "    city_url = url + \"&q=\" + locations \r\n",
    "    print(\"Processing record set\", city_counter, \"of\", len(cities), \"with the city named\", locations,)\r\n",
    "    \r\n",
    "    try:\r\n",
    "        city_weather = requests.get(city_url).json()\r\n",
    "        \r\n",
    "        city_lat = city_weather[\"coord\"][\"lat\"]\r\n",
    "        city_lng = city_weather[\"coord\"][\"lon\"]\r\n",
    "        city_max_temp = city_weather[\"main\"][\"temp_max\"]\r\n",
    "        city_humidity = city_weather[\"main\"][\"humidity\"]\r\n",
    "        city_clouds = city_weather[\"clouds\"][\"all\"]\r\n",
    "        city_wind = city_weather[\"wind\"][\"speed\"]\r\n",
    "        city_country = city_weather[\"sys\"][\"country\"]\r\n",
    "        city_date = city_weather[\"dt\"]\r\n",
    "        \r\n",
    "        city_stat.append({\"City\":locations, \"Latitude\": city_lat, \"Longitude\": city_lng, \r\n",
    "                          \"Max Temperature\": city_max_temp, \"Humidity\": city_humidity, \r\n",
    "                         \"Clouds\": city_clouds, \"Wind\": city_wind, \"Country\": city_country,\r\n",
    "                         \"Date\": city_date})\r\n",
    "    except:\r\n",
    "        print(\"Error, city not found\")\r\n",
    "        pass\r\n"
   ]
  },
  {
   "cell_type": "markdown",
   "metadata": {},
   "source": [
    "### Convert Raw Data to DataFrame\n",
    "* Export the city data into a .csv.\n",
    "* Display the DataFrame"
   ]
  },
  {
   "cell_type": "code",
   "execution_count": 6,
   "metadata": {},
   "outputs": [
    {
     "data": {
      "text/html": [
       "<div>\n",
       "<style scoped>\n",
       "    .dataframe tbody tr th:only-of-type {\n",
       "        vertical-align: middle;\n",
       "    }\n",
       "\n",
       "    .dataframe tbody tr th {\n",
       "        vertical-align: top;\n",
       "    }\n",
       "\n",
       "    .dataframe thead th {\n",
       "        text-align: right;\n",
       "    }\n",
       "</style>\n",
       "<table border=\"1\" class=\"dataframe\">\n",
       "  <thead>\n",
       "    <tr style=\"text-align: right;\">\n",
       "      <th></th>\n",
       "      <th>City</th>\n",
       "      <th>Latitude</th>\n",
       "      <th>Longitude</th>\n",
       "      <th>Max Temperature</th>\n",
       "      <th>Humidity</th>\n",
       "      <th>Clouds</th>\n",
       "      <th>Wind</th>\n",
       "      <th>Country</th>\n",
       "      <th>Date</th>\n",
       "    </tr>\n",
       "  </thead>\n",
       "  <tbody>\n",
       "    <tr>\n",
       "      <th>0</th>\n",
       "      <td>san patricio</td>\n",
       "      <td>28.0170</td>\n",
       "      <td>-97.5169</td>\n",
       "      <td>92.12</td>\n",
       "      <td>60</td>\n",
       "      <td>16</td>\n",
       "      <td>17.65</td>\n",
       "      <td>US</td>\n",
       "      <td>1624662003</td>\n",
       "    </tr>\n",
       "    <tr>\n",
       "      <th>1</th>\n",
       "      <td>katsuura</td>\n",
       "      <td>35.1333</td>\n",
       "      <td>140.3000</td>\n",
       "      <td>79.23</td>\n",
       "      <td>77</td>\n",
       "      <td>82</td>\n",
       "      <td>6.96</td>\n",
       "      <td>JP</td>\n",
       "      <td>1624662004</td>\n",
       "    </tr>\n",
       "    <tr>\n",
       "      <th>2</th>\n",
       "      <td>hobyo</td>\n",
       "      <td>5.3505</td>\n",
       "      <td>48.5268</td>\n",
       "      <td>77.27</td>\n",
       "      <td>84</td>\n",
       "      <td>97</td>\n",
       "      <td>25.46</td>\n",
       "      <td>SO</td>\n",
       "      <td>1624662004</td>\n",
       "    </tr>\n",
       "    <tr>\n",
       "      <th>3</th>\n",
       "      <td>linjiang</td>\n",
       "      <td>41.8069</td>\n",
       "      <td>126.9078</td>\n",
       "      <td>69.89</td>\n",
       "      <td>72</td>\n",
       "      <td>97</td>\n",
       "      <td>2.35</td>\n",
       "      <td>CN</td>\n",
       "      <td>1624662004</td>\n",
       "    </tr>\n",
       "    <tr>\n",
       "      <th>4</th>\n",
       "      <td>rikitea</td>\n",
       "      <td>-23.1203</td>\n",
       "      <td>-134.9692</td>\n",
       "      <td>74.26</td>\n",
       "      <td>74</td>\n",
       "      <td>11</td>\n",
       "      <td>3.53</td>\n",
       "      <td>PF</td>\n",
       "      <td>1624662005</td>\n",
       "    </tr>\n",
       "    <tr>\n",
       "      <th>...</th>\n",
       "      <td>...</td>\n",
       "      <td>...</td>\n",
       "      <td>...</td>\n",
       "      <td>...</td>\n",
       "      <td>...</td>\n",
       "      <td>...</td>\n",
       "      <td>...</td>\n",
       "      <td>...</td>\n",
       "      <td>...</td>\n",
       "    </tr>\n",
       "    <tr>\n",
       "      <th>552</th>\n",
       "      <td>souillac</td>\n",
       "      <td>-20.5167</td>\n",
       "      <td>57.5167</td>\n",
       "      <td>67.35</td>\n",
       "      <td>82</td>\n",
       "      <td>75</td>\n",
       "      <td>11.43</td>\n",
       "      <td>MU</td>\n",
       "      <td>1624662214</td>\n",
       "    </tr>\n",
       "    <tr>\n",
       "      <th>553</th>\n",
       "      <td>bonanza</td>\n",
       "      <td>14.0289</td>\n",
       "      <td>-84.5910</td>\n",
       "      <td>77.49</td>\n",
       "      <td>84</td>\n",
       "      <td>95</td>\n",
       "      <td>1.90</td>\n",
       "      <td>NI</td>\n",
       "      <td>1624662214</td>\n",
       "    </tr>\n",
       "    <tr>\n",
       "      <th>554</th>\n",
       "      <td>luau</td>\n",
       "      <td>-10.7073</td>\n",
       "      <td>22.2247</td>\n",
       "      <td>61.50</td>\n",
       "      <td>49</td>\n",
       "      <td>8</td>\n",
       "      <td>4.92</td>\n",
       "      <td>AO</td>\n",
       "      <td>1624662214</td>\n",
       "    </tr>\n",
       "    <tr>\n",
       "      <th>555</th>\n",
       "      <td>isabela</td>\n",
       "      <td>6.7085</td>\n",
       "      <td>121.9711</td>\n",
       "      <td>79.52</td>\n",
       "      <td>82</td>\n",
       "      <td>94</td>\n",
       "      <td>3.80</td>\n",
       "      <td>PH</td>\n",
       "      <td>1624662215</td>\n",
       "    </tr>\n",
       "    <tr>\n",
       "      <th>556</th>\n",
       "      <td>batticaloa</td>\n",
       "      <td>7.7102</td>\n",
       "      <td>81.6924</td>\n",
       "      <td>79.18</td>\n",
       "      <td>74</td>\n",
       "      <td>41</td>\n",
       "      <td>7.31</td>\n",
       "      <td>LK</td>\n",
       "      <td>1624662215</td>\n",
       "    </tr>\n",
       "  </tbody>\n",
       "</table>\n",
       "<p>557 rows × 9 columns</p>\n",
       "</div>"
      ],
      "text/plain": [
       "             City  Latitude  Longitude  Max Temperature  Humidity  Clouds  \\\n",
       "0    san patricio   28.0170   -97.5169            92.12        60      16   \n",
       "1        katsuura   35.1333   140.3000            79.23        77      82   \n",
       "2           hobyo    5.3505    48.5268            77.27        84      97   \n",
       "3        linjiang   41.8069   126.9078            69.89        72      97   \n",
       "4         rikitea  -23.1203  -134.9692            74.26        74      11   \n",
       "..            ...       ...        ...              ...       ...     ...   \n",
       "552      souillac  -20.5167    57.5167            67.35        82      75   \n",
       "553       bonanza   14.0289   -84.5910            77.49        84      95   \n",
       "554          luau  -10.7073    22.2247            61.50        49       8   \n",
       "555       isabela    6.7085   121.9711            79.52        82      94   \n",
       "556    batticaloa    7.7102    81.6924            79.18        74      41   \n",
       "\n",
       "      Wind Country        Date  \n",
       "0    17.65      US  1624662003  \n",
       "1     6.96      JP  1624662004  \n",
       "2    25.46      SO  1624662004  \n",
       "3     2.35      CN  1624662004  \n",
       "4     3.53      PF  1624662005  \n",
       "..     ...     ...         ...  \n",
       "552  11.43      MU  1624662214  \n",
       "553   1.90      NI  1624662214  \n",
       "554   4.92      AO  1624662214  \n",
       "555   3.80      PH  1624662215  \n",
       "556   7.31      LK  1624662215  \n",
       "\n",
       "[557 rows x 9 columns]"
      ]
     },
     "execution_count": 6,
     "metadata": {},
     "output_type": "execute_result"
    }
   ],
   "source": [
    "city_stat\r\n",
    "city_stat_pd = pd.DataFrame(city_stat)\r\n",
    "city_stat_pd\r\n"
   ]
  },
  {
   "cell_type": "code",
   "execution_count": 7,
   "metadata": {},
   "outputs": [
    {
     "data": {
      "text/plain": [
       "City               557\n",
       "Latitude           557\n",
       "Longitude          557\n",
       "Max Temperature    557\n",
       "Humidity           557\n",
       "Clouds             557\n",
       "Wind               557\n",
       "Country            557\n",
       "Date               557\n",
       "dtype: int64"
      ]
     },
     "execution_count": 7,
     "metadata": {},
     "output_type": "execute_result"
    }
   ],
   "source": [
    "\r\n",
    "# weather_df = pd.DataFrame({\r\n",
    "#     \"City\":len(location_name),\r\n",
    "#     \"Country\":len(location_country),\r\n",
    "#     \"Date\":len(date),\r\n",
    "#     \"Latitude\":len(latitude),\r\n",
    "#     \"Longitude\":len(longitude),\r\n",
    "#     \"Max Temp(f)\":len([city_max_temp]),\r\n",
    "#     \"Humidity\":len([city_humidity]),\r\n",
    "#     \"Wind Speed\":len([city_wind]),\r\n",
    "#     \"Cloudiness\":len([city_clouds]),\r\n",
    "# weather_df\r\n",
    "\r\n",
    "        \r\n",
    "       # city_lat = city_weather[\"coord\"][\"lat\"]\r\n",
    "       # city_lng = city_weather[\"coord\"][\"lon\"]\r\n",
    "       # city_max_temp = city_weather[\"main\"][\"temp_max\"]\r\n",
    "       # city_humidity = city_weather[\"main\"][\"humidity\"]\r\n",
    "        #city_clouds = city_weather[\"clouds\"][\"all\"]\r\n",
    "        #city_wind = city_weather[\"wind\"][\"speed\"]\r\n",
    "        #city_country = city_weather[\"sys\"][\"country\"]\r\n",
    "        #city_date = city_weather[\"dt\"]\r\n",
    "city_stat_pd = pd.DataFrame(city_stat)\r\n",
    "city_stat_pd.count()\r\n",
    "\r\n",
    "    "
   ]
  },
  {
   "cell_type": "code",
   "execution_count": 8,
   "metadata": {},
   "outputs": [
    {
     "data": {
      "text/html": [
       "<div>\n",
       "<style scoped>\n",
       "    .dataframe tbody tr th:only-of-type {\n",
       "        vertical-align: middle;\n",
       "    }\n",
       "\n",
       "    .dataframe tbody tr th {\n",
       "        vertical-align: top;\n",
       "    }\n",
       "\n",
       "    .dataframe thead th {\n",
       "        text-align: right;\n",
       "    }\n",
       "</style>\n",
       "<table border=\"1\" class=\"dataframe\">\n",
       "  <thead>\n",
       "    <tr style=\"text-align: right;\">\n",
       "      <th></th>\n",
       "      <th>City</th>\n",
       "      <th>Latitude</th>\n",
       "      <th>Longitude</th>\n",
       "      <th>Max Temperature</th>\n",
       "      <th>Humidity</th>\n",
       "      <th>Clouds</th>\n",
       "      <th>Wind</th>\n",
       "      <th>Country</th>\n",
       "      <th>Date</th>\n",
       "    </tr>\n",
       "  </thead>\n",
       "  <tbody>\n",
       "    <tr>\n",
       "      <th>0</th>\n",
       "      <td>san patricio</td>\n",
       "      <td>28.0170</td>\n",
       "      <td>-97.5169</td>\n",
       "      <td>92.12</td>\n",
       "      <td>60</td>\n",
       "      <td>16</td>\n",
       "      <td>17.65</td>\n",
       "      <td>US</td>\n",
       "      <td>1624662003</td>\n",
       "    </tr>\n",
       "    <tr>\n",
       "      <th>1</th>\n",
       "      <td>katsuura</td>\n",
       "      <td>35.1333</td>\n",
       "      <td>140.3000</td>\n",
       "      <td>79.23</td>\n",
       "      <td>77</td>\n",
       "      <td>82</td>\n",
       "      <td>6.96</td>\n",
       "      <td>JP</td>\n",
       "      <td>1624662004</td>\n",
       "    </tr>\n",
       "    <tr>\n",
       "      <th>2</th>\n",
       "      <td>hobyo</td>\n",
       "      <td>5.3505</td>\n",
       "      <td>48.5268</td>\n",
       "      <td>77.27</td>\n",
       "      <td>84</td>\n",
       "      <td>97</td>\n",
       "      <td>25.46</td>\n",
       "      <td>SO</td>\n",
       "      <td>1624662004</td>\n",
       "    </tr>\n",
       "    <tr>\n",
       "      <th>3</th>\n",
       "      <td>linjiang</td>\n",
       "      <td>41.8069</td>\n",
       "      <td>126.9078</td>\n",
       "      <td>69.89</td>\n",
       "      <td>72</td>\n",
       "      <td>97</td>\n",
       "      <td>2.35</td>\n",
       "      <td>CN</td>\n",
       "      <td>1624662004</td>\n",
       "    </tr>\n",
       "    <tr>\n",
       "      <th>4</th>\n",
       "      <td>rikitea</td>\n",
       "      <td>-23.1203</td>\n",
       "      <td>-134.9692</td>\n",
       "      <td>74.26</td>\n",
       "      <td>74</td>\n",
       "      <td>11</td>\n",
       "      <td>3.53</td>\n",
       "      <td>PF</td>\n",
       "      <td>1624662005</td>\n",
       "    </tr>\n",
       "  </tbody>\n",
       "</table>\n",
       "</div>"
      ],
      "text/plain": [
       "           City  Latitude  Longitude  Max Temperature  Humidity  Clouds  \\\n",
       "0  san patricio   28.0170   -97.5169            92.12        60      16   \n",
       "1      katsuura   35.1333   140.3000            79.23        77      82   \n",
       "2         hobyo    5.3505    48.5268            77.27        84      97   \n",
       "3      linjiang   41.8069   126.9078            69.89        72      97   \n",
       "4       rikitea  -23.1203  -134.9692            74.26        74      11   \n",
       "\n",
       "    Wind Country        Date  \n",
       "0  17.65      US  1624662003  \n",
       "1   6.96      JP  1624662004  \n",
       "2  25.46      SO  1624662004  \n",
       "3   2.35      CN  1624662004  \n",
       "4   3.53      PF  1624662005  "
      ]
     },
     "execution_count": 8,
     "metadata": {},
     "output_type": "execute_result"
    }
   ],
   "source": [
    "city_stat_pd.to_csv(output_data_file)\r\n",
    "city_stat_pd.head()"
   ]
  },
  {
   "cell_type": "code",
   "execution_count": 9,
   "metadata": {},
   "outputs": [
    {
     "data": {
      "text/html": [
       "<div>\n",
       "<style scoped>\n",
       "    .dataframe tbody tr th:only-of-type {\n",
       "        vertical-align: middle;\n",
       "    }\n",
       "\n",
       "    .dataframe tbody tr th {\n",
       "        vertical-align: top;\n",
       "    }\n",
       "\n",
       "    .dataframe thead th {\n",
       "        text-align: right;\n",
       "    }\n",
       "</style>\n",
       "<table border=\"1\" class=\"dataframe\">\n",
       "  <thead>\n",
       "    <tr style=\"text-align: right;\">\n",
       "      <th></th>\n",
       "      <th>Latitude</th>\n",
       "      <th>Max Temperature</th>\n",
       "    </tr>\n",
       "  </thead>\n",
       "  <tbody>\n",
       "    <tr>\n",
       "      <th>0</th>\n",
       "      <td>28.0170</td>\n",
       "      <td>92.12</td>\n",
       "    </tr>\n",
       "    <tr>\n",
       "      <th>1</th>\n",
       "      <td>35.1333</td>\n",
       "      <td>79.23</td>\n",
       "    </tr>\n",
       "    <tr>\n",
       "      <th>2</th>\n",
       "      <td>5.3505</td>\n",
       "      <td>77.27</td>\n",
       "    </tr>\n",
       "    <tr>\n",
       "      <th>3</th>\n",
       "      <td>41.8069</td>\n",
       "      <td>69.89</td>\n",
       "    </tr>\n",
       "    <tr>\n",
       "      <th>4</th>\n",
       "      <td>-23.1203</td>\n",
       "      <td>74.26</td>\n",
       "    </tr>\n",
       "  </tbody>\n",
       "</table>\n",
       "</div>"
      ],
      "text/plain": [
       "   Latitude  Max Temperature\n",
       "0   28.0170            92.12\n",
       "1   35.1333            79.23\n",
       "2    5.3505            77.27\n",
       "3   41.8069            69.89\n",
       "4  -23.1203            74.26"
      ]
     },
     "execution_count": 9,
     "metadata": {},
     "output_type": "execute_result"
    }
   ],
   "source": [
    "#working on it,\r\n",
    "lat_vs_temp = city_stat_pd.groupby(city_stat)[['Latitude','Max Temperature']]\r\n",
    "lat_vs_temp.head()"
   ]
  },
  {
   "cell_type": "code",
   "execution_count": 11,
   "metadata": {},
   "outputs": [
    {
     "data": {
      "text/html": [
       "<div>\n",
       "<style scoped>\n",
       "    .dataframe tbody tr th:only-of-type {\n",
       "        vertical-align: middle;\n",
       "    }\n",
       "\n",
       "    .dataframe tbody tr th {\n",
       "        vertical-align: top;\n",
       "    }\n",
       "\n",
       "    .dataframe thead th {\n",
       "        text-align: right;\n",
       "    }\n",
       "</style>\n",
       "<table border=\"1\" class=\"dataframe\">\n",
       "  <thead>\n",
       "    <tr style=\"text-align: right;\">\n",
       "      <th></th>\n",
       "      <th>Latitude</th>\n",
       "      <th>Humidity</th>\n",
       "    </tr>\n",
       "  </thead>\n",
       "  <tbody>\n",
       "    <tr>\n",
       "      <th>0</th>\n",
       "      <td>28.0170</td>\n",
       "      <td>60</td>\n",
       "    </tr>\n",
       "    <tr>\n",
       "      <th>1</th>\n",
       "      <td>35.1333</td>\n",
       "      <td>77</td>\n",
       "    </tr>\n",
       "    <tr>\n",
       "      <th>2</th>\n",
       "      <td>5.3505</td>\n",
       "      <td>84</td>\n",
       "    </tr>\n",
       "    <tr>\n",
       "      <th>3</th>\n",
       "      <td>41.8069</td>\n",
       "      <td>72</td>\n",
       "    </tr>\n",
       "    <tr>\n",
       "      <th>4</th>\n",
       "      <td>-23.1203</td>\n",
       "      <td>74</td>\n",
       "    </tr>\n",
       "  </tbody>\n",
       "</table>\n",
       "</div>"
      ],
      "text/plain": [
       "   Latitude  Humidity\n",
       "0   28.0170        60\n",
       "1   35.1333        77\n",
       "2    5.3505        84\n",
       "3   41.8069        72\n",
       "4  -23.1203        74"
      ]
     },
     "execution_count": 11,
     "metadata": {},
     "output_type": "execute_result"
    }
   ],
   "source": [
    "#working on it,\r\n",
    "lat_vs_humid = city_stat_pd.groupby(city_stat)[['Latitude','Humidity']]\r\n",
    "lat_vs_humid.head()"
   ]
  },
  {
   "cell_type": "code",
   "execution_count": 13,
   "metadata": {},
   "outputs": [
    {
     "data": {
      "text/html": [
       "<div>\n",
       "<style scoped>\n",
       "    .dataframe tbody tr th:only-of-type {\n",
       "        vertical-align: middle;\n",
       "    }\n",
       "\n",
       "    .dataframe tbody tr th {\n",
       "        vertical-align: top;\n",
       "    }\n",
       "\n",
       "    .dataframe thead th {\n",
       "        text-align: right;\n",
       "    }\n",
       "</style>\n",
       "<table border=\"1\" class=\"dataframe\">\n",
       "  <thead>\n",
       "    <tr style=\"text-align: right;\">\n",
       "      <th></th>\n",
       "      <th>Latitude</th>\n",
       "      <th>Clouds</th>\n",
       "    </tr>\n",
       "  </thead>\n",
       "  <tbody>\n",
       "    <tr>\n",
       "      <th>0</th>\n",
       "      <td>28.0170</td>\n",
       "      <td>16</td>\n",
       "    </tr>\n",
       "    <tr>\n",
       "      <th>1</th>\n",
       "      <td>35.1333</td>\n",
       "      <td>82</td>\n",
       "    </tr>\n",
       "    <tr>\n",
       "      <th>2</th>\n",
       "      <td>5.3505</td>\n",
       "      <td>97</td>\n",
       "    </tr>\n",
       "    <tr>\n",
       "      <th>3</th>\n",
       "      <td>41.8069</td>\n",
       "      <td>97</td>\n",
       "    </tr>\n",
       "    <tr>\n",
       "      <th>4</th>\n",
       "      <td>-23.1203</td>\n",
       "      <td>11</td>\n",
       "    </tr>\n",
       "  </tbody>\n",
       "</table>\n",
       "</div>"
      ],
      "text/plain": [
       "   Latitude  Clouds\n",
       "0   28.0170      16\n",
       "1   35.1333      82\n",
       "2    5.3505      97\n",
       "3   41.8069      97\n",
       "4  -23.1203      11"
      ]
     },
     "execution_count": 13,
     "metadata": {},
     "output_type": "execute_result"
    }
   ],
   "source": [
    "#working on it,\r\n",
    "lat_vs_cloud = city_stat_pd.groupby(city_stat)[['Latitude','Clouds']]\r\n",
    "lat_vs_cloud.head()"
   ]
  },
  {
   "cell_type": "code",
   "execution_count": 15,
   "metadata": {},
   "outputs": [
    {
     "data": {
      "text/html": [
       "<div>\n",
       "<style scoped>\n",
       "    .dataframe tbody tr th:only-of-type {\n",
       "        vertical-align: middle;\n",
       "    }\n",
       "\n",
       "    .dataframe tbody tr th {\n",
       "        vertical-align: top;\n",
       "    }\n",
       "\n",
       "    .dataframe thead th {\n",
       "        text-align: right;\n",
       "    }\n",
       "</style>\n",
       "<table border=\"1\" class=\"dataframe\">\n",
       "  <thead>\n",
       "    <tr style=\"text-align: right;\">\n",
       "      <th></th>\n",
       "      <th>Latitude</th>\n",
       "      <th>Wind</th>\n",
       "    </tr>\n",
       "  </thead>\n",
       "  <tbody>\n",
       "    <tr>\n",
       "      <th>0</th>\n",
       "      <td>28.0170</td>\n",
       "      <td>17.65</td>\n",
       "    </tr>\n",
       "    <tr>\n",
       "      <th>1</th>\n",
       "      <td>35.1333</td>\n",
       "      <td>6.96</td>\n",
       "    </tr>\n",
       "    <tr>\n",
       "      <th>2</th>\n",
       "      <td>5.3505</td>\n",
       "      <td>25.46</td>\n",
       "    </tr>\n",
       "    <tr>\n",
       "      <th>3</th>\n",
       "      <td>41.8069</td>\n",
       "      <td>2.35</td>\n",
       "    </tr>\n",
       "    <tr>\n",
       "      <th>4</th>\n",
       "      <td>-23.1203</td>\n",
       "      <td>3.53</td>\n",
       "    </tr>\n",
       "  </tbody>\n",
       "</table>\n",
       "</div>"
      ],
      "text/plain": [
       "   Latitude   Wind\n",
       "0   28.0170  17.65\n",
       "1   35.1333   6.96\n",
       "2    5.3505  25.46\n",
       "3   41.8069   2.35\n",
       "4  -23.1203   3.53"
      ]
     },
     "execution_count": 15,
     "metadata": {},
     "output_type": "execute_result"
    }
   ],
   "source": [
    "lat_vs_wind = city_stat_pd.groupby(city_stat)[['Latitude', 'Wind']]\r\n",
    "lat_vs_wind.head()"
   ]
  },
  {
   "cell_type": "code",
   "execution_count": 17,
   "metadata": {},
   "outputs": [
    {
     "data": {
      "text/html": [
       "<div>\n",
       "<style scoped>\n",
       "    .dataframe tbody tr th:only-of-type {\n",
       "        vertical-align: middle;\n",
       "    }\n",
       "\n",
       "    .dataframe tbody tr th {\n",
       "        vertical-align: top;\n",
       "    }\n",
       "\n",
       "    .dataframe thead th {\n",
       "        text-align: right;\n",
       "    }\n",
       "</style>\n",
       "<table border=\"1\" class=\"dataframe\">\n",
       "  <thead>\n",
       "    <tr style=\"text-align: right;\">\n",
       "      <th></th>\n",
       "      <th>Lat</th>\n",
       "      <th>Lng</th>\n",
       "      <th>Max Temp</th>\n",
       "      <th>Humidity</th>\n",
       "      <th>Cloudiness</th>\n",
       "      <th>Wind Speed</th>\n",
       "      <th>Date</th>\n",
       "    </tr>\n",
       "  </thead>\n",
       "  <tbody>\n",
       "    <tr>\n",
       "      <th>count</th>\n",
       "      <td>1.0000</td>\n",
       "      <td>1.0000</td>\n",
       "      <td>1.00</td>\n",
       "      <td>1.0</td>\n",
       "      <td>1.0</td>\n",
       "      <td>1.00</td>\n",
       "      <td>1.000000e+00</td>\n",
       "    </tr>\n",
       "    <tr>\n",
       "      <th>mean</th>\n",
       "      <td>7.7102</td>\n",
       "      <td>81.6924</td>\n",
       "      <td>79.18</td>\n",
       "      <td>74.0</td>\n",
       "      <td>41.0</td>\n",
       "      <td>7.31</td>\n",
       "      <td>1.624662e+09</td>\n",
       "    </tr>\n",
       "    <tr>\n",
       "      <th>std</th>\n",
       "      <td>NaN</td>\n",
       "      <td>NaN</td>\n",
       "      <td>NaN</td>\n",
       "      <td>NaN</td>\n",
       "      <td>NaN</td>\n",
       "      <td>NaN</td>\n",
       "      <td>NaN</td>\n",
       "    </tr>\n",
       "    <tr>\n",
       "      <th>min</th>\n",
       "      <td>7.7102</td>\n",
       "      <td>81.6924</td>\n",
       "      <td>79.18</td>\n",
       "      <td>74.0</td>\n",
       "      <td>41.0</td>\n",
       "      <td>7.31</td>\n",
       "      <td>1.624662e+09</td>\n",
       "    </tr>\n",
       "    <tr>\n",
       "      <th>25%</th>\n",
       "      <td>7.7102</td>\n",
       "      <td>81.6924</td>\n",
       "      <td>79.18</td>\n",
       "      <td>74.0</td>\n",
       "      <td>41.0</td>\n",
       "      <td>7.31</td>\n",
       "      <td>1.624662e+09</td>\n",
       "    </tr>\n",
       "    <tr>\n",
       "      <th>50%</th>\n",
       "      <td>7.7102</td>\n",
       "      <td>81.6924</td>\n",
       "      <td>79.18</td>\n",
       "      <td>74.0</td>\n",
       "      <td>41.0</td>\n",
       "      <td>7.31</td>\n",
       "      <td>1.624662e+09</td>\n",
       "    </tr>\n",
       "    <tr>\n",
       "      <th>75%</th>\n",
       "      <td>7.7102</td>\n",
       "      <td>81.6924</td>\n",
       "      <td>79.18</td>\n",
       "      <td>74.0</td>\n",
       "      <td>41.0</td>\n",
       "      <td>7.31</td>\n",
       "      <td>1.624662e+09</td>\n",
       "    </tr>\n",
       "    <tr>\n",
       "      <th>max</th>\n",
       "      <td>7.7102</td>\n",
       "      <td>81.6924</td>\n",
       "      <td>79.18</td>\n",
       "      <td>74.0</td>\n",
       "      <td>41.0</td>\n",
       "      <td>7.31</td>\n",
       "      <td>1.624662e+09</td>\n",
       "    </tr>\n",
       "  </tbody>\n",
       "</table>\n",
       "</div>"
      ],
      "text/plain": [
       "          Lat      Lng  Max Temp  Humidity  Cloudiness  Wind Speed  \\\n",
       "count  1.0000   1.0000      1.00       1.0         1.0        1.00   \n",
       "mean   7.7102  81.6924     79.18      74.0        41.0        7.31   \n",
       "std       NaN      NaN       NaN       NaN         NaN         NaN   \n",
       "min    7.7102  81.6924     79.18      74.0        41.0        7.31   \n",
       "25%    7.7102  81.6924     79.18      74.0        41.0        7.31   \n",
       "50%    7.7102  81.6924     79.18      74.0        41.0        7.31   \n",
       "75%    7.7102  81.6924     79.18      74.0        41.0        7.31   \n",
       "max    7.7102  81.6924     79.18      74.0        41.0        7.31   \n",
       "\n",
       "               Date  \n",
       "count  1.000000e+00  \n",
       "mean   1.624662e+09  \n",
       "std             NaN  \n",
       "min    1.624662e+09  \n",
       "25%    1.624662e+09  \n",
       "50%    1.624662e+09  \n",
       "75%    1.624662e+09  \n",
       "max    1.624662e+09  "
      ]
     },
     "execution_count": 17,
     "metadata": {},
     "output_type": "execute_result"
    }
   ],
   "source": [
    "#working on it\r\n",
    "count = city_stat_pd.groupby(city_stat).count()\r\n",
    "mean = city_stat_pd.groupby(city_stat)[['Latitude']].mean()\r\n",
    "median = city_stat_pd.groupby(city_stat)[['Latitude']].median()\r\n",
    "standard_dv = city_stat_pd.std()\r\n",
    "weather_min = city_stat_pd.groupby(city_stat)[['Latitude']].min()\r\n",
    "weather_quartile = city_stat_pd.quantile([0.25,0.5,0.75])\r\n",
    "weather_max = city_stat_pd.groupby(city_stat)[['Latitude']].max()\r\n",
    "summary_df = pd.DataFrame({\"Lat\": [city_lat], \"Lng\": [city_lng], \"Max Temp\": [city_max_temp],\"Humidity\": [city_humidity], \"Cloudiness\": [city_clouds], \"Wind Speed\": [city_wind], \"Date\": [city_date]})\r\n",
    "summary_df.describe()\r\n",
    "\r\n",
    "    "
   ]
  },
  {
   "cell_type": "code",
   "execution_count": null,
   "metadata": {},
   "outputs": [],
   "source": []
  },
  {
   "cell_type": "markdown",
   "metadata": {},
   "source": [
    "## Inspect the data and remove the cities where the humidity > 100%.\n",
    "----\n",
    "Skip this step if there are no cities that have humidity > 100%. "
   ]
  },
  {
   "cell_type": "code",
   "execution_count": 43,
   "metadata": {},
   "outputs": [
    {
     "data": {
      "text/plain": [
       "74"
      ]
     },
     "execution_count": 43,
     "metadata": {},
     "output_type": "execute_result"
    }
   ],
   "source": [
    "max_humid = city_stat_pd.groupby(city_stat)[['Humidity']]\r\n",
    "max_humid = max([city_humidity])\r\n",
    "max_humid\r\n",
    "#max_humid = max('Humidity')\r\n",
    "\r\n",
    "#print('Max Humidity:', max_humid)"
   ]
  },
  {
   "cell_type": "code",
   "execution_count": null,
   "metadata": {},
   "outputs": [],
   "source": []
  },
  {
   "cell_type": "code",
   "execution_count": 19,
   "metadata": {},
   "outputs": [],
   "source": [
    "#  Get the indices of cities that have humidity over 100%.\n"
   ]
  },
  {
   "cell_type": "code",
   "execution_count": 20,
   "metadata": {},
   "outputs": [],
   "source": [
    "# Make a new DataFrame equal to the city data to drop all humidity outliers by index.\n",
    "# Passing \"inplace=False\" will make a copy of the city_data DataFrame, which we call \"clean_city_data\".\n"
   ]
  },
  {
   "cell_type": "code",
   "execution_count": null,
   "metadata": {},
   "outputs": [],
   "source": [
    "\n"
   ]
  },
  {
   "cell_type": "markdown",
   "metadata": {},
   "source": [
    "## Plotting the Data\n",
    "* Use proper labeling of the plots using plot titles (including date of analysis) and axes labels.\n",
    "* Save the plotted figures as .pngs."
   ]
  },
  {
   "cell_type": "markdown",
   "metadata": {},
   "source": [
    "## Latitude vs. Temperature Plot"
   ]
  },
  {
   "cell_type": "code",
   "execution_count": 44,
   "metadata": {
    "scrolled": true
   },
   "outputs": [
    {
     "data": {
      "image/png": "[encoded data removed]",
      "text/plain": [
       "<Figure size 432x288 with 1 Axes>"
      ]
     },
     "metadata": {
      "needs_background": "light"
     },
     "output_type": "display_data"
    }
   ],
   "source": [
    "lat_vs_temp = city_stat_pd.plot.scatter(x=\"Latitude\", y=\"Max Temperature\")\r\n",
    "plt.title('Latitude vs. Temperature')\r\n",
    "plt.ylabel('Max Temperature (F)')\r\n",
    "plt.savefig(\"output_data/LatvsTemp.png\")\r\n",
    "plt.show()"
   ]
  },
  {
   "cell_type": "markdown",
   "metadata": {},
   "source": [
    "## Latitude vs. Humidity Plot"
   ]
  },
  {
   "cell_type": "code",
   "execution_count": 45,
   "metadata": {},
   "outputs": [
    {
     "data": {
      "image/png": "[encoded data removed]",
      "text/plain": [
       "<Figure size 432x288 with 1 Axes>"
      ]
     },
     "metadata": {
      "needs_background": "light"
     },
     "output_type": "display_data"
    }
   ],
   "source": [
    "lat_vs_humid = city_stat_pd.plot.scatter(x ='Latitude', y ='Humidity')\r\n",
    "plt.title('Latitude vs. Humidity')\r\n",
    "plt.ylabel('Humidity (%)')\r\n",
    "plt.savefig(\"output_data/LatvsHum.png\")\r\n",
    "plt.show()"
   ]
  },
  {
   "cell_type": "markdown",
   "metadata": {},
   "source": [
    "## Latitude vs. Cloudiness Plot"
   ]
  },
  {
   "cell_type": "code",
   "execution_count": 46,
   "metadata": {},
   "outputs": [
    {
     "data": {
      "image/png": "[encoded data removed]",
      "text/plain": [
       "<Figure size 432x288 with 1 Axes>"
      ]
     },
     "metadata": {
      "needs_background": "light"
     },
     "output_type": "display_data"
    }
   ],
   "source": [
    "lat_vs_cloud = city_stat_pd.plot.scatter(x='Latitude', y ='Clouds')\r\n",
    "plt.title('Latitude vs. Cloudiness')\r\n",
    "plt.ylabel('Cloudiness (%)')\r\n",
    "plt.savefig(\"output_data/LatvsCloud.png\")\r\n",
    "plt.show()"
   ]
  },
  {
   "cell_type": "markdown",
   "metadata": {},
   "source": [
    "## Latitude vs. Wind Speed Plot"
   ]
  },
  {
   "cell_type": "code",
   "execution_count": 47,
   "metadata": {},
   "outputs": [
    {
     "data": {
      "image/png": "[encoded data removed]",
      "text/plain": [
       "<Figure size 432x288 with 1 Axes>"
      ]
     },
     "metadata": {
      "needs_background": "light"
     },
     "output_type": "display_data"
    }
   ],
   "source": [
    "lat_vs_wind = city_stat_pd.plot.scatter(x = 'Latitude', y ='Wind')\r\n",
    "plt.title('Latitude vs. Wind Speed')\r\n",
    "plt.ylabel('Wind Speed (mph)')\r\n",
    "plt.savefig(\"output_data/LatvsWind.png\")\r\n",
    "plt.show()"
   ]
  },
  {
   "cell_type": "markdown",
   "metadata": {},
   "source": [
    "## Linear Regression"
   ]
  },
  {
   "cell_type": "code",
   "execution_count": 25,
   "metadata": {},
   "outputs": [],
   "source": [
    "north_hemisphere_df = city_stat_pd.loc[(city_stat_pd[\"Latitude\"]>= 0)]\r\n",
    "south_hemisphere_df = city_stat_pd.loc[(city_stat_pd[\"Latitude\"]< 0)]"
   ]
  },
  {
   "cell_type": "code",
   "execution_count": 26,
   "metadata": {},
   "outputs": [],
   "source": [
    "def plot_linear_regression(x_values, y_values, title, text_coordinates):\r\n",
    "\r\n",
    "    (slope, intercept, rvalue, pvalue, stderr) = linregress(x_values, y_values)\r\n",
    "    regress_values = x_values * slope + intercept\r\n",
    "    line_eq = \"y = \" + str(round(slope,2)) + \"x + \" + str(round(intercept,2))\r\n",
    "\r\n",
    "\r\n",
    "    plt.scatter(x_values,y_values)\r\n",
    "    plt.plot(x_values,regress_values,\"r-\")\r\n",
    "    plt.annotate(line_eq,text_coordinates,fontsize=18,color=\"red\")\r\n",
    "    plt.xlabel('Latitude')\r\n",
    "    plt.ylabel(title)\r\n",
    "    print(f\"The r-value is: {rvalue**2}\")\r\n",
    "    plt.show()\r\n"
   ]
  },
  {
   "cell_type": "markdown",
   "metadata": {},
   "source": [
    "####  Northern Hemisphere - Max Temp vs. Latitude Linear Regression"
   ]
  },
  {
   "cell_type": "code",
   "execution_count": 53,
   "metadata": {},
   "outputs": [
    {
     "name": "stdout",
     "output_type": "stream",
     "text": [
      "The r-value is: 0.46285550152878113\n"
     ]
    },
    {
     "data": {
      "image/png": "[encoded data removed]",
      "text/plain": [
       "<Figure size 432x288 with 1 Axes>"
      ]
     },
     "metadata": {
      "needs_background": "light"
     },
     "output_type": "display_data"
    }
   ],
   "source": [
    "x_values = north_hemisphere_df[\"Latitude\"]\r\n",
    "y_values = north_hemisphere_df[\"Max Temperature\"]\r\n",
    "plot_linear_regression(x_values, y_values, 'Max Temperature', (6,14))\r\n",
    "plt.show()\r\n"
   ]
  },
  {
   "cell_type": "markdown",
   "metadata": {},
   "source": [
    "####  Southern Hemisphere - Max Temp vs. Latitude Linear Regression"
   ]
  },
  {
   "cell_type": "code",
   "execution_count": 28,
   "metadata": {},
   "outputs": [
    {
     "name": "stdout",
     "output_type": "stream",
     "text": [
      "The r-value is: 0.6130757663136397\n"
     ]
    },
    {
     "data": {
      "image/png": "[encoded data removed]",
      "text/plain": [
       "<Figure size 432x288 with 1 Axes>"
      ]
     },
     "metadata": {
      "needs_background": "light"
     },
     "output_type": "display_data"
    }
   ],
   "source": [
    "x_values = south_hemisphere_df[\"Latitude\"]\r\n",
    "y_values = south_hemisphere_df[\"Max Temperature\"]\r\n",
    "plot_linear_regression(x_values, y_values, 'Max Temperature', (6,14))\r\n",
    "plt.show()"
   ]
  },
  {
   "cell_type": "markdown",
   "metadata": {},
   "source": [
    "####  Northern Hemisphere - Humidity (%) vs. Latitude Linear Regression"
   ]
  },
  {
   "cell_type": "code",
   "execution_count": 29,
   "metadata": {},
   "outputs": [
    {
     "name": "stdout",
     "output_type": "stream",
     "text": [
      "The r-value is: 0.00044109736051723666\n"
     ]
    },
    {
     "data": {
      "image/png": "[encoded data removed]",
      "text/plain": [
       "<Figure size 432x288 with 1 Axes>"
      ]
     },
     "metadata": {
      "needs_background": "light"
     },
     "output_type": "display_data"
    }
   ],
   "source": [
    "x_values = north_hemisphere_df[\"Latitude\"]\r\n",
    "y_values = north_hemisphere_df[\"Humidity\"]\r\n",
    "plot_linear_regression(x_values, y_values, 'Humidity', (6,14))\r\n",
    "plt.show()"
   ]
  },
  {
   "cell_type": "markdown",
   "metadata": {},
   "source": [
    "####  Southern Hemisphere - Humidity (%) vs. Latitude Linear Regression"
   ]
  },
  {
   "cell_type": "code",
   "execution_count": 30,
   "metadata": {},
   "outputs": [
    {
     "name": "stdout",
     "output_type": "stream",
     "text": [
      "The r-value is: 0.0005004374140599159\n"
     ]
    },
    {
     "data": {
      "image/png": "[encoded data removed]",
      "text/plain": [
       "<Figure size 432x288 with 1 Axes>"
      ]
     },
     "metadata": {
      "needs_background": "light"
     },
     "output_type": "display_data"
    }
   ],
   "source": [
    "x_values = south_hemisphere_df[\"Latitude\"]\r\n",
    "y_values = south_hemisphere_df[\"Humidity\"]\r\n",
    "plot_linear_regression(x_values, y_values, 'Humidity', (6,14))\r\n",
    "plt.show() "
   ]
  },
  {
   "cell_type": "markdown",
   "metadata": {},
   "source": [
    "####  Northern Hemisphere - Cloudiness (%) vs. Latitude Linear Regression"
   ]
  },
  {
   "cell_type": "code",
   "execution_count": 31,
   "metadata": {},
   "outputs": [
    {
     "name": "stdout",
     "output_type": "stream",
     "text": [
      "The r-value is: 4.3054590010854604e-05\n"
     ]
    },
    {
     "data": {
      "image/png": "[encoded data removed]",
      "text/plain": [
       "<Figure size 432x288 with 1 Axes>"
      ]
     },
     "metadata": {
      "needs_background": "light"
     },
     "output_type": "display_data"
    }
   ],
   "source": [
    "x_values = north_hemisphere_df[\"Latitude\"]\r\n",
    "y_values = north_hemisphere_df[\"Clouds\"]\r\n",
    "plot_linear_regression(x_values, y_values, 'Cloudiness', (6,14))\r\n",
    "plt.show()"
   ]
  },
  {
   "cell_type": "markdown",
   "metadata": {},
   "source": [
    "####  Southern Hemisphere - Cloudiness (%) vs. Latitude Linear Regression"
   ]
  },
  {
   "cell_type": "code",
   "execution_count": 32,
   "metadata": {},
   "outputs": [
    {
     "name": "stdout",
     "output_type": "stream",
     "text": [
      "The r-value is: 0.004964711775762697\n"
     ]
    },
    {
     "data": {
      "image/png": "[encoded data removed]",
      "text/plain": [
       "<Figure size 432x288 with 1 Axes>"
      ]
     },
     "metadata": {
      "needs_background": "light"
     },
     "output_type": "display_data"
    }
   ],
   "source": [
    "x_values = south_hemisphere_df[\"Latitude\"]\r\n",
    "y_values = south_hemisphere_df[\"Clouds\"]\r\n",
    "plot_linear_regression(x_values, y_values, 'Cloudiness', (6,14))\r\n",
    "plt.show()"
   ]
  },
  {
   "cell_type": "markdown",
   "metadata": {},
   "source": [
    "####  Northern Hemisphere - Wind Speed (mph) vs. Latitude Linear Regression"
   ]
  },
  {
   "cell_type": "code",
   "execution_count": 33,
   "metadata": {},
   "outputs": [
    {
     "name": "stdout",
     "output_type": "stream",
     "text": [
      "The r-value is: 0.011048967613440753\n"
     ]
    },
    {
     "data": {
      "image/png": "[encoded data removed]",
      "text/plain": [
       "<Figure size 432x288 with 1 Axes>"
      ]
     },
     "metadata": {
      "needs_background": "light"
     },
     "output_type": "display_data"
    }
   ],
   "source": [
    "x_values = north_hemisphere_df[\"Latitude\"]\r\n",
    "y_values = north_hemisphere_df[\"Wind\"]\r\n",
    "plot_linear_regression(x_values, y_values, 'Wind Speed', (6,14))\r\n",
    "plt.show()"
   ]
  },
  {
   "cell_type": "markdown",
   "metadata": {},
   "source": [
    "####  Southern Hemisphere - Wind Speed (mph) vs. Latitude Linear Regression"
   ]
  },
  {
   "cell_type": "code",
   "execution_count": 34,
   "metadata": {},
   "outputs": [
    {
     "name": "stdout",
     "output_type": "stream",
     "text": [
      "The r-value is: 0.021309451496906245\n"
     ]
    },
    {
     "data": {
      "image/png": "[encoded data removed]",
      "text/plain": [
       "<Figure size 432x288 with 1 Axes>"
      ]
     },
     "metadata": {
      "needs_background": "light"
     },
     "output_type": "display_data"
    }
   ],
   "source": [
    "x_values = south_hemisphere_df[\"Latitude\"]\r\n",
    "y_values = south_hemisphere_df[\"Wind\"]\r\n",
    "plot_linear_regression(x_values, y_values, 'Wind Speed', (6,14))\r\n",
    "plt.show()\r\n"
   ]
  },
  {
   "cell_type": "code",
   "execution_count": null,
   "metadata": {},
   "outputs": [],
   "source": []
  }
 ],
 "metadata": {
  "anaconda-cloud": {},
  "interpreter": {
   "hash": "61ee4eedbb40f6b204db7353fb8ee3c1ac35e9b22dd076c003bd79c74bdea4cf"
  },
  "kernel_info": {
   "name": "python3"
  },
  "kernelspec": {
   "display_name": "Python 3.6.10 64-bit ('PythonData': conda)",
   "name": "python3"
  },
  "language_info": {
   "codemirror_mode": {
    "name": "ipython",
    "version": 3
   },
   "file_extension": ".py",
   "mimetype": "text/x-python",
   "name": "python",
   "nbconvert_exporter": "python",
   "pygments_lexer": "ipython3",
   "version": "3.6.10"
  },
  "latex_envs": {
   "LaTeX_envs_menu_present": true,
   "autoclose": false,
   "autocomplete": true,
   "bibliofile": "biblio.bib",
   "cite_by": "apalike",
   "current_citInitial": 1,
   "eqLabelWithNumbers": true,
   "eqNumInitial": 1,
   "hotkeys": {
    "equation": "Ctrl-E",
    "itemize": "Ctrl-I"
   },
   "labels_anchors": false,
   "latex_user_defs": false,
   "report_style_numbering": false,
   "user_envs_cfg": false
  },
  "nteract": {
   "version": "0.12.3"
  }
 },
 "nbformat": 4,
 "nbformat_minor": 2
}